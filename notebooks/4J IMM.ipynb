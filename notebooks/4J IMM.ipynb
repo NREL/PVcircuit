{
 "cells": [
  {
   "cell_type": "code",
   "execution_count": 1,
   "id": "9f2116e7",
   "metadata": {},
   "outputs": [],
   "source": [
    "%load_ext autoreload\n",
    "%autoreload 2"
   ]
  },
  {
   "cell_type": "code",
   "execution_count": 2,
   "id": "35e3d9d6",
   "metadata": {},
   "outputs": [],
   "source": [
    "import pandas as pd\n",
    "import numpy as np\n",
    "%matplotlib inline\n",
    "import matplotlib.pyplot as plt\n",
    "import pvcircuit as pvc\n",
    "import ipywidgets as widgets\n",
    "%matplotlib inline\n",
    "#import ipympl\n",
    "#%matplotlib widget"
   ]
  },
  {
   "cell_type": "markdown",
   "id": "d7f55d10",
   "metadata": {},
   "source": [
    "# 4J IMM solar cell (MM927) from:\n",
    "###  J. F. Geisz, et al., IEEE Journal of Photovoltaics __5__, 1827 (2015). "
   ]
  },
  {
   "cell_type": "code",
   "execution_count": 3,
   "id": "744090fe",
   "metadata": {},
   "outputs": [],
   "source": [
    "totalarea=1.15\n",
    "MM927 = pvc.Multi2T(name='MM927',Eg_list = [1.83,1.404,1.049,0.743], Jext=.012, Rser=0.1,area=1)\n",
    "MM927.j[0].set(Jext=0.01196,n=[1,1.6],J0ratio=[31,4.5],totalarea=totalarea)\n",
    "MM927.j[1].set(Jext=0.01149,n=[1,1.8],J0ratio=[17,42],beta=14.3,totalarea=totalarea)\n",
    "MM927.j[2].set(Jext=0.01135,n=[1,1.4],J0ratio=[51,14],beta=8.6,totalarea=totalarea)\n",
    "MM927.j[3].set(Jext=0.01228,n=[1,1.5],J0ratio=[173,79],beta=10.5,totalarea=totalarea)\n",
    "MM927.j[3].RBB_dict={'method':'JFG', 'mrb':43., 'J0rb':0.3, 'Vrb':0.}"
   ]
  },
  {
   "cell_type": "code",
   "execution_count": 4,
   "id": "e705e61f",
   "metadata": {},
   "outputs": [
    {
     "data": {
      "application/vnd.jupyter.widget-view+json": {
       "model_id": "b921e67f35f94507aa42aa0f1a0de706",
       "version_major": 2,
       "version_minor": 0
      },
      "text/plain": [
       "VBox(children=(HBox(children=(Text(value='MM927', description='name', layout=Layout(width='200px')), BoundedFl…"
      ]
     },
     "metadata": {},
     "output_type": "display_data"
    }
   ],
   "source": [
    "MM927.controls()"
   ]
  },
  {
   "cell_type": "code",
   "execution_count": 5,
   "id": "34559322",
   "metadata": {},
   "outputs": [
    {
     "name": "stdout",
     "output_type": "stream",
     "text": [
      " 0.3030 s\n"
     ]
    },
    {
     "data": {
      "application/vnd.jupyter.widget-view+json": {
       "model_id": "9fb6caaa9382447f99f1bf8d02f0f6b2",
       "version_major": 2,
       "version_minor": 0
      },
      "text/plain": [
       "Canvas(toolbar=Toolbar(toolitems=[('Home', 'Reset original view', 'home', 'home'), ('Back', 'Back to previous …"
      ]
     },
     "metadata": {},
     "output_type": "display_data"
    },
    {
     "data": {
      "application/vnd.jupyter.widget-view+json": {
       "model_id": "f5c2043ac9c249128659f41f11321966",
       "version_major": 2,
       "version_minor": 0
      },
      "text/plain": [
       "Canvas(toolbar=Toolbar(toolitems=[('Home', 'Reset original view', 'home', 'home'), ('Back', 'Back to previous …"
      ]
     },
     "metadata": {},
     "output_type": "display_data"
    },
    {
     "name": "stdout",
     "output_type": "stream",
     "text": [
      " 2.1758 s\n"
     ]
    }
   ],
   "source": [
    "dfig, lfig, dax, lax, Vlight, Ilight = MM927.plot()"
   ]
  },
  {
   "cell_type": "code",
   "execution_count": 6,
   "id": "ef1f52c6",
   "metadata": {},
   "outputs": [
    {
     "name": "stdout",
     "output_type": "stream",
     "text": [
      " 0.2997 s\n"
     ]
    },
    {
     "data": {
      "text/plain": [
       "{'Voc': 3.425330977574876,\n",
       " 'Isc': 0.011350991117526023,\n",
       " 'Vmp': 3.0129358068534247,\n",
       " 'Imp': 0.011073118854968986,\n",
       " 'Pmp': 0.033362596291679855,\n",
       " 'FF': 0.8580715725119747}"
      ]
     },
     "execution_count": 6,
     "metadata": {},
     "output_type": "execute_result"
    }
   ],
   "source": [
    "MM927.MPP()"
   ]
  },
  {
   "cell_type": "code",
   "execution_count": null,
   "id": "df44aea4",
   "metadata": {},
   "outputs": [],
   "source": []
  }
 ],
 "metadata": {
  "kernelspec": {
   "display_name": "Python 3 (ipykernel)",
   "language": "python",
   "name": "python3"
  },
  "language_info": {
   "codemirror_mode": {
    "name": "ipython",
    "version": 3
   },
   "file_extension": ".py",
   "mimetype": "text/x-python",
   "name": "python",
   "nbconvert_exporter": "python",
   "pygments_lexer": "ipython3",
   "version": "3.9.7"
  }
 },
 "nbformat": 4,
 "nbformat_minor": 5
}
