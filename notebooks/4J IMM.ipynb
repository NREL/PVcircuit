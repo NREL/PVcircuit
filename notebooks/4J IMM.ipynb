{
 "cells": [
  {
   "cell_type": "code",
   "execution_count": 1,
   "id": "9f2116e7",
   "metadata": {},
   "outputs": [],
   "source": [
    "%load_ext autoreload\n",
    "%autoreload 2"
   ]
  },
  {
   "cell_type": "code",
   "execution_count": 2,
   "id": "35e3d9d6",
   "metadata": {},
   "outputs": [],
   "source": [
    "import pandas as pd\n",
    "import numpy as np\n",
    "%matplotlib inline\n",
    "import matplotlib.pyplot as plt\n",
    "import pvcircuit as pvc\n",
    "import ipywidgets as widgets\n",
    "#%matplotlib inline\n",
    "#import ipympl\n",
    "%matplotlib widget"
   ]
  },
  {
   "cell_type": "markdown",
   "id": "d7f55d10",
   "metadata": {},
   "source": [
    "# 4J IMM solar cell (MM927) from:\n",
    "###  J. F. Geisz, et al., IEEE Journal of Photovoltaics __5__, 1827 (2015). "
   ]
  },
  {
   "cell_type": "code",
   "execution_count": 3,
   "id": "d316a12a-7ca5-4352-ad21-b81eaf1abfcc",
   "metadata": {},
   "outputs": [],
   "source": [
    "# data MM927\n",
    "path = '../data/'\n",
    "ELcsv = 'MM927Bn10EL.csv'\n",
    "JVscv = 'MM927Bn10JV.csv'\n",
    "dfEL = pd.read_csv(path+ELcsv, index_col=0)\n",
    "dfJV = pd.read_csv(path+JVscv, index_col=0)\n",
    "#parse\n",
    "data_I0=np.array(dfEL['J0'])/1000.  #->A\n",
    "data_V0=np.array(dfEL['V0'])\n",
    "data_I1=np.array(dfEL['J1'])/1000.  #->A\n",
    "data_V1=np.array(dfEL['V1'])\n",
    "data_I2=np.array(dfEL['J2'])/1000.  #->A\n",
    "data_V2=np.array(dfEL['V2'])\n",
    "data_I3=np.array(dfEL['J3'])/1000.  #->A\n",
    "data_V3=np.array(dfEL['V3'])\n",
    "data_Itot=np.array(dfEL['Jtot'])/1000.  #->A\n",
    "data_Vtot=np.array(dfEL['Vtot'])\n",
    "\n",
    "data_darkV=np.array(dfJV.index)\n",
    "data_darkI=np.array(dfJV['Jdark'])/1000.  #->A\n",
    "data_lightV=np.array(dfJV['Vlight'])\n",
    "data_lightI=np.array(dfJV['Jlight'])/1000.  #->A"
   ]
  },
  {
   "cell_type": "code",
   "execution_count": 4,
   "id": "72fbdbdb-eee9-41f8-8662-b7158c884e37",
   "metadata": {},
   "outputs": [],
   "source": [
    "# 4J model\n",
    "totalarea=1.15\n",
    "MM927 = pvc.Multi2T(name='MM927',Eg_list = [1.83,1.404,1.049,0.743], Jext=.012, Rs2T=0.1,area=1)\n",
    "MM927.j[0].set(Jext=0.01196,n=[1,1.6],J0ratio=[31,4.5],totalarea=totalarea)\n",
    "MM927.j[1].set(Jext=0.01149,n=[1,1.8],J0ratio=[17,42],beta=14.3,totalarea=totalarea)\n",
    "MM927.j[2].set(Jext=0.01135,n=[1,1.4],J0ratio=[51,14],beta=8.6,totalarea=totalarea)\n",
    "MM927.j[3].set(Jext=0.01228,n=[1,1.5],J0ratio=[173,79],beta=10.5,totalarea=totalarea)\n",
    "MM927.j[3].RBB_dict={'method':'JFG', 'mrb':43., 'J0rb':0.3, 'Vrb':0.}"
   ]
  },
  {
   "cell_type": "code",
   "execution_count": 5,
   "id": "e705e61f",
   "metadata": {},
   "outputs": [
    {
     "data": {
      "application/vnd.jupyter.widget-view+json": {
       "model_id": "263f2da4a189490291d413f5802878ad",
       "version_major": 2,
       "version_minor": 0
      },
      "text/plain": [
       "VBox(children=(HBox(children=(Output(), Output()), layout=Layout(display='flex', flex_flow='row', justify_cont…"
      ]
     },
     "metadata": {},
     "output_type": "display_data"
    }
   ],
   "source": [
    "ui, dax, lax =  MM927.controls()\n",
    "ui"
   ]
  },
  {
   "cell_type": "code",
   "execution_count": 6,
   "id": "fc908aa2-60a8-405f-ae73-42cb9e5e7f30",
   "metadata": {},
   "outputs": [
    {
     "data": {
      "text/plain": [
       "[<matplotlib.lines.Line2D at 0x7fac2adf0490>]"
      ]
     },
     "execution_count": 6,
     "metadata": {},
     "output_type": "execute_result"
    }
   ],
   "source": [
    "# add data to interactive plots\n",
    "dax.plot(data_darkV, data_darkI, c='blue', lw=0, marker='.', label='pdata', zorder=0)\n",
    "#dax.plot(data_darkV, -data_darkI, c='blue', lw=0, marker='.', label='ndata', zorder=0)\n",
    "lax.plot(data_darkV, data_darkI*1000, c='blue', lw=0, marker='.', label='ddata', zorder=0)\n",
    "lax.plot(data_lightV, data_lightI*1000, c='red', lw=0, marker='.', label='ldata', zorder=0)\n",
    "dax.plot(data_V0, data_I0, c='lightblue', lw=0, marker='s', ms=8, fillstyle='none', label='I0', zorder=1)\n",
    "dax.plot(data_V1, data_I1, c='green', lw=0, marker='s', ms=8, fillstyle='none', label='I1', zorder=1)\n",
    "dax.plot(data_V2, data_I2, c='purple', lw=0, marker='s', ms=8, fillstyle='none', label='I2', zorder=1)\n",
    "dax.plot(data_V3, data_I3, c='pink', lw=0, marker='s', ms=8, fillstyle='none', label='I3', zorder=1)\n",
    "dax.plot(data_Vtot, data_Itot, c='blue', lw=0, marker='s', ms=8, fillstyle='none', label='Itot', zorder=1)"
   ]
  },
  {
   "cell_type": "code",
   "execution_count": 7,
   "id": "b1ef0475-afe7-417d-a4a0-a4e63d09e62c",
   "metadata": {},
   "outputs": [
    {
     "data": {
      "text/plain": [
       "MM927: <tandem.Multi2T class>\n",
       "T = 25.0 C, Rs2T= 0.1 Ω cm2\n",
       "\n",
       "j[0]: <tandem.Junction class>\n",
       "Eg = 1.83 eV, TC = 25.0 C\n",
       "Jext = 12.0 , JLC = 0.0 mA/cm2\n",
       "Gsh = 0 S/cm2, Rser = 0 Ωcm2\n",
       "lightA = 1 cm2, totalA = 1.15 cm2\n",
       "pn = -1, beta = 0, gamma = 0\n",
       "   n    J0ratio   J0(A/cm2) \n",
       "  db       1      1.633e-28 \n",
       " 1.00    31.00    5.064e-27 \n",
       " 1.60     4.50    1.450e-18 \n",
       "\n",
       "j[1]: <tandem.Junction class>\n",
       "Eg = 1.40 eV, TC = 25.0 C\n",
       "Jext = 11.5 , JLC = 3.9 mA/cm2\n",
       "Gsh = 0 S/cm2, Rser = 0 Ωcm2\n",
       "lightA = 1 cm2, totalA = 1.15 cm2\n",
       "pn = -1, beta = 14.3, gamma = 0\n",
       "   n    J0ratio   J0(A/cm2) \n",
       "  db       1      1.540e-21 \n",
       " 1.00    17.00    2.618e-20 \n",
       " 1.80    42.00    5.339e-12 \n",
       "\n",
       "j[2]: <tandem.Junction class>\n",
       "Eg = 1.05 eV, TC = 25.0 C\n",
       "Jext = 11.4 , JLC = 0.9 mA/cm2\n",
       "Gsh = 0 S/cm2, Rser = 0 Ωcm2\n",
       "lightA = 1 cm2, totalA = 1.15 cm2\n",
       "pn = -1, beta = 8.6, gamma = 0\n",
       "   n    J0ratio   J0(A/cm2) \n",
       "  db       1      8.719e-16 \n",
       " 1.00    51.00    4.447e-14 \n",
       " 1.40    14.00    3.405e-11 \n",
       "\n",
       "j[3]: <tandem.Junction class>\n",
       "Eg = 0.74 eV, TC = 25.0 C\n",
       "Jext = 12.3 , JLC = 1.5 mA/cm2\n",
       "Gsh = 0 S/cm2, Rser = 0 Ωcm2\n",
       "lightA = 1 cm2, totalA = 1.15 cm2\n",
       "pn = -1, beta = 10.5, gamma = 0\n",
       "   n    J0ratio   J0(A/cm2) \n",
       "  db       1      6.639e-11 \n",
       " 1.00    173.00   1.149e-08 \n",
       " 1.50    79.00    1.295e-06  \n",
       "RBB_dict: {'method': 'JFG', 'mrb': 43.0, 'J0rb': 0.3, 'Vrb': 0.0}"
      ]
     },
     "execution_count": 7,
     "metadata": {},
     "output_type": "execute_result"
    }
   ],
   "source": [
    "MM927"
   ]
  },
  {
   "cell_type": "code",
   "execution_count": null,
   "id": "5dd5e423-b857-4f03-8153-0746f5f58dfd",
   "metadata": {},
   "outputs": [],
   "source": []
  }
 ],
 "metadata": {
  "kernelspec": {
   "display_name": "Python 3 (ipykernel)",
   "language": "python",
   "name": "python3"
  },
  "language_info": {
   "codemirror_mode": {
    "name": "ipython",
    "version": 3
   },
   "file_extension": ".py",
   "mimetype": "text/x-python",
   "name": "python",
   "nbconvert_exporter": "python",
   "pygments_lexer": "ipython3",
   "version": "3.9.7"
  }
 },
 "nbformat": 4,
 "nbformat_minor": 5
}
