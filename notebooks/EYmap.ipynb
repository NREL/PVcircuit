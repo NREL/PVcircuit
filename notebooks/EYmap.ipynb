{
 "cells": [
  {
   "cell_type": "code",
   "execution_count": 1,
   "id": "072f4ead-c84f-4d30-92db-339f2a2f1bdd",
   "metadata": {},
   "outputs": [],
   "source": [
    "%load_ext autoreload\n",
    "%autoreload 2"
   ]
  },
  {
   "cell_type": "markdown",
   "id": "f8c7846a-4fa0-4f56-bdad-1bf1ca74d75c",
   "metadata": {},
   "source": [
    "## test EY mapping of all US locations"
   ]
  },
  {
   "cell_type": "code",
   "execution_count": 2,
   "id": "28b99cd5-6d5d-4372-96ab-16690dd356fd",
   "metadata": {},
   "outputs": [
    {
     "name": "stdout",
     "output_type": "stream",
     "text": [
      "Tandems version 0.989\n",
      "Data path is:  /Users/jgeisz/Documents/GitHub/Tandems/tandems/data/\n"
     ]
    }
   ],
   "source": [
    "import pandas as pd\n",
    "import numpy as np\n",
    "import matplotlib.pyplot as plt\n",
    "import pvcircuit as pvc\n",
    "import ipywidgets as widgets\n",
    "%matplotlib widget"
   ]
  },
  {
   "cell_type": "code",
   "execution_count": 3,
   "id": "cdb2b570-ce30-4bba-8dcb-341a2910d80f",
   "metadata": {},
   "outputs": [],
   "source": [
    "#load borders\n",
    "path = pvc.datapath\n",
    "file = 'USA_borders.csv'\n",
    "dfBorders  = pd.read_csv(path+file, index_col=False, header=0)\n",
    "\n",
    "#import EQE of WB417\n",
    "file = 'WB417n6_C_EQE.csv'\n",
    "df2J = pd.read_csv(path+file, index_col=0)\n",
    "WB417_EQE = df2J.to_numpy(dtype=np.float64, copy=True) #numpy.ndarray\n",
    "WB417_xEQE = df2J.index.to_numpy(dtype=np.float64, copy=True) #numpy.ndarray\n",
    "EQE2J = pvc.EQE(WB417_EQE, WB417_xEQE, 'WB417_EQE')  #EQE class\n",
    "EQE2J.sjuncs = ['GaInP','GaAs']  #rename junctions\n",
    "\n",
    "#models of WB417\n",
    "dev3T = pvc.Tandem3T()\n",
    "dev3T.set(name='WB417dev3T', Rz = 2.3)\n",
    "dev3T.top.set(Eg=1.87, J0ratio=[ 80., 22.], Jext=0.0131, Gsh=1e-8)   \n",
    "dev3T.bot.set(Eg=1.419, J0ratio=[10., 15.], Jext=0.0128, Gsh= 5e-5)\n",
    "dev3T.bot.set(Rser=0.2, beta=5, area=0.89)\n",
    "dev2T = pvc.Multi2T.copy3T(dev3T)"
   ]
  },
  {
   "cell_type": "code",
   "execution_count": 4,
   "id": "099ed71a-272a-47c5-a246-196ca4c94383",
   "metadata": {},
   "outputs": [],
   "source": [
    "#load TMY at each location\n",
    "USAaxis = [] # list of TMY at different locations\n",
    "nloc = len(pvc.EY.clst_axis)\n",
    "#nloc = 10\n",
    "for i in range(nloc):\n",
    "    USAaxis.append(pvc.TMY(i)) #add another TMY to the list\n",
    "    #print(i,USAaxis[i].name)"
   ]
  },
  {
   "cell_type": "code",
   "execution_count": 5,
   "id": "d42c7815-d4c5-4c91-b0e9-bb30ca6956f0",
   "metadata": {},
   "outputs": [
    {
     "ename": "ValueError",
     "evalue": "attempt to get argmax of an empty sequence",
     "output_type": "error",
     "traceback": [
      "\u001b[0;31m---------------------------------------------------------------------------\u001b[0m",
      "\u001b[0;31mValueError\u001b[0m                                Traceback (most recent call last)",
      "Input \u001b[0;32mIn [5]\u001b[0m, in \u001b[0;36m<cell line: 9>\u001b[0;34m()\u001b[0m\n\u001b[1;32m     13\u001b[0m         STCeff \u001b[38;5;241m=\u001b[39m TMY\u001b[38;5;241m.\u001b[39mcellSTCeff(model,oper)\n\u001b[1;32m     15\u001b[0m     TMY\u001b[38;5;241m.\u001b[39mcellcurrents(EQE2J) \u001b[38;5;66;03m#calculate currents at each location and spectrum\u001b[39;00m\n\u001b[0;32m---> 16\u001b[0m     EY, EYeff \u001b[38;5;241m=\u001b[39m \u001b[43mTMY\u001b[49m\u001b[38;5;241;43m.\u001b[39;49m\u001b[43mcellEYeff\u001b[49m\u001b[43m(\u001b[49m\u001b[43mmodel\u001b[49m\u001b[43m,\u001b[49m\u001b[43moper\u001b[49m\u001b[43m)\u001b[49m\n\u001b[1;32m     17\u001b[0m     loc\u001b[38;5;241m.\u001b[39mappend([TMY\u001b[38;5;241m.\u001b[39mlongitude, TMY\u001b[38;5;241m.\u001b[39mlatitude, TMY\u001b[38;5;241m.\u001b[39maltitude, TMY\u001b[38;5;241m.\u001b[39mYearlyEnergy, EY, EYeff, STCeff])\n\u001b[1;32m     19\u001b[0m nploc \u001b[38;5;241m=\u001b[39m np\u001b[38;5;241m.\u001b[39marray(loc)\n",
      "File \u001b[0;32m~/Documents/GitHub/PVcircuit/pvcircuit/EY.py:275\u001b[0m, in \u001b[0;36mTMY.cellEYeff\u001b[0;34m(self, model, oper)\u001b[0m\n\u001b[1;32m    273\u001b[0m     iv3T \u001b[38;5;241m=\u001b[39m model\u001b[38;5;241m.\u001b[39mMPP()\n\u001b[1;32m    274\u001b[0m \u001b[38;5;28;01melif\u001b[39;00m oper \u001b[38;5;241m==\u001b[39m \u001b[38;5;124m'\u001b[39m\u001b[38;5;124mCM\u001b[39m\u001b[38;5;124m'\u001b[39m:\n\u001b[0;32m--> 275\u001b[0m     ln, iv3T \u001b[38;5;241m=\u001b[39m \u001b[43mmodel\u001b[49m\u001b[38;5;241;43m.\u001b[39;49m\u001b[43mCM\u001b[49m\u001b[43m(\u001b[49m\u001b[43m)\u001b[49m\n\u001b[1;32m    276\u001b[0m \u001b[38;5;28;01melif\u001b[39;00m oper[:\u001b[38;5;241m2\u001b[39m] \u001b[38;5;241m==\u001b[39m \u001b[38;5;124m'\u001b[39m\u001b[38;5;124mVM\u001b[39m\u001b[38;5;124m'\u001b[39m:               \n\u001b[1;32m    277\u001b[0m      ln, iv3T \u001b[38;5;241m=\u001b[39m model\u001b[38;5;241m.\u001b[39mVM(bot,top)\n",
      "File \u001b[0;32m~/Documents/GitHub/PVcircuit/pvcircuit/tandem3T.py:581\u001b[0m, in \u001b[0;36mTandem3T.CM\u001b[0;34m(self, pnts)\u001b[0m\n\u001b[1;32m    579\u001b[0m         ind\u001b[38;5;241m.\u001b[39mappend(i)\n\u001b[1;32m    580\u001b[0m lnout\u001b[38;5;241m.\u001b[39mdelete(ind) \u001b[38;5;66;03m# delete extraneous points from lnout\u001b[39;00m\n\u001b[0;32m--> 581\u001b[0m MPP \u001b[38;5;241m=\u001b[39m \u001b[43mlnout\u001b[49m\u001b[38;5;241;43m.\u001b[39;49m\u001b[43mMPP\u001b[49m\u001b[43m(\u001b[49m\u001b[43mname\u001b[49m\u001b[43m)\u001b[49m  \u001b[38;5;66;03m#single MPP point in IV3T space\u001b[39;00m\n\u001b[1;32m    583\u001b[0m \u001b[38;5;66;03m#plot if possible\u001b[39;00m\n\u001b[1;32m    584\u001b[0m pltargs\u001b[38;5;241m=\u001b[39m{\u001b[38;5;124m'\u001b[39m\u001b[38;5;124mlw\u001b[39m\u001b[38;5;124m'\u001b[39m:\u001b[38;5;241m0\u001b[39m, \u001b[38;5;124m'\u001b[39m\u001b[38;5;124mms\u001b[39m\u001b[38;5;124m'\u001b[39m:\u001b[38;5;241m7\u001b[39m, \u001b[38;5;124m'\u001b[39m\u001b[38;5;124mmew\u001b[39m\u001b[38;5;124m'\u001b[39m:\u001b[38;5;241m1\u001b[39m, \u001b[38;5;124m'\u001b[39m\u001b[38;5;124mmec\u001b[39m\u001b[38;5;124m'\u001b[39m:\u001b[38;5;124m'\u001b[39m\u001b[38;5;124mblack\u001b[39m\u001b[38;5;124m'\u001b[39m, \u001b[38;5;124m'\u001b[39m\u001b[38;5;124mmarker\u001b[39m\u001b[38;5;124m'\u001b[39m:\u001b[38;5;124m'\u001b[39m\u001b[38;5;124mo\u001b[39m\u001b[38;5;124m'\u001b[39m, \u001b[38;5;124m'\u001b[39m\u001b[38;5;124mzorder\u001b[39m\u001b[38;5;124m'\u001b[39m:\u001b[38;5;241m5\u001b[39m}\n",
      "File \u001b[0;32m~/Documents/GitHub/PVcircuit/pvcircuit/iv3T.py:337\u001b[0m, in \u001b[0;36mIV3T.MPP\u001b[0;34m(self, name)\u001b[0m\n\u001b[1;32m    332\u001b[0m \u001b[38;5;124;03m'''\u001b[39;00m\n\u001b[1;32m    333\u001b[0m \u001b[38;5;124;03mfind max power point of existing IV3T class datapoints\u001b[39;00m\n\u001b[1;32m    334\u001b[0m \u001b[38;5;124;03m'''\u001b[39;00m\n\u001b[1;32m    336\u001b[0m temp3T \u001b[38;5;241m=\u001b[39m IV3T(name\u001b[38;5;241m=\u001b[39m\u001b[38;5;124m'\u001b[39m\u001b[38;5;124mMPP\u001b[39m\u001b[38;5;124m'\u001b[39m\u001b[38;5;241m+\u001b[39mname, shape\u001b[38;5;241m=\u001b[39m\u001b[38;5;241m1\u001b[39m, meastype \u001b[38;5;241m=\u001b[39m \u001b[38;5;28mself\u001b[39m\u001b[38;5;241m.\u001b[39mmeastype, area\u001b[38;5;241m=\u001b[39m\u001b[38;5;28mself\u001b[39m\u001b[38;5;241m.\u001b[39marea)\n\u001b[0;32m--> 337\u001b[0m nmax \u001b[38;5;241m=\u001b[39m \u001b[43mnp\u001b[49m\u001b[38;5;241;43m.\u001b[39;49m\u001b[43margmax\u001b[49m\u001b[43m(\u001b[49m\u001b[38;5;28;43mself\u001b[39;49m\u001b[38;5;241;43m.\u001b[39;49m\u001b[43mPtot\u001b[49m\u001b[43m)\u001b[49m  \n\u001b[1;32m    339\u001b[0m \u001b[38;5;28;01mfor\u001b[39;00m key \u001b[38;5;129;01min\u001b[39;00m \u001b[38;5;28mself\u001b[39m\u001b[38;5;241m.\u001b[39marraykeys:\n\u001b[1;32m    340\u001b[0m     sarray \u001b[38;5;241m=\u001b[39m \u001b[38;5;28mgetattr\u001b[39m(\u001b[38;5;28mself\u001b[39m, key)\n",
      "File \u001b[0;32m<__array_function__ internals>:5\u001b[0m, in \u001b[0;36margmax\u001b[0;34m(*args, **kwargs)\u001b[0m\n",
      "File \u001b[0;32m~/opt/anaconda3/envs/pvdev/lib/python3.9/site-packages/numpy/core/fromnumeric.py:1195\u001b[0m, in \u001b[0;36margmax\u001b[0;34m(a, axis, out)\u001b[0m\n\u001b[1;32m   1121\u001b[0m \u001b[38;5;129m@array_function_dispatch\u001b[39m(_argmax_dispatcher)\n\u001b[1;32m   1122\u001b[0m \u001b[38;5;28;01mdef\u001b[39;00m \u001b[38;5;21margmax\u001b[39m(a, axis\u001b[38;5;241m=\u001b[39m\u001b[38;5;28;01mNone\u001b[39;00m, out\u001b[38;5;241m=\u001b[39m\u001b[38;5;28;01mNone\u001b[39;00m):\n\u001b[1;32m   1123\u001b[0m     \u001b[38;5;124;03m\"\"\"\u001b[39;00m\n\u001b[1;32m   1124\u001b[0m \u001b[38;5;124;03m    Returns the indices of the maximum values along an axis.\u001b[39;00m\n\u001b[1;32m   1125\u001b[0m \n\u001b[0;32m   (...)\u001b[0m\n\u001b[1;32m   1193\u001b[0m \n\u001b[1;32m   1194\u001b[0m \u001b[38;5;124;03m    \"\"\"\u001b[39;00m\n\u001b[0;32m-> 1195\u001b[0m     \u001b[38;5;28;01mreturn\u001b[39;00m \u001b[43m_wrapfunc\u001b[49m\u001b[43m(\u001b[49m\u001b[43ma\u001b[49m\u001b[43m,\u001b[49m\u001b[43m \u001b[49m\u001b[38;5;124;43m'\u001b[39;49m\u001b[38;5;124;43margmax\u001b[39;49m\u001b[38;5;124;43m'\u001b[39;49m\u001b[43m,\u001b[49m\u001b[43m \u001b[49m\u001b[43maxis\u001b[49m\u001b[38;5;241;43m=\u001b[39;49m\u001b[43maxis\u001b[49m\u001b[43m,\u001b[49m\u001b[43m \u001b[49m\u001b[43mout\u001b[49m\u001b[38;5;241;43m=\u001b[39;49m\u001b[43mout\u001b[49m\u001b[43m)\u001b[49m\n",
      "File \u001b[0;32m~/opt/anaconda3/envs/pvdev/lib/python3.9/site-packages/numpy/core/fromnumeric.py:57\u001b[0m, in \u001b[0;36m_wrapfunc\u001b[0;34m(obj, method, *args, **kwds)\u001b[0m\n\u001b[1;32m     54\u001b[0m     \u001b[38;5;28;01mreturn\u001b[39;00m _wrapit(obj, method, \u001b[38;5;241m*\u001b[39margs, \u001b[38;5;241m*\u001b[39m\u001b[38;5;241m*\u001b[39mkwds)\n\u001b[1;32m     56\u001b[0m \u001b[38;5;28;01mtry\u001b[39;00m:\n\u001b[0;32m---> 57\u001b[0m     \u001b[38;5;28;01mreturn\u001b[39;00m \u001b[43mbound\u001b[49m\u001b[43m(\u001b[49m\u001b[38;5;241;43m*\u001b[39;49m\u001b[43margs\u001b[49m\u001b[43m,\u001b[49m\u001b[43m \u001b[49m\u001b[38;5;241;43m*\u001b[39;49m\u001b[38;5;241;43m*\u001b[39;49m\u001b[43mkwds\u001b[49m\u001b[43m)\u001b[49m\n\u001b[1;32m     58\u001b[0m \u001b[38;5;28;01mexcept\u001b[39;00m \u001b[38;5;167;01mTypeError\u001b[39;00m:\n\u001b[1;32m     59\u001b[0m     \u001b[38;5;66;03m# A TypeError occurs if the object does have such a method in its\u001b[39;00m\n\u001b[1;32m     60\u001b[0m     \u001b[38;5;66;03m# class, but its signature is not identical to that of NumPy's. This\u001b[39;00m\n\u001b[0;32m   (...)\u001b[0m\n\u001b[1;32m     64\u001b[0m     \u001b[38;5;66;03m# Call _wrapit from within the except clause to ensure a potential\u001b[39;00m\n\u001b[1;32m     65\u001b[0m     \u001b[38;5;66;03m# exception has a traceback chain.\u001b[39;00m\n\u001b[1;32m     66\u001b[0m     \u001b[38;5;28;01mreturn\u001b[39;00m _wrapit(obj, method, \u001b[38;5;241m*\u001b[39margs, \u001b[38;5;241m*\u001b[39m\u001b[38;5;241m*\u001b[39mkwds)\n",
      "\u001b[0;31mValueError\u001b[0m: attempt to get argmax of an empty sequence"
     ]
    }
   ],
   "source": [
    "loc = []\n",
    "model = dev3T\n",
    "oper = 'CM'\n",
    "ncells = 60\n",
    "bot, top, ratio, type3T= pvc.EY.cellmodeldesc(model,oper)\n",
    "loss = pvc.EY.VMloss(type3T, bot, top, ncells)\n",
    "i=0\n",
    "TMY=USAaxis[0]\n",
    "for i, TMY in enumerate(USAaxis):\n",
    "    TMY.cellbandgaps(EQE2J, 25)\n",
    "    if i == 0: #only need to do the STC once\n",
    "        TMY.cellcurrents(EQE2J, STC=True) #calculate currents at each location and spectrum\n",
    "        STCeff = TMY.cellSTCeff(model,oper)\n",
    "\n",
    "    TMY.cellcurrents(EQE2J) #calculate currents at each location and spectrum\n",
    "    EY, EYeff = TMY.cellEYeff(model,oper)\n",
    "    loc.append([TMY.longitude, TMY.latitude, TMY.altitude, TMY.YearlyEnergy, EY, EYeff, STCeff])\n",
    "    \n",
    "nploc = np.array(loc)"
   ]
  },
  {
   "cell_type": "code",
   "execution_count": null,
   "id": "ff84efb8-6449-41dc-979a-3b1aa1d54175",
   "metadata": {},
   "outputs": [],
   "source": [
    "cmap='terrain'\n",
    "cmap='plasma'\n",
    "fig, ax = plt.subplots()\n",
    "ax.plot(dfBorders['longitude'], dfBorders['latitude'],lw=0.5, color='black')\n",
    "im = ax.scatter(nploc[:,0], nploc[:,1], marker='o', s=30, c=nploc[:,5], cmap=cmap)\n",
    "cb = plt.colorbar(im, ax=ax, shrink=0.6, label='EYeff')"
   ]
  },
  {
   "cell_type": "code",
   "execution_count": null,
   "id": "849a16fc-3b88-45f6-a731-b1a57f3b3b55",
   "metadata": {},
   "outputs": [],
   "source": [
    "ffig, fax = plt.subplots()\n",
    "fax.plot(dfBorders['longitude'], dfBorders['latitude'],lw=0.5, color='black')\n",
    "fim = fax.scatter(nploc[:,0], nploc[:,1], marker='o', s=30, c=(nploc[:,5]/nploc[:,6]), cmap=cmap)\n",
    "fcb = plt.colorbar(fim, ax=fax, shrink=0.6, label='fraction')"
   ]
  },
  {
   "cell_type": "code",
   "execution_count": null,
   "id": "2e103ab5-b9c3-446c-814a-e111066208ed",
   "metadata": {},
   "outputs": [],
   "source": [
    "rfig, rax = plt.subplots()\n",
    "rax.plot(dfBorders['longitude'], dfBorders['latitude'],lw=0.5, color='black')\n",
    "rim = rax.scatter(nploc[:,0], nploc[:,1], marker='o', s=30, c=(nploc[:,3]), cmap=cmap)\n",
    "rcb = plt.colorbar(rim, ax=rax, shrink=0.6, label='resource')"
   ]
  },
  {
   "cell_type": "code",
   "execution_count": null,
   "id": "ce1d377f-c4f1-4ab3-97a4-69ddc750d59b",
   "metadata": {},
   "outputs": [],
   "source": []
  }
 ],
 "metadata": {
  "kernelspec": {
   "display_name": "pvdev",
   "language": "python",
   "name": "pvdev"
  },
  "language_info": {
   "codemirror_mode": {
    "name": "ipython",
    "version": 3
   },
   "file_extension": ".py",
   "mimetype": "text/x-python",
   "name": "python",
   "nbconvert_exporter": "python",
   "pygments_lexer": "ipython3",
   "version": "3.9.12"
  }
 },
 "nbformat": 4,
 "nbformat_minor": 5
}
