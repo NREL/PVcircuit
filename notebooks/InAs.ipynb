{
 "cells": [
  {
   "cell_type": "code",
   "execution_count": 1,
   "id": "375d4fb4-1c7e-4336-985b-1c9a3df4c731",
   "metadata": {},
   "outputs": [],
   "source": [
    "%load_ext autoreload\n",
    "%autoreload 2"
   ]
  },
  {
   "cell_type": "markdown",
   "id": "6c764eec-216a-4db4-883e-c22fbe94a887",
   "metadata": {},
   "source": [
    "# InAs"
   ]
  },
  {
   "cell_type": "code",
   "execution_count": 2,
   "id": "5db22fdb-07ae-4891-8f09-2cdf139a2dfb",
   "metadata": {},
   "outputs": [],
   "source": [
    "import pandas as pd\n",
    "import numpy as np\n",
    "import matplotlib.pyplot as plt\n",
    "import pvcircuit as pvc\n",
    "import ipywidgets as widgets\n",
    "#%matplotlib inline\n",
    "#import ipympl\n",
    "%matplotlib widget"
   ]
  },
  {
   "cell_type": "code",
   "execution_count": 3,
   "id": "18e79055-356b-475b-8566-8d240c734b0d",
   "metadata": {},
   "outputs": [
    {
     "data": {
      "application/vnd.jupyter.widget-view+json": {
       "model_id": "ca1766d34c2945c69534de34f8662c3d",
       "version_major": 2,
       "version_minor": 0
      },
      "text/plain": [
       "VBox(children=(HBox(children=(Output(), Output()), layout=Layout(display='flex', flex_flow='row', justify_cont…"
      ]
     },
     "metadata": {},
     "output_type": "display_data"
    }
   ],
   "source": [
    "InAs = pvc.Multi2T(name='InAs',Eg_list=[0.324],Rs2T=0.14,Jext=.04,J0ratio=[10,10])\n",
    "ui, dax, lax = InAs.controls()\n",
    "ui"
   ]
  },
  {
   "cell_type": "code",
   "execution_count": 4,
   "id": "ca300a1e-e055-4552-88ca-52ec14097b1a",
   "metadata": {},
   "outputs": [],
   "source": [
    "# data iv3T vs V\n",
    "path = '../data/'\n",
    "fileA = 'IBC2x2.csv'\n",
    "dfIBC = pd.read_csv(path+fileA, index_col=0)\n",
    "IBCdata_darkV=np.array(dfIBC.index)\n",
    "IBCdata_darkJ=np.array(dfIBC['darkJ'])\n",
    "IBCdata_lightV=np.array(dfIBC['lightV'])\n",
    "IBCdata_lightJ=np.array(dfIBC['lightJ'])"
   ]
  },
  {
   "cell_type": "code",
   "execution_count": 5,
   "id": "f43aa1fc-7292-4ef4-8784-d6955051473d",
   "metadata": {},
   "outputs": [
    {
     "data": {
      "text/plain": [
       "[<matplotlib.lines.Line2D at 0x7fd8e0eb2280>]"
      ]
     },
     "execution_count": 5,
     "metadata": {},
     "output_type": "execute_result"
    }
   ],
   "source": [
    "dax.plot(IBCdata_darkV, IBCdata_darkJ/1000., c='green', lw=2, ls='--', label='pIBCdata')\n",
    "dax.plot(IBCdata_darkV, -IBCdata_darkJ/10000, c='green', lw=2, ls='--', label='nIBCdata')\n",
    "lax.plot(IBCdata_darkV, IBCdata_darkJ, c='green', lw=2, ls='--', label='IBCdata')\n",
    "lax.plot(IBCdata_lightV, IBCdata_lightJ, c='red', lw=2, ls='--', label='IBCdata')"
   ]
  },
  {
   "cell_type": "code",
   "execution_count": null,
   "id": "20d61caf-797d-43a6-8f17-b86c4a1d8e32",
   "metadata": {},
   "outputs": [],
   "source": []
  }
 ],
 "metadata": {
  "kernelspec": {
   "display_name": "pvdev",
   "language": "python",
   "name": "pvdev"
  },
  "language_info": {
   "codemirror_mode": {
    "name": "ipython",
    "version": 3
   },
   "file_extension": ".py",
   "mimetype": "text/x-python",
   "name": "python",
   "nbconvert_exporter": "python",
   "pygments_lexer": "ipython3",
   "version": "3.9.7"
  }
 },
 "nbformat": 4,
 "nbformat_minor": 5
}
