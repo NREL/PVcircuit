{
 "cells": [
  {
   "cell_type": "code",
   "execution_count": 1,
   "id": "375d4fb4-1c7e-4336-985b-1c9a3df4c731",
   "metadata": {},
   "outputs": [],
   "source": [
    "%load_ext autoreload\n",
    "%autoreload 2"
   ]
  },
  {
   "cell_type": "markdown",
   "id": "6c764eec-216a-4db4-883e-c22fbe94a887",
   "metadata": {},
   "source": [
    "# Compare measurements of Si IBC cell STREET22_32-14"
   ]
  },
  {
   "cell_type": "code",
   "execution_count": 2,
   "id": "5db22fdb-07ae-4891-8f09-2cdf139a2dfb",
   "metadata": {},
   "outputs": [],
   "source": [
    "import pandas as pd\n",
    "import numpy as np\n",
    "import matplotlib.pyplot as plt\n",
    "import pvcircuit as pvc\n",
    "import ipywidgets as widgets\n",
    "#%matplotlib inline\n",
    "#import ipympl\n",
    "%matplotlib widget\n",
    "%gui asyncio"
   ]
  },
  {
   "cell_type": "code",
   "execution_count": 3,
   "id": "a1355795-114a-4ef0-80ae-240894491225",
   "metadata": {},
   "outputs": [],
   "source": [
    "# data Si IBC 1J, 2T\n",
    "path = '../data/'\n",
    "NREL = 'NREL_32-14.csv'\n",
    "ISFH = 'ISFH_32-14.csv'\n",
    "dfNREL = pd.read_csv(path+NREL, index_col=0)\n",
    "dfISFH = pd.read_csv(path+ISFH, index_col=0)\n",
    "#parse\n",
    "NREL_darkV=np.array(dfNREL.index)\n",
    "NREL_darkI=np.array(dfNREL['darkJ'])*4/1000.  #->A\n",
    "NREL_lightV=np.array(dfNREL['lightV'])\n",
    "NREL_lightI=np.array(dfNREL['lightJ'])*4/1000.  #->A\n",
    "\n",
    "ISFH_darkV=np.array(dfISFH.index)\n",
    "ISFH_darkI=np.array(dfISFH['darkI'])\n",
    "ISFH_lightV=np.array(dfISFH['lightV'])\n",
    "ISFH_lightI=np.array(dfISFH['lightI'])"
   ]
  },
  {
   "cell_type": "code",
   "execution_count": 4,
   "id": "d8de417f-6b01-472e-aaa0-ec9054d4aa07",
   "metadata": {},
   "outputs": [
    {
     "data": {
      "text/plain": [
       "SiIBC: <tandem.Multi2T class>\n",
       "T = 25.0 C, Rs2T= 0 Ω cm2\n",
       "\n",
       "j[0]: <tandem.Junction class>\n",
       "Eg = 1.10 eV, TC = 25.0 C\n",
       "Jext = 39.9 , JLC = 0.0 mA/cm2\n",
       "Gsh = 0.000857525 S/cm2, Rser = 0 Ωcm2\n",
       "lightA = 3.97 cm2, totalA = 9 cm2\n",
       "pn = -1, beta = 0, gamma = 0\n",
       "   n    J0ratio   J0(A/cm2) \n",
       "  db       1      1.314e-16 \n",
       " 1.00    127.25   1.672e-14 \n",
       " 5.44     0.06    2.768e-07  \n",
       "RBB_dict: {'method': 'JFG', 'mrb': 10.0, 'J0rb': 0.0001, 'Vrb': 0.0}"
      ]
     },
     "execution_count": 4,
     "metadata": {},
     "output_type": "execute_result"
    }
   ],
   "source": [
    "# model starting with ISFH fit\n",
    "Algt = 3.97\n",
    "Adrk = 9.\n",
    "SiIBC = pvc.Multi2T(name='SiIBC',Eg_list=[1.1],Rs2T=0,Jext=.03986,n=[1., 5.439])\n",
    "SiIBC.set(Gsh=(1./514.4*Algt/Adrk),lightarea=Algt, totalarea=Adrk)\n",
    "SiIBC.j[0]._J0init([(150.5e-15/Adrk), (2491.0e-9/Adrk)])\n",
    "SiIBC.j[0].set(RBB='JFG', J0rb=1e-4)\n",
    "SiIBC"
   ]
  },
  {
   "cell_type": "code",
   "execution_count": 5,
   "id": "8b5e9767-4cfb-405b-8d21-9d20a975e075",
   "metadata": {},
   "outputs": [
    {
     "data": {
      "application/vnd.jupyter.widget-view+json": {
       "model_id": "c288e3d5cb9e4f068cc2075e19fc841b",
       "version_major": 2,
       "version_minor": 0
      },
      "text/plain": [
       "VBox(children=(HBox(children=(Output(), Output()), layout=Layout(display='flex', flex_flow='row', justify_cont…"
      ]
     },
     "metadata": {},
     "output_type": "display_data"
    }
   ],
   "source": [
    "ui, dax, lax = SiIBC.controls()\n",
    "ui"
   ]
  },
  {
   "cell_type": "code",
   "execution_count": 6,
   "id": "f43aa1fc-7292-4ef4-8784-d6955051473d",
   "metadata": {},
   "outputs": [
    {
     "data": {
      "text/plain": [
       "<matplotlib.legend.Legend at 0x7fe049264b50>"
      ]
     },
     "execution_count": 6,
     "metadata": {},
     "output_type": "execute_result"
    }
   ],
   "source": [
    "# add data to interactive plots\n",
    "dax.plot(NREL_darkV, NREL_darkI, c='blue', lw=0, marker='.', label='pNREL', zorder=0)\n",
    "dax.plot(NREL_darkV, -NREL_darkI, c='blue', lw=0, marker='.', label='nNREL', zorder=0)\n",
    "lax.plot(NREL_darkV, NREL_darkI*1000, c='blue', lw=0, marker='.', label='dNREL', zorder=0)\n",
    "lax.plot(NREL_lightV, NREL_lightI*1000, c='blue', lw=0, marker='.', label='lNREL', zorder=0)\n",
    "\n",
    "dax.plot(ISFH_darkV, ISFH_darkI, c='red', lw=0, marker='.', label='pISFH', zorder=0)\n",
    "dax.plot(ISFH_darkV, -ISFH_darkI, c='red', lw=0, marker='.', label='nISFH', zorder=0)\n",
    "lax.plot(ISFH_darkV, ISFH_darkI*1000, c='red', lw=0, marker='.', label='dISFH', zorder=0)\n",
    "lax.plot(ISFH_lightV, ISFH_lightI*1000, c='red', lw=0, marker='.', label='lISFH', zorder=0)\n",
    "\n",
    "# legend\n",
    "lines = dax.get_lines()\n",
    "hands=[]\n",
    "labs = []\n",
    "for line in lines:\n",
    "    linelabel=line.get_label()\n",
    "    if linelabel =='pdark':\n",
    "        hands.append(line)\n",
    "        labs.append('fit')\n",
    "    elif linelabel =='pNREL':\n",
    "        hands.append(line)\n",
    "        labs.append('NREL')\n",
    "    elif linelabel =='pISFH':\n",
    "        hands.append(line)\n",
    "        labs.append('ISFH')\n",
    "\n",
    "dax.legend(hands, labs)"
   ]
  },
  {
   "cell_type": "code",
   "execution_count": 7,
   "id": "1de60e70-3b4f-441e-a7a6-2064eb4b44d6",
   "metadata": {},
   "outputs": [],
   "source": [
    "#SiIBC.set(n = [1., 2.], J0ratio = [100., 10.], Rs2T = 0.5)  # better ISFH fit\n",
    "#SiIBC.update()"
   ]
  },
  {
   "cell_type": "code",
   "execution_count": 8,
   "id": "18f0067a-615d-4a6d-8360-c1c36d0273c5",
   "metadata": {},
   "outputs": [],
   "source": [
    "#SiIBC.set(n = [1., 2.], J0ratio = [200., 15.], Gsh=0.00065, Rs2T = 8.3)  # NREL fit \n",
    "#SiIBC.update()"
   ]
  },
  {
   "cell_type": "code",
   "execution_count": 9,
   "id": "2f46b2a8-d545-43c8-953a-227587b03b67",
   "metadata": {},
   "outputs": [],
   "source": [
    "#SiIBC.j[0].set(RBB='JFG', J0rb=1e-4)\n",
    "#SiIBC.update()"
   ]
  },
  {
   "cell_type": "code",
   "execution_count": null,
   "id": "8d9b8c5d-5d1f-4399-81f6-edc5d4ab3a01",
   "metadata": {},
   "outputs": [],
   "source": []
  }
 ],
 "metadata": {
  "kernelspec": {
   "display_name": "pvdev",
   "language": "python",
   "name": "pvdev"
  },
  "language_info": {
   "codemirror_mode": {
    "name": "ipython",
    "version": 3
   },
   "file_extension": ".py",
   "mimetype": "text/x-python",
   "name": "python",
   "nbconvert_exporter": "python",
   "pygments_lexer": "ipython3",
   "version": "3.9.7"
  }
 },
 "nbformat": 4,
 "nbformat_minor": 5
}
