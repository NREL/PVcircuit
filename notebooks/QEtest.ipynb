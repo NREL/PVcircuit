{
 "cells": [
  {
   "cell_type": "code",
   "execution_count": 1,
   "id": "a7915722-ba35-4f64-884d-156ff5f74319",
   "metadata": {},
   "outputs": [],
   "source": [
    "%load_ext autoreload\n",
    "%autoreload 2"
   ]
  },
  {
   "cell_type": "markdown",
   "id": "975dd143-da1c-4814-ac9b-d3eab8ec98f3",
   "metadata": {},
   "source": [
    "### test QE analysis"
   ]
  },
  {
   "cell_type": "code",
   "execution_count": 2,
   "id": "b2c27ce3-bd05-4e25-8122-652c7c21dadb",
   "metadata": {},
   "outputs": [],
   "source": [
    "import pandas as pd\n",
    "import numpy as np\n",
    "import matplotlib.pyplot as plt\n",
    "import pvcircuit as pvc\n",
    "import ipywidgets as widgets\n",
    "%matplotlib widget"
   ]
  },
  {
   "cell_type": "code",
   "execution_count": 3,
   "id": "fe1d7be0-9ff8-4e94-a6b0-12c83f7d88f4",
   "metadata": {},
   "outputs": [],
   "source": [
    "path = '../data/'\n",
    "file = 'WB417n6_C_EQE.csv'\n",
    "dfEQE = pd.read_csv(path+file, index_col=0)\n",
    "EQE = dfEQE.to_numpy(dtype=np.float64, copy=True)\n",
    "nm = dfEQE.index.to_numpy(dtype=np.float64, copy=True)\n",
    "\n",
    "#qeanalysis imports 3 ref spectra\n",
    "df = pvc.qeanalysis.dfrefspec\n",
    "wvl = pvc.qeanalysis.wvl\n",
    "AM0 = pvc.qeanalysis.AM0\n",
    "AM15G = pvc.qeanalysis.AM15G\n",
    "AM15D = pvc.qeanalysis.AM15D\n"
   ]
  },
  {
   "cell_type": "code",
   "execution_count": 4,
   "id": "1c07bb0a-dc52-4843-8c79-0e067f51e61c",
   "metadata": {},
   "outputs": [
    {
     "data": {
      "application/vnd.jupyter.widget-view+json": {
       "model_id": "89dbd32490114ba2abf18655aa11ba23",
       "version_major": 2,
       "version_minor": 0
      },
      "text/plain": [
       "Canvas(toolbar=Toolbar(toolitems=[('Home', 'Reset original view', 'home', 'home'), ('Back', 'Back to previous …"
      ]
     },
     "metadata": {},
     "output_type": "display_data"
    },
    {
     "data": {
      "text/plain": [
       "(300.0, 1300.0)"
      ]
     },
     "execution_count": 4,
     "metadata": {},
     "output_type": "execute_result"
    }
   ],
   "source": [
    "fig, ax = plt.subplots()\n",
    "rax = ax.twinx() #right axis\n",
    "#rax.plot(wvl, AM0, c='blue', lw=0.5, marker='', label='space')\n",
    "rax.fill_between(wvl, AM15G, step=\"pre\", alpha=0.4, color='grey')\n",
    "rax.plot(wvl, AM15G, c='black', lw=0.5, marker='', label='global')\n",
    "#rax.plot(wvl, AM15D, c='red', lw=0.5, marker='', label='direct')\n",
    "rax.legend(loc=7)\n",
    "ax.plot(nm, EQE[:,0], c='blue', lw=3, marker='', label='EQE0')\n",
    "ax.plot(nm, EQE[:,1], c='red', lw=3, marker='', label='EQE1')\n",
    "ax.legend()\n",
    "ax.set_ylim(0,1)\n",
    "ax.set_xlim(300, 1300)"
   ]
  },
  {
   "cell_type": "code",
   "execution_count": 5,
   "id": "34531a15-d357-40d0-9590-583cc0091139",
   "metadata": {},
   "outputs": [
    {
     "data": {
      "text/plain": [
       "array([[1.00047070e+03, 1.31101240e-02, 1.27848321e-02]])"
      ]
     },
     "execution_count": 5,
     "metadata": {},
     "output_type": "execute_result"
    }
   ],
   "source": [
    "Jint = pvc.qeanalysis.Jint(EQE, nm, 'global')\n",
    "Jint"
   ]
  },
  {
   "cell_type": "code",
   "execution_count": 6,
   "id": "c9fff0be-ac60-47d2-b566-e4f117c1c1cd",
   "metadata": {},
   "outputs": [
    {
     "name": "stdout",
     "output_type": "stream",
     "text": [
      "Ptot=1000.5 W/m2, Jsc1=0.01311A/cm2,  Jsc2=0.012785A/cm2\n"
     ]
    }
   ],
   "source": [
    "print('Ptot={0:.5} W/m2, Jsc1={1:.5}A/cm2,  Jsc2={2:.5}A/cm2'.format(Jint[0,0],Jint[0,1],Jint[0,2]))"
   ]
  },
  {
   "cell_type": "code",
   "execution_count": null,
   "id": "99a554fa-b1a9-43b2-977c-8dc353f433e8",
   "metadata": {},
   "outputs": [],
   "source": []
  }
 ],
 "metadata": {
  "kernelspec": {
   "display_name": "pvdev",
   "language": "python",
   "name": "pvdev"
  },
  "language_info": {
   "codemirror_mode": {
    "name": "ipython",
    "version": 3
   },
   "file_extension": ".py",
   "mimetype": "text/x-python",
   "name": "python",
   "nbconvert_exporter": "python",
   "pygments_lexer": "ipython3",
   "version": "3.9.7"
  }
 },
 "nbformat": 4,
 "nbformat_minor": 5
}
