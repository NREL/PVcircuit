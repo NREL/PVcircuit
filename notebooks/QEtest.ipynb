{
 "cells": [
  {
   "cell_type": "code",
   "execution_count": 1,
   "id": "a7915722-ba35-4f64-884d-156ff5f74319",
   "metadata": {},
   "outputs": [],
   "source": [
    "%load_ext autoreload\n",
    "%autoreload 2"
   ]
  },
  {
   "cell_type": "markdown",
   "id": "975dd143-da1c-4814-ac9b-d3eab8ec98f3",
   "metadata": {},
   "source": [
    "### test QE analysis"
   ]
  },
  {
   "cell_type": "code",
   "execution_count": 2,
   "id": "b2c27ce3-bd05-4e25-8122-652c7c21dadb",
   "metadata": {},
   "outputs": [],
   "source": [
    "import pandas as pd\n",
    "import numpy as np\n",
    "import matplotlib.pyplot as plt\n",
    "import pvcircuit as pvc\n",
    "import ipywidgets as widgets\n",
    "%matplotlib widget"
   ]
  },
  {
   "cell_type": "code",
   "execution_count": 3,
   "id": "fe1d7be0-9ff8-4e94-a6b0-12c83f7d88f4",
   "metadata": {},
   "outputs": [],
   "source": [
    "path = pvc.datapath\n",
    "file = 'WB417n6_C_EQE.csv'\n",
    "dfEQE = pd.read_csv(path+file, index_col=0)\n",
    "EQE = dfEQE.to_numpy(dtype=np.float64, copy=True)\n",
    "nm = dfEQE.index.to_numpy(dtype=np.float64, copy=True)\n",
    "\n",
    "#qe imports 3 ref spectra\n",
    "df = pvc.qe.dfrefspec\n",
    "wvl = pvc.qe.wvl\n",
    "AM0 = pvc.qe.AM0\n",
    "AM15G = pvc.qe.AM15G\n",
    "AM15D = pvc.qe.AM15D"
   ]
  },
  {
   "cell_type": "code",
   "execution_count": 4,
   "id": "1c07bb0a-dc52-4843-8c79-0e067f51e61c",
   "metadata": {},
   "outputs": [
    {
     "data": {
      "application/vnd.jupyter.widget-view+json": {
       "model_id": "6dbd266616b64be8b491970365c0593a",
       "version_major": 2,
       "version_minor": 0
      },
      "text/plain": [
       "Canvas(toolbar=Toolbar(toolitems=[('Home', 'Reset original view', 'home', 'home'), ('Back', 'Back to previous …"
      ]
     },
     "metadata": {},
     "output_type": "display_data"
    },
    {
     "data": {
      "text/plain": [
       "(0.0, 1.7)"
      ]
     },
     "execution_count": 4,
     "metadata": {},
     "output_type": "execute_result"
    }
   ],
   "source": [
    "fig, ax = plt.subplots()\n",
    "ax.plot(nm, EQE[:,0], c='blue', lw=3, marker='', label='GaInP')\n",
    "ax.plot(nm, EQE[:,1], c='red', lw=3, marker='', label='GaAs')\n",
    "ax.legend()\n",
    "ax.set_ylim(0,1)\n",
    "ax.set_xlim(300, 1300)\n",
    "ax.set_ylabel('EQE')  # Add a y-label to the axes.\n",
    "ax.set_xlabel('Wavelength (nm)')  # Add an x-label to the axes.\n",
    "\n",
    "rax = ax.twinx() #right axis\n",
    "#rax.plot(wvl, AM0, c='blue', lw=0.5, marker='', label='space')\n",
    "rax.fill_between(wvl, AM15G, step=\"pre\", alpha=0.2, color='grey')\n",
    "rax.plot(wvl, AM15G, c='grey', lw=0.5, marker='', label='global')\n",
    "#rax.plot(wvl, AM15D, c='red', lw=0.5, marker='', label='direct')\n",
    "rax.legend(loc=7)\n",
    "rax.set_ylabel('Irradiance (W/m2/nm)')  # Add a y-label to the axes.\n",
    "rax.set_ylim(0, 1.7)"
   ]
  },
  {
   "cell_type": "code",
   "execution_count": 5,
   "id": "34531a15-d357-40d0-9590-583cc0091139",
   "metadata": {},
   "outputs": [
    {
     "name": "stdout",
     "output_type": "stream",
     "text": [
      "[[1000.47070361   13.11012403   12.78483215]]\n",
      "Ptot=1000.5 W/m2, Jsc1=13.11 mA/cm2,  Jsc2=12.785 mA/cm2\n"
     ]
    }
   ],
   "source": [
    "# integrate spectrum for total power and photocurrent from EQE\n",
    "Jint = pvc.qe.JintMD(EQE, nm, 'global')\n",
    "print(Jint)\n",
    "print('Ptot={0:.5} W/m2, Jsc1={1:.5} mA/cm2,  Jsc2={2:.5} mA/cm2'.format(Jint[0,0],Jint[0,1],Jint[0,2]))"
   ]
  },
  {
   "cell_type": "code",
   "execution_count": 6,
   "id": "bbd90131-35e4-49be-ac1e-2b8576ebe8c1",
   "metadata": {},
   "outputs": [
    {
     "name": "stdout",
     "output_type": "stream",
     "text": [
      "[3.49083016e-29 8.69951375e-22] [1.87076394 1.41921761]\n",
      "Jdb1=3.4908e-29 A/cm2,  Jdb2=8.6995e-22 A/cm2, Eg1=1.871 eV, Eg2=1.419 eV\n"
     ]
    }
   ],
   "source": [
    "# integrate EQE to determine Jdb and Eg of each junction\n",
    "Jdb, Eg = pvc.qe.JdbMD(EQE, nm, 25)\n",
    "print(Jdb, Eg)\n",
    "print('Jdb1={0:.5} A/cm2,  Jdb2={1:.5} A/cm2, Eg1={2:.4} eV, Eg2={3:.4} eV'.format(Jdb[0],Jdb[1],Eg[0],Eg[1]))"
   ]
  },
  {
   "cell_type": "code",
   "execution_count": 7,
   "id": "0d1464f7-5caa-4d20-874d-0904a50cd42d",
   "metadata": {},
   "outputs": [
    {
     "data": {
      "text/plain": [
       "array([[1348.0434    ,   16.32907119,   14.18715634],\n",
       "       [1000.47070361,   13.11012403,   12.78483215],\n",
       "       [ 900.18709833,   11.40437445,   11.7077505 ]])"
      ]
     },
     "execution_count": 7,
     "metadata": {},
     "output_type": "execute_result"
    }
   ],
   "source": [
    "Jint = pvc.qe.JintMD(EQE, nm, '')\n",
    "Jint"
   ]
  },
  {
   "cell_type": "code",
   "execution_count": null,
   "id": "b689f83b-d794-4ac2-bd5b-93265460516e",
   "metadata": {},
   "outputs": [],
   "source": []
  }
 ],
 "metadata": {
  "kernelspec": {
   "display_name": "pvdev",
   "language": "python",
   "name": "pvdev"
  },
  "language_info": {
   "codemirror_mode": {
    "name": "ipython",
    "version": 3
   },
   "file_extension": ".py",
   "mimetype": "text/x-python",
   "name": "python",
   "nbconvert_exporter": "python",
   "pygments_lexer": "ipython3",
   "version": "3.9.7"
  }
 },
 "nbformat": 4,
 "nbformat_minor": 5
}
