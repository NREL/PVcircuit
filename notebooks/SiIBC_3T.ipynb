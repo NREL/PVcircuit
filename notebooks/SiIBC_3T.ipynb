{
 "cells": [
  {
   "cell_type": "code",
   "execution_count": 1,
   "id": "05551908",
   "metadata": {},
   "outputs": [],
   "source": [
    "%load_ext autoreload\n",
    "%autoreload 2"
   ]
  },
  {
   "cell_type": "code",
   "execution_count": 2,
   "id": "3e491dbc",
   "metadata": {},
   "outputs": [],
   "source": [
    "import pandas as pd\n",
    "import numpy as np\n",
    "import matplotlib.pyplot as plt\n",
    "import pvcircuit as pvc\n",
    "import ipywidgets as widgets\n",
    "#%matplotlib inline\n",
    "#import ipympl\n",
    "%matplotlib widget"
   ]
  },
  {
   "cell_type": "markdown",
   "id": "632fc0b7",
   "metadata": {},
   "source": [
    "# Modeled 3T Si IBC performance from ISFH 153"
   ]
  },
  {
   "cell_type": "code",
   "execution_count": 3,
   "id": "cd3e9dc5-5f72-494f-9c0b-17571b40fd81",
   "metadata": {},
   "outputs": [],
   "source": [
    "# data iv3T vs V\n",
    "path = '../data/'\n",
    "fileA = 'Si153_041420hr_CR_JA.csv'\n",
    "fileB = 'Si153_041420hr_CR_JB.csv'\n",
    "Si153_CR_V_dataiv = pvc.IV3T.loadcsv('Si153_CR_V_dataiv',path,fileA,fileB,'V','CR') \n",
    "# data iv3T vs I\n",
    "fileA = 'Si153_041420hr_CR_VA.csv'\n",
    "fileB = 'Si153_041420hr_CR_VB.csv'\n",
    "Si153_CR_I_dataiv = pvc.IV3T.loadcsv('Si153_CR_I_dataiv',path,fileA,fileB,'I','CR') "
   ]
  },
  {
   "cell_type": "code",
   "execution_count": 4,
   "id": "4baf1968-b49b-49ee-b797-a84bdb200edd",
   "metadata": {},
   "outputs": [],
   "source": [
    "IBC = pvc.Tandem3T()\n",
    "IBC.top.set(Eg=1.1, Jext=.00, Rser=1., Gsh=0, pn=0)\n",
    "IBC.bot.set(Eg=1.1, Jext=.031, Rser=0, Gsh=0, J0ratio=[200,250],area=1)\n",
    "IBC.bot.set(RBB=None)\n",
    "IBC.set(Rz = .45, name='Si IBC')"
   ]
  },
  {
   "cell_type": "code",
   "execution_count": 5,
   "id": "994482d3",
   "metadata": {},
   "outputs": [
    {
     "data": {
      "application/vnd.jupyter.widget-view+json": {
       "model_id": "8d38170675da476e94c9f0c6ac6d3b36",
       "version_major": 2,
       "version_minor": 0
      },
      "text/plain": [
       "VBox(children=(HBox(children=(Output(), Output()), layout=Layout(display='flex', flex_flow='row', justify_cont…"
      ]
     },
     "metadata": {},
     "output_type": "display_data"
    }
   ],
   "source": [
    "pnts=51\n",
    "ui, Vax, Iax = IBC.controls(Si153_CR_V_dataiv, Si153_CR_I_dataiv, meastype='CR', hex=False)\n",
    "ui"
   ]
  },
  {
   "cell_type": "code",
   "execution_count": 6,
   "id": "30d028d1-1f57-4789-b6f1-e82a23f2204d",
   "metadata": {},
   "outputs": [
    {
     "data": {
      "text/plain": [
       "Si153_CR_I_dataiv: <tandem.IV3T class>\n",
       "{'name': 'Si153_CR_I_dataiv', 'meastype': 'CR', 'shape': (136, 136), 'xkey': 'IA', 'ykey': 'IB', 'x': (-0.202, 0.203), 'y': (-0.202, 0.203)}\n",
       "sizes(18496, 18496)\n",
       "\n",
       "    #        mIro     mIzo     mIto     Vzt      Vrz      Vtr      mIA      mIB       VA       VB     mPtot    mIxhex   mIyhex   Vxhex    Vyhex  \n",
       "  (0, 0)   404.00   -202.00  -202.00    nan      nan      nan    -202.00  -202.00    nan      nan   -100000.00 428.51   -233.25    nan      nan   \n",
       "  (0, 1)   401.00   -199.00  -202.00    nan      nan      nan    -199.00  -202.00    nan      nan   -100000.00 426.39   -229.79    nan      nan   \n",
       "  (0, 2)   398.00   -196.00  -202.00    nan      nan      nan    -196.00  -202.00    nan      nan   -100000.00 424.26   -226.32    nan      nan   \n",
       "  (0, 3)   395.00   -193.00  -202.00    nan      nan      nan    -193.00  -202.00    nan      nan   -100000.00 422.14   -222.86    nan      nan   \n",
       "  (0, 4)   392.00   -190.00  -202.00    nan      nan      nan    -190.00  -202.00    nan      nan   -100000.00 420.02   -219.39    nan      nan   \n",
       "  (0, 5)   389.00   -187.00  -202.00    nan      nan      nan    -187.00  -202.00    nan      nan   -100000.00 417.90   -215.93    nan      nan   \n",
       "  (0, 6)   386.00   -184.00  -202.00    nan      nan      nan    -184.00  -202.00    nan      nan   -100000.00 415.78   -212.46    nan      nan   \n",
       "  (0, 7)   383.00   -181.00  -202.00    nan      nan      nan    -181.00  -202.00    nan      nan   -100000.00 413.66   -209.00    nan      nan   \n",
       "  (0, 8)   380.00   -178.00  -202.00    nan      nan      nan    -178.00  -202.00    nan      nan   -100000.00 411.54   -205.54    nan      nan   \n",
       "  (0, 9)   377.00   -175.00  -202.00    nan      nan      nan    -175.00  -202.00    nan      nan   -100000.00 409.41   -202.07    nan      nan   \n",
       "\n",
       "\n",
       "(135, 127) -382.00  179.00   203.00     nan      nan      nan    179.00   203.00     nan      nan   -100000.00 -413.66  206.69     nan      nan   \n",
       "(135, 128) -385.00  182.00   203.00     nan      nan      nan    182.00   203.00     nan      nan   -100000.00 -415.78  210.16     nan      nan   \n",
       "(135, 129) -388.00  185.00   203.00     nan      nan      nan    185.00   203.00     nan      nan   -100000.00 -417.90  213.62     nan      nan   \n",
       "(135, 130) -391.00  188.00   203.00     nan      nan      nan    188.00   203.00     nan      nan   -100000.00 -420.02  217.08     nan      nan   \n",
       "(135, 131) -394.00  191.00   203.00     nan      nan      nan    191.00   203.00     nan      nan   -100000.00 -422.14  220.55     nan      nan   \n",
       "(135, 132) -397.00  194.00   203.00     nan      nan      nan    194.00   203.00     nan      nan   -100000.00 -424.26  224.01     nan      nan   \n",
       "(135, 133) -400.00  197.00   203.00     nan      nan      nan    197.00   203.00     nan      nan   -100000.00 -426.39  227.48     nan      nan   \n",
       "(135, 134) -403.00  200.00   203.00     nan      nan      nan    200.00   203.00     nan      nan   -100000.00 -428.51  230.94     nan      nan   \n",
       "(135, 135) -406.00  203.00   203.00     nan      nan      nan    203.00   203.00     nan      nan   -100000.00 -430.63  234.40     nan      nan   "
      ]
     },
     "execution_count": 6,
     "metadata": {},
     "output_type": "execute_result"
    }
   ],
   "source": [
    "Si153_CR_I_dataiv"
   ]
  },
  {
   "cell_type": "code",
   "execution_count": 7,
   "id": "579f2f15-6ff3-4767-8983-488535133e35",
   "metadata": {},
   "outputs": [
    {
     "data": {
      "text/plain": [
       "Si153_CR_V_dataiv: <tandem.IV3T class>\n",
       "{'name': 'Si153_CR_V_dataiv', 'meastype': 'CR', 'shape': (181, 181), 'xkey': 'VA', 'ykey': 'VB', 'x': (-0.9, 0.9), 'y': (-0.9, 0.9)}\n",
       "sizes(32761, 32761)\n",
       "\n",
       "    #        mIro     mIzo     mIto     Vzt      Vrz      Vtr      mIA      mIB       VA       VB     mPtot    mIxhex   mIyhex   Vxhex    Vyhex  \n",
       "  (0, 0)     nan      nan      nan     0.000    0.900   -0.900     nan      nan    -0.900   -0.900  -100000.00   nan      nan     0.636    1.039  \n",
       "  (0, 1)     nan      nan      nan     0.010    0.890   -0.900     nan      nan    -0.890   -0.900  -100000.00   nan      nan     0.643    1.028  \n",
       "  (0, 2)     nan      nan      nan     0.020    0.880   -0.900     nan      nan    -0.880   -0.900  -100000.00   nan      nan     0.651    1.016  \n",
       "  (0, 3)     nan      nan      nan     0.030    0.870   -0.900     nan      nan    -0.870   -0.900  -100000.00   nan      nan     0.658    1.005  \n",
       "  (0, 4)     nan      nan      nan     0.040    0.860   -0.900     nan      nan    -0.860   -0.900  -100000.00   nan      nan     0.665    0.993  \n",
       "  (0, 5)     nan      nan      nan     0.050    0.850   -0.900     nan      nan    -0.850   -0.900  -100000.00   nan      nan     0.672    0.981  \n",
       "  (0, 6)     nan      nan      nan     0.060    0.840   -0.900     nan      nan    -0.840   -0.900  -100000.00   nan      nan     0.679    0.970  \n",
       "  (0, 7)     nan      nan      nan     0.070    0.830   -0.900     nan      nan    -0.830   -0.900  -100000.00   nan      nan     0.686    0.958  \n",
       "  (0, 8)     nan      nan      nan     0.080    0.820   -0.900     nan      nan    -0.820   -0.900  -100000.00   nan      nan     0.693    0.947  \n",
       "  (0, 9)     nan      nan      nan     0.090    0.810   -0.900     nan      nan    -0.810   -0.900  -100000.00   nan      nan     0.700    0.935  \n",
       "\n",
       "\n",
       "(180, 172)   nan      nan      nan    -0.080   -0.820    0.900     nan      nan     0.820    0.900  -100000.00   nan      nan    -0.693   -0.947  \n",
       "(180, 173)   nan      nan      nan    -0.070   -0.830    0.900     nan      nan     0.830    0.900  -100000.00   nan      nan    -0.686   -0.958  \n",
       "(180, 174)   nan      nan      nan    -0.060   -0.840    0.900     nan      nan     0.840    0.900  -100000.00   nan      nan    -0.679   -0.970  \n",
       "(180, 175)   nan      nan      nan    -0.050   -0.850    0.900     nan      nan     0.850    0.900  -100000.00   nan      nan    -0.672   -0.981  \n",
       "(180, 176)   nan      nan      nan    -0.040   -0.860    0.900     nan      nan     0.860    0.900  -100000.00   nan      nan    -0.665   -0.993  \n",
       "(180, 177)   nan      nan      nan    -0.030   -0.870    0.900     nan      nan     0.870    0.900  -100000.00   nan      nan    -0.658   -1.005  \n",
       "(180, 178)   nan      nan      nan    -0.020   -0.880    0.900     nan      nan     0.880    0.900  -100000.00   nan      nan    -0.651   -1.016  \n",
       "(180, 179)   nan      nan      nan    -0.010   -0.890    0.900     nan      nan     0.890    0.900  -100000.00   nan      nan    -0.643   -1.028  \n",
       "(180, 180)   nan      nan      nan     0.000   -0.900    0.900     nan      nan     0.900    0.900  -100000.00   nan      nan    -0.636   -1.039  "
      ]
     },
     "execution_count": 7,
     "metadata": {},
     "output_type": "execute_result"
    }
   ],
   "source": [
    "Si153_CR_V_dataiv"
   ]
  },
  {
   "cell_type": "code",
   "execution_count": null,
   "id": "16a00711-fa13-46ec-8045-a5eafdbc8a78",
   "metadata": {},
   "outputs": [],
   "source": []
  }
 ],
 "metadata": {
  "kernelspec": {
   "display_name": "Python 3 (ipykernel)",
   "language": "python",
   "name": "python3"
  },
  "language_info": {
   "codemirror_mode": {
    "name": "ipython",
    "version": 3
   },
   "file_extension": ".py",
   "mimetype": "text/x-python",
   "name": "python",
   "nbconvert_exporter": "python",
   "pygments_lexer": "ipython3",
   "version": "3.9.7"
  }
 },
 "nbformat": 4,
 "nbformat_minor": 5
}
