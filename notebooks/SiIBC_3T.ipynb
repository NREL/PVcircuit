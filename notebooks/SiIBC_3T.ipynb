{
 "cells": [
  {
   "cell_type": "code",
   "execution_count": 1,
   "id": "05551908",
   "metadata": {},
   "outputs": [],
   "source": [
    "%load_ext autoreload\n",
    "%autoreload 2"
   ]
  },
  {
   "cell_type": "code",
   "execution_count": 2,
   "id": "3e491dbc",
   "metadata": {},
   "outputs": [],
   "source": [
    "import pandas as pd\n",
    "import numpy as np\n",
    "import matplotlib.pyplot as plt\n",
    "import pvcircuit as pvc\n",
    "import ipywidgets as widgets\n",
    "#%matplotlib inline\n",
    "#import ipympl\n",
    "%matplotlib widget"
   ]
  },
  {
   "cell_type": "markdown",
   "id": "632fc0b7",
   "metadata": {},
   "source": [
    "# Modeled 3T Si IBC performance from ISFH 153"
   ]
  },
  {
   "cell_type": "code",
   "execution_count": 3,
   "id": "cd3e9dc5-5f72-494f-9c0b-17571b40fd81",
   "metadata": {},
   "outputs": [],
   "source": [
    "# data iv3T vs V\n",
    "path = '../data/'\n",
    "fileA = 'Si153_041420hr_CR_JA.csv'\n",
    "fileB = 'Si153_041420hr_CR_JB.csv'\n",
    "Si153_CR_V_dataiv = pvc.IV3T.loadcsv('Si153_CR_V_dataiv',path,fileA,fileB,'V','CR') \n",
    "# data iv3T vs I\n",
    "fileA = 'Si153_041420hr_CR_VA.csv'\n",
    "fileB = 'Si153_041420hr_CR_VB.csv'\n",
    "Si153_CR_I_dataiv = pvc.IV3T.loadcsv('Si153_CR_I_dataiv',path,fileA,fileB,'I','CR') "
   ]
  },
  {
   "cell_type": "code",
   "execution_count": 4,
   "id": "4baf1968-b49b-49ee-b797-a84bdb200edd",
   "metadata": {},
   "outputs": [],
   "source": [
    "IBC = pvc.Tandem3T()\n",
    "IBC.top.set(Eg=1.1, Jext=.00, Rser=1., Gsh=0, pn=0)\n",
    "IBC.bot.set(Eg=1.1, Jext=.031, Rser=0, Gsh=0, J0ratio=[200,250],area=1)\n",
    "IBC.bot.set(RBB=None)\n",
    "IBC.set(Rz = .45, name='Si IBC')"
   ]
  },
  {
   "cell_type": "code",
   "execution_count": 5,
   "id": "994482d3",
   "metadata": {},
   "outputs": [
    {
     "data": {
      "application/vnd.jupyter.widget-view+json": {
       "model_id": "5fd61773b3f948b2b1931cf55a285cc8",
       "version_major": 2,
       "version_minor": 0
      },
      "text/plain": [
       "VBox(children=(HBox(children=(Output(), Output()), layout=Layout(display='flex', flex_flow='row', justify_cont…"
      ]
     },
     "metadata": {},
     "output_type": "display_data"
    }
   ],
   "source": [
    "pnts=51\n",
    "ui, Vax, Iax = IBC.controls(Si153_CR_V_dataiv, Si153_CR_I_dataiv, meastype='CR', hex=False)\n",
    "ui"
   ]
  },
  {
   "cell_type": "code",
   "execution_count": null,
   "id": "f790c911-d4f3-4ac1-bacf-aa46e1272ed8",
   "metadata": {},
   "outputs": [],
   "source": []
  }
 ],
 "metadata": {
  "kernelspec": {
   "display_name": "Python 3 (ipykernel)",
   "language": "python",
   "name": "python3"
  },
  "language_info": {
   "codemirror_mode": {
    "name": "ipython",
    "version": 3
   },
   "file_extension": ".py",
   "mimetype": "text/x-python",
   "name": "python",
   "nbconvert_exporter": "python",
   "pygments_lexer": "ipython3",
   "version": "3.9.7"
  }
 },
 "nbformat": 4,
 "nbformat_minor": 5
}
