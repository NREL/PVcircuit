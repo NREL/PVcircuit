{
 "cells": [
  {
   "cell_type": "code",
   "execution_count": 1,
   "id": "aadb3f93",
   "metadata": {},
   "outputs": [],
   "source": [
    "%load_ext autoreload\n",
    "%autoreload 2"
   ]
  },
  {
   "cell_type": "markdown",
   "id": "be801aca",
   "metadata": {},
   "source": [
    "# Compare 3T model with GaInP/GaAs r-type data (MS874)"
   ]
  },
  {
   "cell_type": "code",
   "execution_count": 2,
   "id": "fcd04291",
   "metadata": {},
   "outputs": [
    {
     "name": "stdout",
     "output_type": "stream",
     "text": [
      "Tandems version 0.989\n",
      "Data path is:  /Users/jgeisz/opt/anaconda3/envs/pvdev/lib/python3.9/site-packages/tandems/data/\n"
     ]
    }
   ],
   "source": [
    "import pandas as pd\n",
    "import numpy as np\n",
    "import matplotlib.pyplot as plt\n",
    "import matplotlib as mpl\n",
    "import pvcircuit as pvc\n",
    "import ipywidgets as widgets\n",
    "#%matplotlib inline\n",
    "#import ipympl\n",
    "%matplotlib widget"
   ]
  },
  {
   "cell_type": "code",
   "execution_count": 3,
   "id": "3d7dd5f8-2a35-461c-a5d7-81bceee9093e",
   "metadata": {},
   "outputs": [],
   "source": [
    "A=0.25\n",
    "Aratio=0.89\n",
    "# data iv3T vs V\n",
    "path = pvc.datapath\n",
    "fileA = 'MS874n4papy_C_CZ_JA.csv'\n",
    "fileB = 'MS874n4papy_C_CZ_JB.csv'\n",
    "MS874_V_dataiv = pvc.IV3T.loadcsv('MS874_V_dataiv',path,fileA,fileB,'V','CZ', area=A) #Iscale=1000./A) \n",
    "# data iv3T vs I\n",
    "fileA = 'MS874n4papy_C_CZ_VA.csv'\n",
    "fileB = 'MS874n4papy_C_CZ_VB.csv'\n",
    "MS874_I_dataiv = pvc.IV3T.loadcsv('MS874_I_dataiv',path,fileA,fileB,'I','CZ', area=A) #Iscale=1000./A) \n",
    "#dark data\n",
    "fileA = 'MS874n4Cdark_CZ_JA.csv'\n",
    "fileB = 'MS874n4Cdark_CZ_JB.csv'\n",
    "MS874dark_dataiv = pvc.IV3T.loadcsv('MS874dark_dataiv',path,fileA,fileB,'V','CZ', area=A) #Iscale=1000./A) "
   ]
  },
  {
   "cell_type": "code",
   "execution_count": 4,
   "id": "f471637c-4313-4988-8f8c-1683e5ddf91c",
   "metadata": {},
   "outputs": [],
   "source": [
    "# model\n",
    "MS874dev3T = pvc.Tandem3T()\n",
    "\n",
    "MS874dev3T.set(name='MS874dev3T', Rz = 0.3)\n",
    "MS874dev3T.top.set(Eg=1.861, n=[1.0, 1.8], J0ratio=[200., 12], Jext=0.01525, Gsh=1e-12)   \n",
    "#MS874dev3T.top.set(Rser=1.1, beta=2e-6, area=A)\n",
    "MS874dev3T.top.set(Rser=1.1, beta=3e-6, area=A)\n",
    "\n",
    "MS874dev3T.bot.set(Eg=1.421, n=[1.0, 2.0], J0ratio=[60., 5.], Jext=0.0113/Aratio, Gsh=1e-10, pn=-1)\n",
    "#MS874dev3T.bot.set(Rser=0.6, beta=15, area=A*Aratio)\n",
    "MS874dev3T.bot.set(Rser=0.6, beta=30, area=A*Aratio)\n",
    "MS874dev3T.bot.RBB_dict={'method':'JFG', 'mrb':7., 'J0rb':1e-6, 'Vrb':0.}"
   ]
  },
  {
   "cell_type": "code",
   "execution_count": 5,
   "id": "8f62fafb-eeaa-4ea1-91a6-01102d3518a4",
   "metadata": {},
   "outputs": [
    {
     "data": {
      "application/vnd.jupyter.widget-view+json": {
       "model_id": "bf613ebd93c948e9bab3cba55823d7b6",
       "version_major": 2,
       "version_minor": 0
      },
      "text/plain": [
       "VBox(children=(HBox(children=(Output(), Output()), layout=Layout(display='flex', flex_flow='row', justify_cont…"
      ]
     },
     "metadata": {},
     "output_type": "display_data"
    }
   ],
   "source": [
    "ui, Vax, Iax = MS874dev3T.controls(MS874_V_dataiv, MS874_I_dataiv, MS874dark_dataiv, hex=False)\n",
    "ui"
   ]
  },
  {
   "cell_type": "code",
   "execution_count": 6,
   "id": "179a3a24-50f6-4f39-bbef-493f44c54d04",
   "metadata": {},
   "outputs": [
    {
     "data": {
      "application/vnd.jupyter.widget-view+json": {
       "model_id": "8cadbf31b4bc4f2e9ab2d442bc79ff83",
       "version_major": 2,
       "version_minor": 0
      },
      "text/plain": [
       "HBox(children=(Output(), Output()))"
      ]
     },
     "metadata": {},
     "output_type": "display_data"
    }
   ],
   "source": [
    "# plot dark currents\n",
    "plt.ioff()\n",
    "Tax, Tobj = MS874dark_dataiv.plot(zkey='Ito', log=True, cmap='turbo')\n",
    "Bax, Robj = MS874dark_dataiv.plot(zkey='Iro', log=True, cmap='turbo')\n",
    "Lax, Rax = MS874dark_dataiv.plotIVslice(step=2,log=True)\n",
    "Lout = widgets.Output()\n",
    "Rout = widgets.Output()\n",
    "ToutBox = widgets.HBox([Lout, Rout])\n",
    "with Lout: \n",
    "    Tax.get_figure().show()\n",
    "    #Lax.get_figure().show()\n",
    "with Rout: \n",
    "    Bax.get_figure().show()\n",
    "    #Rax.get_figure().show()\n",
    "plt.ion()\n",
    "ToutBox"
   ]
  },
  {
   "cell_type": "code",
   "execution_count": null,
   "id": "12394e2c-67c2-472e-b619-183e8e3a2e44",
   "metadata": {},
   "outputs": [],
   "source": []
  }
 ],
 "metadata": {
  "kernelspec": {
   "display_name": "pvdev",
   "language": "python",
   "name": "pvdev"
  },
  "language_info": {
   "codemirror_mode": {
    "name": "ipython",
    "version": 3
   },
   "file_extension": ".py",
   "mimetype": "text/x-python",
   "name": "python",
   "nbconvert_exporter": "python",
   "pygments_lexer": "ipython3",
   "version": "3.9.12"
  }
 },
 "nbformat": 4,
 "nbformat_minor": 5
}
