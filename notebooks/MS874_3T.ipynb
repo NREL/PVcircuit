{
 "cells": [
  {
   "cell_type": "code",
   "execution_count": 5,
   "id": "aadb3f93",
   "metadata": {},
   "outputs": [
    {
     "name": "stdout",
     "output_type": "stream",
     "text": [
      "The autoreload extension is already loaded. To reload it, use:\n",
      "  %reload_ext autoreload\n"
     ]
    }
   ],
   "source": [
    "%load_ext autoreload\n",
    "%autoreload 2"
   ]
  },
  {
   "cell_type": "markdown",
   "id": "be801aca",
   "metadata": {},
   "source": [
    "# Compare 3T model with GaInP/GaAs r-type data\n",
    "## Example MS874 from Geisz, et al., Cell Reports Physical Science 2, p. 100677 (2021) "
   ]
  },
  {
   "cell_type": "code",
   "execution_count": 6,
   "id": "fcd04291",
   "metadata": {},
   "outputs": [],
   "source": [
    "import pandas as pd\n",
    "import numpy as np\n",
    "import matplotlib.pyplot as plt\n",
    "import matplotlib as mpl\n",
    "from pvcircuit.PlotWithControls import PlotsWithControls\n",
    "import pvcircuit as pvc\n",
    "import ipywidgets as widgets\n",
    "#%matplotlib inline\n",
    "#import ipympl\n",
    "%matplotlib widget"
   ]
  },
  {
   "cell_type": "code",
   "execution_count": 7,
   "id": "3d7dd5f8-2a35-461c-a5d7-81bceee9093e",
   "metadata": {},
   "outputs": [],
   "source": [
    "A=0.25\n",
    "Aratio=0.89\n",
    "# data iv3T vs V\n",
    "path = pvc.notebook_datapath\n",
    "fileA = 'MS874n4papy_C_CZ_JA.csv'\n",
    "fileB = 'MS874n4papy_C_CZ_JB.csv'\n",
    "MS874_V_dataiv = pvc.IV3T.from_csv('MS874_V_dataiv',path,fileA,fileB,'V','CZ', area=A) #Iscale=1000./A)\n",
    "# data iv3T vs I\n",
    "fileA = 'MS874n4papy_C_CZ_VA.csv'\n",
    "fileB = 'MS874n4papy_C_CZ_VB.csv'\n",
    "MS874_I_dataiv = pvc.IV3T.from_csv('MS874_I_dataiv',path,fileA,fileB,'I','CZ', area=A) #Iscale=1000./A)\n",
    "#dark data\n",
    "fileA = 'MS874n4Cdark_CZ_JA.csv'\n",
    "fileB = 'MS874n4Cdark_CZ_JB.csv'\n",
    "MS874dark_dataiv = pvc.IV3T.from_csv('MS874dark_dataiv',path,fileA,fileB,'V','CZ', area=A) #Iscale=1000./A)"
   ]
  },
  {
   "cell_type": "code",
   "execution_count": 8,
   "id": "f471637c-4313-4988-8f8c-1683e5ddf91c",
   "metadata": {},
   "outputs": [],
   "source": [
    "# model\n",
    "MS874dev3T = pvc.Tandem3T()\n",
    "\n",
    "MS874dev3T.set(name='MS874dev3T', Rz = 0.3)\n",
    "MS874dev3T.top.set(Eg=1.861, n=[1.0, 1.8], J0ratio=[158, 12], Jext=0.01525, Gsh=1e-12)\n",
    "#MS874dev3T.top.set(Rser=1.1, beta=2e-6, area=A)\n",
    "MS874dev3T.top.set(Rser=1.1, beta=3e-6, area=A)\n",
    "\n",
    "MS874dev3T.bot.set(Eg=1.421, n=[1.0, 2.0], J0ratio=[60., 5.], Jext=0.0113/Aratio, Gsh=1e-10, pn=-1)\n",
    "#MS874dev3T.bot.set(Rser=0.6, beta=15, area=A*Aratio)\n",
    "MS874dev3T.bot.set(Rser=0.6, beta=24, area=A*Aratio)\n",
    "MS874dev3T.bot.RBB_dict={'method':'JFG', 'mrb':7., 'J0rb':8e-7, 'Vrb':0.}"
   ]
  },
  {
   "cell_type": "code",
   "execution_count": 12,
   "id": "8f62fafb-eeaa-4ea1-91a6-01102d3518a4",
   "metadata": {},
   "outputs": [
    {
     "data": {
      "application/vnd.jupyter.widget-view+json": {
       "model_id": "9852946ea74f427082b7a2cb04e96325",
       "version_major": 2,
       "version_minor": 0
      },
      "text/plain": [
       "VBox(children=(HBox(children=(Output(), Output()), layout=Layout(display='flex', flex_flow='row', justify_cont…"
      ]
     },
     "execution_count": 12,
     "metadata": {},
     "output_type": "execute_result"
    }
   ],
   "source": [
    "# ui, Vax, Iax = MS874dev3T.controls(MS874_V_dataiv, MS874_I_dataiv, MS874dark_dataiv, hex=False)\n",
    "# ui\n",
    "\n",
    "pwc = PlotsWithControls(MS874dev3T,MS874_V_dataiv, MS874_I_dataiv, MS874dark_dataiv, hex=False)\n",
    "ui = pwc.ui\n",
    "ui"
   ]
  },
  {
   "cell_type": "code",
   "execution_count": 10,
   "id": "179a3a24-50f6-4f39-bbef-493f44c54d04",
   "metadata": {},
   "outputs": [
    {
     "data": {
      "application/vnd.jupyter.widget-view+json": {
       "model_id": "62417a76272e4c2097f9dfdcf7940efe",
       "version_major": 2,
       "version_minor": 0
      },
      "text/plain": [
       "HBox(children=(Output(), Output()))"
      ]
     },
     "execution_count": 10,
     "metadata": {},
     "output_type": "execute_result"
    }
   ],
   "source": [
    "# plot dark currents\n",
    "plt.ioff()\n",
    "Tax, Tobj = MS874dark_dataiv.plot(zkey='Ito', log=True, cmap='turbo')\n",
    "Bax, Robj = MS874dark_dataiv.plot(zkey='Iro', log=True, cmap='turbo')\n",
    "Lout = widgets.Output()\n",
    "Rout = widgets.Output()\n",
    "ToutBox = widgets.HBox([Lout, Rout])\n",
    "with Lout:\n",
    "    Tax.get_figure().show()\n",
    "with Rout:\n",
    "    Bax.get_figure().show()\n",
    "plt.ion()\n",
    "ToutBox"
   ]
  },
  {
   "cell_type": "code",
   "execution_count": 11,
   "id": "1484973f-fe1a-44fa-8018-0a8899ecce1c",
   "metadata": {},
   "outputs": [
    {
     "data": {
      "text/plain": [
       "MS874dev3T SpecialPoints: <pvcircuit.iv3T.IV3T class>\n",
       "{'name': 'MS874dev3T SpecialPoints', 'meastype': 'CZ', 'area': 0.25, 'shape': (9,)}\n",
       "sizes(9, 9)\n",
       "\n",
       "      #          mIro     mIzo     mIto     Vzt      Vrz      Vtr      mIA      mIB       VA       VB     mPtot    mIxhex   mIyhex   Vxhex    Vyhex  \n",
       "     Voc3       0.00     0.00     0.00     1.431   -1.029   -0.402    0.00     0.00    -1.029   -1.431    0.00     0.00     0.00     1.296   -1.189  \n",
       "     Isc3       2.82     -6.68    3.81     0.000    0.000   0.000     2.82     3.81     0.000    0.000    0.00     -0.70    -7.69    0.000    0.000  \n",
       "    VrzIto      3.24     -3.24    0.00     1.427    0.000   -1.427    3.24     0.00     0.000   -1.427    0.00     2.29     -3.74    2.018    0.000  \n",
       "    VztIro      0.00     -3.81    3.81     0.686   -1.021    0.335    0.00     3.81    -1.021   -0.686    2.62     -2.70    -4.40    0.249   -1.179  \n",
       "    VtrIzo       nan      nan      nan      nan      nan      nan      nan      nan      nan      nan   -100000.00   nan      nan      nan      nan   \n",
       "     MPP        2.73     -6.46    3.69     1.302   -0.906   -0.396    2.73     3.69    -0.906   -1.302    7.27     -0.67    -7.43    1.201   -1.046  \n",
       "   MPPVM32      2.79     -6.50    3.67     1.306   -0.871   -0.435    2.79     3.67    -0.871   -1.306    7.22     -0.62    -7.49    1.231   -1.005  \n",
       "   MPPVM43      2.59     -6.41    3.78     1.248   -0.936   -0.312    2.59     3.78    -0.936   -1.248    7.14     -0.84    -7.38    1.103   -1.081  \n",
       "    MPPCM       -3.40    0.00     3.40     1.350   -1.057   -0.294    -3.40    3.40    -1.057   -1.350    1.00     -4.81    0.00     1.162   -1.220  "
      ]
     },
     "execution_count": 11,
     "metadata": {},
     "output_type": "execute_result"
    }
   ],
   "source": [
    "VM32, MPP32 = MS874dev3T.VM(3,2)\n",
    "VM43, MPP43 = MS874dev3T.VM(4,3)\n",
    "CM, MPPCM = MS874dev3T.CM()\n",
    "sp = MS874dev3T.specialpoints()\n",
    "sp.append(MPP32)\n",
    "sp.append(MPP43)\n",
    "sp.append(MPPCM)\n",
    "sp"
   ]
  }
 ],
 "metadata": {
  "kernelspec": {
   "display_name": "Python 3 (ipykernel)",
   "language": "python",
   "name": "python3"
  },
  "language_info": {
   "codemirror_mode": {
    "name": "ipython",
    "version": 3
   },
   "file_extension": ".py",
   "mimetype": "text/x-python",
   "name": "python",
   "nbconvert_exporter": "python",
   "pygments_lexer": "ipython3",
   "version": "3.12.7"
  }
 },
 "nbformat": 4,
 "nbformat_minor": 5
}
