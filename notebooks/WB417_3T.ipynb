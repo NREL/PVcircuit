{
 "cells": [
  {
   "cell_type": "code",
   "execution_count": 1,
   "id": "aadb3f93",
   "metadata": {},
   "outputs": [],
   "source": [
    "%load_ext autoreload\n",
    "%autoreload 2"
   ]
  },
  {
   "cell_type": "markdown",
   "id": "be801aca",
   "metadata": {},
   "source": [
    "# Load and plot measurements of WB417. Compare with model"
   ]
  },
  {
   "cell_type": "code",
   "execution_count": 2,
   "id": "fcd04291",
   "metadata": {},
   "outputs": [],
   "source": [
    "import pandas as pd\n",
    "import numpy as np\n",
    "import matplotlib.pyplot as plt\n",
    "import matplotlib as mpl\n",
    "import pvcircuit as pvc\n",
    "import ipywidgets as widgets\n",
    "#%matplotlib inline\n",
    "#import ipympl\n",
    "%matplotlib widget"
   ]
  },
  {
   "cell_type": "code",
   "execution_count": 3,
   "id": "3d7dd5f8-2a35-461c-a5d7-81bceee9093e",
   "metadata": {},
   "outputs": [],
   "source": [
    "# data iv3T vs V\n",
    "path = '../data/'\n",
    "fileA = 'WB417n8_Cpapy_CZ_JA.csv'\n",
    "fileB = 'WB417n8_Cpapy_CZ_JB.csv'\n",
    "WB417_CZ_V_dataiv = pvc.IV3T.loadcsv('WB417_CZ_V_dataiv',path,fileA,fileB,'V','CZ') \n",
    "# data iv3T vs I\n",
    "fileA = 'WB417n8_Cpapy_CZ_VA.csv'\n",
    "fileB = 'WB417n8_Cpapy_CZ_VB.csv'\n",
    "WB417_CZ_I_dataiv = pvc.IV3T.loadcsv('WB417_CZ_I_dataiv',path,fileA,fileB,'I','CZ') "
   ]
  },
  {
   "cell_type": "code",
   "execution_count": 4,
   "id": "f471637c-4313-4988-8f8c-1683e5ddf91c",
   "metadata": {},
   "outputs": [
    {
     "data": {
      "text/plain": [
       "WB417_CZ_V_fitsp: <tandem.IV3T class>\n",
       "{'name': 'WB417_CZ_V_fitsp', 'meastype': 'CZ', 'shape': (6,)}\n",
       "sizes(6, 6)\n",
       "\n",
       "  #      mIro     mIzo     mIto     Vzt      Vrz      Vtr      mIA      mIB       VA       VB     mPtot    mIxhex   mIyhex   Vxhex    Vyhex  \n",
       " Voc3   0.00     0.00     0.00     1.442    1.044   -2.485    0.00     0.00     1.044   -1.442    0.00     0.00     0.00     2.777    1.205  \n",
       " Isc3  -11.39    -1.69    13.10    0.000    0.000   -0.000   -11.39    13.10    0.000    0.000    0.00    -17.32    -1.96    0.000    0.000  \n",
       "VrzIto -11.76    11.76    0.00     1.469    0.000   -1.469   -11.76    0.00     0.000   -1.469    0.00     -8.32    13.58    2.077    0.000  \n",
       "VztIro  0.00    -13.10    13.10    0.000    1.073   -1.073    0.00     13.10    1.073   -0.000    0.00     -9.26   -15.13    0.758    1.239  \n",
       "VtrIzo -11.47    0.00     11.47    1.361   -1.362    0.001   -11.47    11.47   -1.362   -1.361    -0.01   -16.22    0.00     0.962   -1.573  \n",
       " MPP   -10.82    -1.82    12.66    1.296    0.903   -2.199   -10.82    12.66    0.903   -1.296    26.19   -16.61    -2.11    2.472    1.043  "
      ]
     },
     "execution_count": 4,
     "metadata": {},
     "output_type": "execute_result"
    }
   ],
   "source": [
    "# model\n",
    "WB417dev3T = pvc.Tandem3T()\n",
    "WB417dev3T.set(name='WB417dev3T', Rz = 2.3)\n",
    "WB417dev3T.top.set(Eg=1.87, J0ratio=[ 80., 22.], Jext=0.0131, Gsh=1e-8)   \n",
    "WB417dev3T.bot.set(Eg=1.419, J0ratio=[10., 15.], Jext=0.0128, Gsh= 5e-5)\n",
    "WB417dev3T.bot.set(Rser=0.2, beta=5, area=0.89)\n",
    "# special points of model\n",
    "WB417_CZ_fitsp = WB417dev3T.specialpoints(meastype = 'CZ')  # calculate special points of fit\n",
    "WB417_CZ_fitsp.set(name='WB417_CZ_V_fitsp')\n",
    "WB417_CZ_fitsp"
   ]
  },
  {
   "cell_type": "code",
   "execution_count": 5,
   "id": "a6820533-dfd5-4848-a4ec-ae3a886a9108",
   "metadata": {},
   "outputs": [],
   "source": [
    "# iv3T of model vs V\n",
    "#WB417_CZ_V_fitiv = WB417_CZ_V_dataiv.copy() # use same range\n",
    "#WB417_CZ_V_fitiv.set(name='WB417_CZ_V_fitiv', meastype = 'CZ')\n",
    "#WB417dev3T.I3Trel(WB417_CZ_V_fitiv)  # calculate fit\n",
    "# iv3T of model vs I\n",
    "#WB417_CZ_I_fitiv = WB417_CZ_I_dataiv.copy() # use same range\n",
    "#WB417_CZ_I_fitiv.set(name='WB417_CZ_I_fitiv', meastype = 'CZ')\n",
    "#WB417dev3T.I3Trel(WB417_CZ_I_fitiv)  # calculate fit"
   ]
  },
  {
   "cell_type": "code",
   "execution_count": 6,
   "id": "7f6561a0",
   "metadata": {},
   "outputs": [],
   "source": [
    "#Vdataplot = WB417_CZ_V_dataiv.plot()  #plot data\n",
    "#Vax, Vobjs = WB417_CZ_V_fitiv.plot(inplot = Vdataplot, cmap=None, ccont='red')  # plot model in red on data in black\n",
    "#WB417_CZ_fitsp.addpoints(Vax, 'red' )"
   ]
  },
  {
   "cell_type": "code",
   "execution_count": 7,
   "id": "da93d2b6",
   "metadata": {},
   "outputs": [],
   "source": [
    "#Vhexargs = {'xkey':'Vxhex', 'ykey':'Vyhex'}\n",
    "#Vhdataplot = WB417_CZ_V_dataiv.plot(**Vhexargs)  #plot data\n",
    "#Vhax, Vhobjs = WB417_CZ_V_fitiv.plot(inplot = Vhdataplot, cmap=None, ccont='red', **Vhexargs)  # plot model in red on data in black\n",
    "#WB417_CZ_fitsp.addpoints(Vhax,'red', **Vhexargs )"
   ]
  },
  {
   "cell_type": "code",
   "execution_count": 8,
   "id": "3530289f",
   "metadata": {},
   "outputs": [],
   "source": [
    "#Idataplot = WB417_CZ_I_dataiv.plot()  #plot data\n",
    "#Iax, Iobjs = WB417_CZ_I_fitiv.plot(inplot = Idataplot, cmap=None, ccont='red')  # plot model in red on data in black\n",
    "#WB417_CZ_fitsp.addpoints(Iax, 'red', 'IA', 'IB' )"
   ]
  },
  {
   "cell_type": "code",
   "execution_count": 9,
   "id": "58a5bdfe-b488-473f-9e84-09df4f6e2c69",
   "metadata": {},
   "outputs": [],
   "source": [
    "#Ihexargs = {'xkey':'Ixhex', 'ykey':'Iyhex'}\n",
    "#Ihdataplot = WB417_CZ_I_dataiv.plot(**Ihexargs)  #plot data\n",
    "#Ihax, Ihobjs = WB417_CZ_I_fitiv.plot(inplot = Ihdataplot, cmap=None, ccont='red', **Ihexargs)  # plot model in red on data in black\n",
    "#WB417_CZ_fitsp.addpoints(Ihax, 'red', **Ihexargs )"
   ]
  },
  {
   "cell_type": "code",
   "execution_count": 10,
   "id": "8f62fafb-eeaa-4ea1-91a6-01102d3518a4",
   "metadata": {},
   "outputs": [
    {
     "data": {
      "application/vnd.jupyter.widget-view+json": {
       "model_id": "5f647d4ade9b4474a617ce3705616a9e",
       "version_major": 2,
       "version_minor": 0
      },
      "text/plain": [
       "VBox(children=(HBox(children=(Output(), Output()), layout=Layout(display='flex', flex_flow='row', justify_cont…"
      ]
     },
     "metadata": {},
     "output_type": "display_data"
    }
   ],
   "source": [
    "ui, Vax, Iax = WB417dev3T.controls(WB417_CZ_V_dataiv, WB417_CZ_I_dataiv, hex=False)\n",
    "ui"
   ]
  },
  {
   "cell_type": "code",
   "execution_count": null,
   "id": "7e03f4e2-1be4-4b9c-b52f-7b99751b6e91",
   "metadata": {},
   "outputs": [],
   "source": []
  }
 ],
 "metadata": {
  "kernelspec": {
   "display_name": "Python 3 (ipykernel)",
   "language": "python",
   "name": "python3"
  },
  "language_info": {
   "codemirror_mode": {
    "name": "ipython",
    "version": 3
   },
   "file_extension": ".py",
   "mimetype": "text/x-python",
   "name": "python",
   "nbconvert_exporter": "python",
   "pygments_lexer": "ipython3",
   "version": "3.9.7"
  }
 },
 "nbformat": 4,
 "nbformat_minor": 5
}
