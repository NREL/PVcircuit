{
 "cells": [
  {
   "cell_type": "code",
   "execution_count": 1,
   "id": "aadb3f93",
   "metadata": {},
   "outputs": [],
   "source": [
    "%load_ext autoreload\n",
    "%autoreload 2"
   ]
  },
  {
   "cell_type": "markdown",
   "id": "be801aca",
   "metadata": {},
   "source": [
    "# Compare with 3T model with GaInP/GaAs s-type data (WB417)"
   ]
  },
  {
   "cell_type": "code",
   "execution_count": 2,
   "id": "fcd04291",
   "metadata": {},
   "outputs": [
    {
     "name": "stdout",
     "output_type": "stream",
     "text": [
      "Tandems version 0.989\n",
      "Data path is:  /Users/jgeisz/opt/anaconda3/envs/pvdev/lib/python3.9/site-packages/tandems/data/\n"
     ]
    }
   ],
   "source": [
    "import pandas as pd\n",
    "import numpy as np\n",
    "import matplotlib.pyplot as plt\n",
    "import matplotlib as mpl\n",
    "import pvcircuit as pvc\n",
    "import ipywidgets as widgets\n",
    "#%matplotlib inline\n",
    "#import ipympl\n",
    "%matplotlib widget\n"
   ]
  },
  {
   "cell_type": "code",
   "execution_count": 3,
   "id": "3d7dd5f8-2a35-461c-a5d7-81bceee9093e",
   "metadata": {},
   "outputs": [],
   "source": [
    "# data iv3T vs V\n",
    "path = pvc.datapath\n",
    "fileA = 'WB417n8_Cpapy_CZ_JA.csv'\n",
    "fileB = 'WB417n8_Cpapy_CZ_JB.csv'\n",
    "WB417_CZ_V_dataiv = pvc.IV3T.loadcsv('WB417_CZ_V_dataiv',path,fileA,fileB,'V','CZ') \n",
    "# data iv3T vs I\n",
    "fileA = 'WB417n8_Cpapy_CZ_VA.csv'\n",
    "fileB = 'WB417n8_Cpapy_CZ_VB.csv'\n",
    "WB417_CZ_I_dataiv = pvc.IV3T.loadcsv('WB417_CZ_I_dataiv',path,fileA,fileB,'I','CZ') "
   ]
  },
  {
   "cell_type": "code",
   "execution_count": 4,
   "id": "f471637c-4313-4988-8f8c-1683e5ddf91c",
   "metadata": {},
   "outputs": [],
   "source": [
    "# model\n",
    "WB417dev3T = pvc.Tandem3T()\n",
    "WB417dev3T.set(name='WB417dev3T', Rz = 2.3)\n",
    "WB417dev3T.top.set(Eg=1.87, J0ratio=[ 80., 22.], Jext=0.0131, Gsh=1e-8)   \n",
    "WB417dev3T.bot.set(Eg=1.419, J0ratio=[10., 15.], Jext=0.0128, Gsh= 5e-5,pn=1)\n",
    "WB417dev3T.bot.set(Rser=0.2, beta=5, area=0.89)\n",
    "# special points of model\n",
    "WB417_CZ_fitsp = WB417dev3T.specialpoints(meastype = 'CZ')  # calculate special points of fit\n",
    "WB417_CZ_fitsp.set(name='WB417_CZ_V_fitsp')\n",
    "WB417_CZ_fitsp\n",
    "pltargs={'lw':0, 'ms':7, 'mew':1, 'mec':'black', 'marker':'o', 'label':'fitsp', 'zorder':5}"
   ]
  },
  {
   "cell_type": "code",
   "execution_count": 5,
   "id": "a6820533-dfd5-4848-a4ec-ae3a886a9108",
   "metadata": {},
   "outputs": [],
   "source": [
    "# iv3T of model vs V\n",
    "#WB417_CZ_V_fitiv = WB417_CZ_V_dataiv.copy() # use same range\n",
    "#WB417_CZ_V_fitiv.set(name='WB417_CZ_V_fitiv', meastype = 'CZ')\n",
    "#WB417dev3T.I3Trel(WB417_CZ_V_fitiv)  # calculate fit\n",
    "# iv3T of model vs I\n",
    "#WB417_CZ_I_fitiv = WB417_CZ_I_dataiv.copy() # use same range\n",
    "#WB417_CZ_I_fitiv.set(name='WB417_CZ_I_fitiv', meastype = 'CZ')\n",
    "#WB417dev3T.I3Trel(WB417_CZ_I_fitiv)  # calculate fit"
   ]
  },
  {
   "cell_type": "code",
   "execution_count": 6,
   "id": "7f6561a0",
   "metadata": {},
   "outputs": [],
   "source": [
    "#Vdataplot = WB417_CZ_V_dataiv.plot()  #plot data\n",
    "#Vax, Vobjs = WB417_CZ_V_fitiv.plot(inplot = Vdataplot, cmap=None, ccont='red')  # plot model in red on data in black\n",
    "#WB417_CZ_fitsp.addpoints(Vax, 'red' )"
   ]
  },
  {
   "cell_type": "code",
   "execution_count": 7,
   "id": "da93d2b6",
   "metadata": {},
   "outputs": [],
   "source": [
    "#Vhexargs = {'xkey':'Vxhex', 'ykey':'Vyhex'}\n",
    "#Vhdataplot = WB417_CZ_V_dataiv.plot(**Vhexargs)  #plot data\n",
    "#Vhax, Vhobjs = WB417_CZ_V_fitiv.plot(inplot = Vhdataplot, cmap=None, ccont='red', **Vhexargs)  # plot model in red on data in black\n",
    "#WB417_CZ_fitsp.addpoints(Vhax,'red', **Vhexargs )"
   ]
  },
  {
   "cell_type": "code",
   "execution_count": 8,
   "id": "3530289f",
   "metadata": {},
   "outputs": [],
   "source": [
    "#Idataplot = WB417_CZ_I_dataiv.plot()  #plot data\n",
    "#Iax, Iobjs = WB417_CZ_I_fitiv.plot(inplot = Idataplot, cmap=None, ccont='red')  # plot model in red on data in black\n",
    "#WB417_CZ_fitsp.addpoints(Iax, 'red', 'IA', 'IB' )"
   ]
  },
  {
   "cell_type": "code",
   "execution_count": 9,
   "id": "58a5bdfe-b488-473f-9e84-09df4f6e2c69",
   "metadata": {},
   "outputs": [],
   "source": [
    "#Ihexargs = {'xkey':'Ixhex', 'ykey':'Iyhex'}\n",
    "#Ihdataplot = WB417_CZ_I_dataiv.plot(**Ihexargs)  #plot data\n",
    "#Ihax, Ihobjs = WB417_CZ_I_fitiv.plot(inplot = Ihdataplot, cmap=None, ccont='red', **Ihexargs)  # plot model in red on data in black\n",
    "#WB417_CZ_fitsp.addpoints(Ihax, 'red', **Ihexargs )"
   ]
  },
  {
   "cell_type": "code",
   "execution_count": 10,
   "id": "8f62fafb-eeaa-4ea1-91a6-01102d3518a4",
   "metadata": {},
   "outputs": [
    {
     "data": {
      "application/vnd.jupyter.widget-view+json": {
       "model_id": "d1fb20528b33403a8e8ab16a988da8cf",
       "version_major": 2,
       "version_minor": 0
      },
      "text/plain": [
       "VBox(children=(HBox(children=(Output(), Output()), layout=Layout(display='flex', flex_flow='row', justify_cont…"
      ]
     },
     "metadata": {},
     "output_type": "display_data"
    }
   ],
   "source": [
    "ui, Vax, Iax = WB417dev3T.controls(WB417_CZ_V_dataiv, WB417_CZ_I_dataiv, hex=False)\n",
    "ui"
   ]
  },
  {
   "cell_type": "code",
   "execution_count": 11,
   "id": "37cf83bf-5cb3-4356-80ac-c92b9df31e99",
   "metadata": {},
   "outputs": [
    {
     "data": {
      "text/plain": [
       "MPP21: <pvcircuit.iv3T.IV3T class>\n",
       "{'name': 'MPP21', 'meastype': 'CZ', 'shape': (1,)}\n",
       "sizes(1, 1)\n",
       "\n",
       " #     mIro     mIzo     mIto     Vzt      Vrz      Vtr      mIA      mIB       VA       VB     mPtot    mIxhex   mIyhex   Vxhex    Vyhex  \n",
       "(0,) -11.36    -1.10    12.44    1.318    0.659   -1.976   -11.36    12.44    0.659   -1.318    23.88   -16.83    -1.26    2.329    0.761  "
      ]
     },
     "execution_count": 11,
     "metadata": {},
     "output_type": "execute_result"
    }
   ],
   "source": [
    "VM21, MPP21 = WB417dev3T.VM(2,1)\n",
    "MPP21.addpoints(Vax,'VA','VB', **pltargs)\n",
    "MPP21.addpoints(Iax,'IA','IB', **pltargs)\n",
    "VM21.addpoints(Vax,'VA','VB')\n",
    "VM21.addpoints(Iax,'IA','IB')\n",
    "MPP21"
   ]
  },
  {
   "cell_type": "code",
   "execution_count": 12,
   "id": "3a9c63cf-2aee-407a-a35e-cfb36ee6899e",
   "metadata": {},
   "outputs": [
    {
     "data": {
      "text/plain": [
       "MPP32: <pvcircuit.iv3T.IV3T class>\n",
       "{'name': 'MPP32', 'meastype': 'CZ', 'shape': (1,)}\n",
       "sizes(1, 1)\n",
       "\n",
       " #     mIro     mIzo     mIto     Vzt      Vrz      Vtr      mIA      mIB       VA       VB     mPtot    mIxhex   mIyhex   Vxhex    Vyhex  \n",
       "(0,) -11.05    -1.47    12.50    1.313    0.875   -2.188   -11.05    12.50    0.875   -1.313    26.07   -16.65    -1.69    2.475    1.010  "
      ]
     },
     "execution_count": 12,
     "metadata": {},
     "output_type": "execute_result"
    }
   ],
   "source": [
    "VM32, MPP32 = WB417dev3T.VM(3,2)\n",
    "MPP32.addpoints(Vax,'VA','VB', **pltargs)\n",
    "MPP32.addpoints(Iax,'IA','IB', **pltargs)\n",
    "VM32.addpoints(Vax,'VA','VB')\n",
    "VM32.addpoints(Iax,'IA','IB')\n",
    "MPP32"
   ]
  },
  {
   "cell_type": "code",
   "execution_count": 13,
   "id": "a6e0e701-2e7a-4de2-898f-b0e176a86985",
   "metadata": {},
   "outputs": [
    {
     "data": {
      "text/plain": [
       "MPP11: <pvcircuit.iv3T.IV3T class>\n",
       "{'name': 'MPP11', 'meastype': 'CZ', 'shape': (1,)}\n",
       "sizes(1, 1)\n",
       "\n",
       " #     mIro     mIzo     mIto     Vzt      Vrz      Vtr      mIA      mIB       VA       VB     mPtot    mIxhex   mIyhex   Vxhex    Vyhex  \n",
       "(0,) -10.08    -3.01    13.10    0.949    0.949   -1.898   -10.08    13.10    0.949   -0.949    22.00   -16.39    -3.48    2.014    1.096  "
      ]
     },
     "execution_count": 13,
     "metadata": {},
     "output_type": "execute_result"
    }
   ],
   "source": [
    "VM11, MPP11 = WB417dev3T.VM(1,1)\n",
    "MPP11.addpoints(Vax,'VA','VB', **pltargs)\n",
    "MPP11.addpoints(Iax,'IA','IB', **pltargs)\n",
    "VM11.addpoints(Vax,'VA','VB')\n",
    "VM11.addpoints(Iax,'IA','IB')\n",
    "MPP11"
   ]
  },
  {
   "cell_type": "code",
   "execution_count": 14,
   "id": "316389c6-422d-434b-ba9a-64e06c5cf93f",
   "metadata": {},
   "outputs": [
    {
     "data": {
      "text/plain": [
       "MPP41: <pvcircuit.iv3T.IV3T class>\n",
       "{'name': 'MPP41', 'meastype': 'CZ', 'shape': (1,)}\n",
       "sizes(1, 1)\n",
       "\n",
       " #     mIro     mIzo     mIto     Vzt      Vrz      Vtr      mIA      mIB       VA       VB     mPtot    mIxhex   mIyhex   Vxhex    Vyhex  \n",
       "(0,) -11.38    -1.15    12.51    1.313    0.328   -1.641   -11.38    12.51    0.328   -1.313    20.15   -16.89    -1.31    2.088    0.379  "
      ]
     },
     "execution_count": 14,
     "metadata": {},
     "output_type": "execute_result"
    }
   ],
   "source": [
    "VM41, MPP41 = WB417dev3T.VM(4,1)\n",
    "MPP41.addpoints(Vax,'VA','VB', **pltargs)\n",
    "MPP41.addpoints(Iax,'IA','IB', **pltargs)\n",
    "VM41.addpoints(Vax,'VA','VB')\n",
    "VM41.addpoints(Iax,'IA','IB')\n",
    "MPP41"
   ]
  },
  {
   "cell_type": "code",
   "execution_count": 15,
   "id": "39087bb3-820a-41f2-8847-65c9e3bbad21",
   "metadata": {},
   "outputs": [
    {
     "data": {
      "text/plain": [
       "MPPCM: <pvcircuit.iv3T.IV3T class>\n",
       "{'name': 'MPPCM', 'meastype': 'CZ', 'shape': (1,)}\n",
       "sizes(1, 1)\n",
       "\n",
       " #     mIro     mIzo     mIto     Vzt      Vrz      Vtr      mIA      mIB       VA       VB     mPtot    mIxhex   mIyhex   Vxhex    Vyhex  \n",
       "(0,) -11.09    0.00     11.09    1.370    0.867   -2.238   -11.09    11.09    0.867   -1.370    24.82   -15.69    -0.00    2.551    1.002  "
      ]
     },
     "execution_count": 15,
     "metadata": {},
     "output_type": "execute_result"
    }
   ],
   "source": [
    "CM, MPPCM = WB417dev3T.CM()\n",
    "MPPCM.addpoints(Vax,'VA','VB', **pltargs)\n",
    "MPPCM.addpoints(Iax,'IA','IB', **pltargs)\n",
    "CM.addpoints(Vax,'VA','VB')\n",
    "CM.addpoints(Iax,'IA','IB')\n",
    "MPPCM"
   ]
  },
  {
   "cell_type": "code",
   "execution_count": null,
   "id": "a614a6a0-4891-4307-be3a-49c37d8ba1cd",
   "metadata": {},
   "outputs": [],
   "source": []
  }
 ],
 "metadata": {
  "kernelspec": {
   "display_name": "pvdev",
   "language": "python",
   "name": "pvdev"
  },
  "language_info": {
   "codemirror_mode": {
    "name": "ipython",
    "version": 3
   },
   "file_extension": ".py",
   "mimetype": "text/x-python",
   "name": "python",
   "nbconvert_exporter": "python",
   "pygments_lexer": "ipython3",
   "version": "3.9.12"
  }
 },
 "nbformat": 4,
 "nbformat_minor": 5
}
