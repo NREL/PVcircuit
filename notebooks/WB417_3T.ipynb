{
 "cells": [
  {
   "cell_type": "code",
   "execution_count": 1,
   "id": "aadb3f93",
   "metadata": {},
   "outputs": [],
   "source": [
    "%load_ext autoreload\n",
    "%autoreload 2"
   ]
  },
  {
   "cell_type": "markdown",
   "id": "be801aca",
   "metadata": {},
   "source": [
    "# Compare 3T model with GaInP/GaAs s-type data (WB417)"
   ]
  },
  {
   "cell_type": "code",
   "execution_count": 2,
   "id": "fcd04291",
   "metadata": {},
   "outputs": [
    {
     "name": "stdout",
     "output_type": "stream",
     "text": [
      "Tandems version 0.989\n",
      "Data path is:  /Users/jgeisz/opt/anaconda3/envs/pvdev/lib/python3.9/site-packages/tandems/data/\n"
     ]
    }
   ],
   "source": [
    "import pandas as pd\n",
    "import numpy as np\n",
    "import matplotlib.pyplot as plt\n",
    "import matplotlib as mpl\n",
    "import pvcircuit as pvc\n",
    "import ipywidgets as widgets\n",
    "#%matplotlib inline\n",
    "#import ipympl\n",
    "%matplotlib widget"
   ]
  },
  {
   "cell_type": "code",
   "execution_count": 3,
   "id": "3d7dd5f8-2a35-461c-a5d7-81bceee9093e",
   "metadata": {},
   "outputs": [],
   "source": [
    "# data iv3T vs V\n",
    "path = pvc.datapath\n",
    "fileA = 'WB417n8_Cpapy_CZ_JA.csv'\n",
    "fileB = 'WB417n8_Cpapy_CZ_JB.csv'\n",
    "WB417_CZ_V_dataiv = pvc.IV3T.loadcsv('WB417_CZ_V_dataiv',path,fileA,fileB,'V','CZ') \n",
    "# data iv3T vs I\n",
    "fileA = 'WB417n8_Cpapy_CZ_VA.csv'\n",
    "fileB = 'WB417n8_Cpapy_CZ_VB.csv'\n",
    "WB417_CZ_I_dataiv = pvc.IV3T.loadcsv('WB417_CZ_I_dataiv',path,fileA,fileB,'I','CZ') "
   ]
  },
  {
   "cell_type": "code",
   "execution_count": 4,
   "id": "f471637c-4313-4988-8f8c-1683e5ddf91c",
   "metadata": {},
   "outputs": [],
   "source": [
    "# model\n",
    "WB417dev3T = pvc.Tandem3T()\n",
    "WB417dev3T.set(name='WB417dev3T', Rz = 2.3)\n",
    "WB417dev3T.top.set(Eg=1.87, J0ratio=[ 80., 22.], Jext=0.0131, Gsh=1e-8)   \n",
    "WB417dev3T.bot.set(Eg=1.419, J0ratio=[10., 15.], Jext=0.0128, Gsh= 5e-5,pn=1)\n",
    "WB417dev3T.bot.set(Rser=0.2, beta=5, area=0.89)\n",
    "# special points of model\n",
    "WB417_CZ_fitsp = WB417dev3T.specialpoints(meastype = 'CZ')  # calculate special points of fit\n",
    "WB417_CZ_fitsp.set(name='WB417_CZ_V_fitsp')\n",
    "WB417_CZ_fitsp\n",
    "pltargs={'lw':0, 'ms':7, 'mew':1, 'mec':'black', 'marker':'o', 'label':'fitsp', 'zorder':5}"
   ]
  },
  {
   "cell_type": "code",
   "execution_count": 5,
   "id": "8f62fafb-eeaa-4ea1-91a6-01102d3518a4",
   "metadata": {},
   "outputs": [
    {
     "data": {
      "application/vnd.jupyter.widget-view+json": {
       "model_id": "57492343adf14fe0997f30eeee1372bf",
       "version_major": 2,
       "version_minor": 0
      },
      "text/plain": [
       "VBox(children=(HBox(children=(Output(), Output()), layout=Layout(display='flex', flex_flow='row', justify_cont…"
      ]
     },
     "metadata": {},
     "output_type": "display_data"
    }
   ],
   "source": [
    "ui, Vax, Iax = WB417dev3T.controls(WB417_CZ_V_dataiv, WB417_CZ_I_dataiv, hex=False)\n",
    "ui"
   ]
  },
  {
   "cell_type": "code",
   "execution_count": 6,
   "id": "37cf83bf-5cb3-4356-80ac-c92b9df31e99",
   "metadata": {},
   "outputs": [
    {
     "data": {
      "text/plain": [
       "MPPVM21: <pvcircuit.iv3T.IV3T class>\n",
       "{'name': 'MPPVM21', 'meastype': 'CZ', 'area': 1.0, 'shape': (1,)}\n",
       "sizes(1, 1)\n",
       "\n",
       " #     mIro     mIzo     mIto     Vzt      Vrz      Vtr      mIA      mIB       VA       VB     mPtot    mIxhex   mIyhex   Vxhex    Vyhex  \n",
       "(0,) -11.36    -1.10    12.44    1.318    0.659   -1.976   -11.36    12.44    0.659   -1.318    23.88   -16.83    -1.26    2.329    0.761  "
      ]
     },
     "execution_count": 6,
     "metadata": {},
     "output_type": "execute_result"
    }
   ],
   "source": [
    "VM21, MPP21 = WB417dev3T.VM(2,1)\n",
    "MPP21.addpoints(Vax,'VA','VB', **pltargs)\n",
    "MPP21.addpoints(Iax,'IA','IB', **pltargs)\n",
    "VM21.addpoints(Vax,'VA','VB')\n",
    "VM21.addpoints(Iax,'IA','IB')\n",
    "MPP21"
   ]
  },
  {
   "cell_type": "code",
   "execution_count": 7,
   "id": "3a9c63cf-2aee-407a-a35e-cfb36ee6899e",
   "metadata": {},
   "outputs": [
    {
     "data": {
      "text/plain": [
       "MPPVM32: <pvcircuit.iv3T.IV3T class>\n",
       "{'name': 'MPPVM32', 'meastype': 'CZ', 'area': 1.0, 'shape': (1,)}\n",
       "sizes(1, 1)\n",
       "\n",
       " #     mIro     mIzo     mIto     Vzt      Vrz      Vtr      mIA      mIB       VA       VB     mPtot    mIxhex   mIyhex   Vxhex    Vyhex  \n",
       "(0,) -11.05    -1.47    12.50    1.313    0.875   -2.188   -11.05    12.50    0.875   -1.313    26.07   -16.65    -1.69    2.475    1.010  "
      ]
     },
     "execution_count": 7,
     "metadata": {},
     "output_type": "execute_result"
    }
   ],
   "source": [
    "VM32, MPP32 = WB417dev3T.VM(3,2)\n",
    "MPP32.addpoints(Vax,'VA','VB', **pltargs)\n",
    "MPP32.addpoints(Iax,'IA','IB', **pltargs)\n",
    "VM32.addpoints(Vax,'VA','VB')\n",
    "VM32.addpoints(Iax,'IA','IB')\n",
    "MPP32"
   ]
  },
  {
   "cell_type": "code",
   "execution_count": 8,
   "id": "a6e0e701-2e7a-4de2-898f-b0e176a86985",
   "metadata": {},
   "outputs": [
    {
     "data": {
      "text/plain": [
       "MPPVM11: <pvcircuit.iv3T.IV3T class>\n",
       "{'name': 'MPPVM11', 'meastype': 'CZ', 'area': 1.0, 'shape': (1,)}\n",
       "sizes(1, 1)\n",
       "\n",
       " #     mIro     mIzo     mIto     Vzt      Vrz      Vtr      mIA      mIB       VA       VB     mPtot    mIxhex   mIyhex   Vxhex    Vyhex  \n",
       "(0,) -10.08    -3.01    13.10    0.949    0.949   -1.898   -10.08    13.10    0.949   -0.949    22.00   -16.39    -3.48    2.014    1.096  "
      ]
     },
     "execution_count": 8,
     "metadata": {},
     "output_type": "execute_result"
    }
   ],
   "source": [
    "VM11, MPP11 = WB417dev3T.VM(1,1)\n",
    "MPP11.addpoints(Vax,'VA','VB', **pltargs)\n",
    "MPP11.addpoints(Iax,'IA','IB', **pltargs)\n",
    "VM11.addpoints(Vax,'VA','VB')\n",
    "VM11.addpoints(Iax,'IA','IB')\n",
    "MPP11"
   ]
  },
  {
   "cell_type": "code",
   "execution_count": 9,
   "id": "316389c6-422d-434b-ba9a-64e06c5cf93f",
   "metadata": {},
   "outputs": [
    {
     "data": {
      "text/plain": [
       "MPPVM41: <pvcircuit.iv3T.IV3T class>\n",
       "{'name': 'MPPVM41', 'meastype': 'CZ', 'area': 1.0, 'shape': (1,)}\n",
       "sizes(1, 1)\n",
       "\n",
       " #     mIro     mIzo     mIto     Vzt      Vrz      Vtr      mIA      mIB       VA       VB     mPtot    mIxhex   mIyhex   Vxhex    Vyhex  \n",
       "(0,) -11.38    -1.15    12.51    1.313    0.328   -1.641   -11.38    12.51    0.328   -1.313    20.15   -16.89    -1.31    2.088    0.379  "
      ]
     },
     "execution_count": 9,
     "metadata": {},
     "output_type": "execute_result"
    }
   ],
   "source": [
    "VM41, MPP41 = WB417dev3T.VM(4,1)\n",
    "MPP41.addpoints(Vax,'VA','VB', **pltargs)\n",
    "MPP41.addpoints(Iax,'IA','IB', **pltargs)\n",
    "VM41.addpoints(Vax,'VA','VB')\n",
    "VM41.addpoints(Iax,'IA','IB')\n",
    "MPP41"
   ]
  },
  {
   "cell_type": "code",
   "execution_count": 10,
   "id": "39087bb3-820a-41f2-8847-65c9e3bbad21",
   "metadata": {},
   "outputs": [
    {
     "data": {
      "text/plain": [
       "MPPCM: <pvcircuit.iv3T.IV3T class>\n",
       "{'name': 'MPPCM', 'meastype': 'CZ', 'area': 1.0, 'shape': (1,)}\n",
       "sizes(1, 1)\n",
       "\n",
       " #     mIro     mIzo     mIto     Vzt      Vrz      Vtr      mIA      mIB       VA       VB     mPtot    mIxhex   mIyhex   Vxhex    Vyhex  \n",
       "(0,) -11.09    0.00     11.09    1.370    0.867   -2.238   -11.09    11.09    0.867   -1.370    24.82   -15.69    -0.00    2.551    1.002  "
      ]
     },
     "execution_count": 10,
     "metadata": {},
     "output_type": "execute_result"
    }
   ],
   "source": [
    "CM, MPPCM = WB417dev3T.CM()\n",
    "MPPCM.addpoints(Vax,'VA','VB', **pltargs)\n",
    "MPPCM.addpoints(Iax,'IA','IB', **pltargs)\n",
    "CM.addpoints(Vax,'VA','VB')\n",
    "CM.addpoints(Iax,'IA','IB')\n",
    "MPPCM"
   ]
  },
  {
   "cell_type": "code",
   "execution_count": 11,
   "id": "2ee3c5be-4ecc-4532-989d-b57194608b8a",
   "metadata": {},
   "outputs": [
    {
     "data": {
      "text/plain": [
       "[<matplotlib.lines.Line2D at 0x7f91110839a0>]"
      ]
     },
     "execution_count": 11,
     "metadata": {},
     "output_type": "execute_result"
    },
    {
     "data": {
      "application/vnd.jupyter.widget-view+json": {
       "model_id": "5f6ee06d3a1d4985b551980c2745fa99",
       "version_major": 2,
       "version_minor": 0
      },
      "image/png": "[encoded data removed]",
      "text/html": [
       "\n",
       "            <div style=\"display: inline-block;\">\n",
       "                <div class=\"jupyter-widgets widget-label\" style=\"text-align: center;\">\n",
       "                    Figure\n",
       "                </div>\n",
       "                <img src='data:image/png;base64,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' width=640.0/>\n",
       "            </div>\n",
       "        "
      ],
      "text/plain": [
       "Canvas(toolbar=Toolbar(toolitems=[('Home', 'Reset original view', 'home', 'home'), ('Back', 'Back to previous …"
      ]
     },
     "metadata": {},
     "output_type": "display_data"
    }
   ],
   "source": [
    "dfig, dax = plt.subplots()\n",
    "dax.plot(VM11.VA, VM11.IA)\n",
    "dax.plot(-VM11.VB, -VM11.IB)\n",
    "dax.plot(VM21.VA, VM21.IA)\n",
    "dax.plot(-VM21.VB, -VM21.IB)\n",
    "dax.plot(VM41.VA, VM41.IA)\n",
    "dax.plot(-VM41.VB, -VM41.IB)\n",
    "dax.plot(VM32.VA, VM32.IA)\n",
    "dax.plot(-VM32.VB, -VM32.IB)\n",
    "dax.plot(CM.VA, CM.IA)\n",
    "dax.plot(-CM.VB, -CM.IB)"
   ]
  },
  {
   "cell_type": "code",
   "execution_count": null,
   "id": "101436d1-3832-4afc-825e-5e91eff3b31b",
   "metadata": {},
   "outputs": [],
   "source": []
  }
 ],
 "metadata": {
  "kernelspec": {
   "display_name": "pvdev",
   "language": "python",
   "name": "pvdev"
  },
  "language_info": {
   "codemirror_mode": {
    "name": "ipython",
    "version": 3
   },
   "file_extension": ".py",
   "mimetype": "text/x-python",
   "name": "python",
   "nbconvert_exporter": "python",
   "pygments_lexer": "ipython3",
   "version": "3.9.12"
  }
 },
 "nbformat": 4,
 "nbformat_minor": 5
}
