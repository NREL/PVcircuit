{
 "cells": [
  {
   "cell_type": "code",
   "execution_count": 1,
   "id": "aadb3f93",
   "metadata": {},
   "outputs": [],
   "source": [
    "%load_ext autoreload\n",
    "%autoreload 2"
   ]
  },
  {
   "cell_type": "markdown",
   "id": "be801aca",
   "metadata": {},
   "source": [
    "# Load and plot measurements of WB417. Compare with model"
   ]
  },
  {
   "cell_type": "code",
   "execution_count": 2,
   "id": "fcd04291",
   "metadata": {},
   "outputs": [],
   "source": [
    "import pandas as pd\n",
    "import numpy as np\n",
    "import matplotlib.pyplot as plt\n",
    "import matplotlib as mpl\n",
    "import pvcircuit as pvc\n",
    "import ipywidgets as widgets\n",
    "#%matplotlib inline\n",
    "#import ipympl\n",
    "%matplotlib widget"
   ]
  },
  {
   "cell_type": "code",
   "execution_count": 3,
   "id": "3d7dd5f8-2a35-461c-a5d7-81bceee9093e",
   "metadata": {},
   "outputs": [],
   "source": [
    "# data iv3T vs V\n",
    "path = '../data/'\n",
    "fileA = 'WB417n8_Cpapy_CZ_JA.csv'\n",
    "fileB = 'WB417n8_Cpapy_CZ_JB.csv'\n",
    "WB417_CZ_V_dataiv = pvc.IV3T.loadcsv('WB417_CZ_V_dataiv',path,fileA,fileB,'V','CZ') \n",
    "# data iv3T vs I\n",
    "fileA = 'WB417n8_Cpapy_CZ_VA.csv'\n",
    "fileB = 'WB417n8_Cpapy_CZ_VB.csv'\n",
    "WB417_CZ_I_dataiv = pvc.IV3T.loadcsv('WB417_CZ_I_dataiv',path,fileA,fileB,'I','CZ') "
   ]
  },
  {
   "cell_type": "code",
   "execution_count": 4,
   "id": "f471637c-4313-4988-8f8c-1683e5ddf91c",
   "metadata": {},
   "outputs": [
    {
     "data": {
      "text/plain": [
       "WB417_CZ_V_fitsp: <tandem.IV3T class>\n",
       "{'name': 'WB417_CZ_V_fitsp', 'meastype': 'CZ', 'shape': (6,)}\n",
       "sizes(6, 6)\n",
       "\n",
       "  #      mIro     mIzo     mIto     Vzt      Vrz      Vtr      mIA      mIB       VA       VB     mPtot    mIxhex   mIyhex   Vxhex    Vyhex  \n",
       " Voc3   0.00     0.00     0.00     1.442    1.044   -2.485    0.00     0.00     1.044   -1.442    0.00     0.00     0.00     2.777    1.205  \n",
       " Isc3  -11.39    -1.69    13.10    0.000    0.000   -0.000   -11.39    13.10    0.000    0.000    0.00    -17.32    -1.96    0.000    0.000  \n",
       "VrzIto -11.76    11.76    0.00     1.469    0.000   -1.469   -11.76    0.00     0.000   -1.469    0.00     -8.32    13.58    2.077    0.000  \n",
       "VztIro  0.00    -13.10    13.10    0.000    1.073   -1.073    0.00     13.10    1.073   -0.000    0.00     -9.26   -15.13    0.758    1.239  \n",
       "VtrIzo -11.47    0.00     11.47    1.361   -1.362    0.001   -11.47    11.47   -1.362   -1.361    -0.01   -16.22    0.00     0.962   -1.573  \n",
       " MPP   -10.82    -1.82    12.66    1.296    0.903   -2.199   -10.82    12.66    0.903   -1.296    26.19   -16.61    -2.11    2.472    1.043  "
      ]
     },
     "execution_count": 4,
     "metadata": {},
     "output_type": "execute_result"
    }
   ],
   "source": [
    "# model\n",
    "WB417dev3T = pvc.Tandem3T()\n",
    "WB417dev3T.set(name='WB417dev3T', Rz = 2.3)\n",
    "WB417dev3T.top.set(Eg=1.87, J0ratio=[ 80., 22.], Jext=0.0131, Gsh=1e-8)   \n",
    "WB417dev3T.bot.set(Eg=1.419, J0ratio=[10., 15.], Jext=0.0128, Gsh= 5e-5)\n",
    "WB417dev3T.bot.set(Rser=0.2, beta=5, area=0.89)\n",
    "# special points of model\n",
    "WB417_CZ_fitsp = WB417dev3T.specialpoints(meastype = 'CZ')  # calculate special points of fit\n",
    "WB417_CZ_fitsp.set(name='WB417_CZ_V_fitsp')\n",
    "WB417_CZ_fitsp"
   ]
  },
  {
   "cell_type": "code",
   "execution_count": 5,
   "id": "a6820533-dfd5-4848-a4ec-ae3a886a9108",
   "metadata": {},
   "outputs": [],
   "source": [
    "# iv3T of model vs V\n",
    "#WB417_CZ_V_fitiv = WB417_CZ_V_dataiv.copy() # use same range\n",
    "#WB417_CZ_V_fitiv.set(name='WB417_CZ_V_fitiv', meastype = 'CZ')\n",
    "#WB417dev3T.I3Trel(WB417_CZ_V_fitiv)  # calculate fit\n",
    "# iv3T of model vs I\n",
    "#WB417_CZ_I_fitiv = WB417_CZ_I_dataiv.copy() # use same range\n",
    "#WB417_CZ_I_fitiv.set(name='WB417_CZ_I_fitiv', meastype = 'CZ')\n",
    "#WB417dev3T.I3Trel(WB417_CZ_I_fitiv)  # calculate fit"
   ]
  },
  {
   "cell_type": "code",
   "execution_count": 6,
   "id": "7f6561a0",
   "metadata": {},
   "outputs": [],
   "source": [
    "#Vdataplot = WB417_CZ_V_dataiv.plot()  #plot data\n",
    "#Vax, Vobjs = WB417_CZ_V_fitiv.plot(inplot = Vdataplot, cmap=None, ccont='red')  # plot model in red on data in black\n",
    "#WB417_CZ_fitsp.addpoints(Vax, 'red' )"
   ]
  },
  {
   "cell_type": "code",
   "execution_count": 7,
   "id": "da93d2b6",
   "metadata": {},
   "outputs": [],
   "source": [
    "#Vhexargs = {'xkey':'Vxhex', 'ykey':'Vyhex'}\n",
    "#Vhdataplot = WB417_CZ_V_dataiv.plot(**Vhexargs)  #plot data\n",
    "#Vhax, Vhobjs = WB417_CZ_V_fitiv.plot(inplot = Vhdataplot, cmap=None, ccont='red', **Vhexargs)  # plot model in red on data in black\n",
    "#WB417_CZ_fitsp.addpoints(Vhax,'red', **Vhexargs )"
   ]
  },
  {
   "cell_type": "code",
   "execution_count": 8,
   "id": "3530289f",
   "metadata": {},
   "outputs": [],
   "source": [
    "#Idataplot = WB417_CZ_I_dataiv.plot()  #plot data\n",
    "#Iax, Iobjs = WB417_CZ_I_fitiv.plot(inplot = Idataplot, cmap=None, ccont='red')  # plot model in red on data in black\n",
    "#WB417_CZ_fitsp.addpoints(Iax, 'red', 'IA', 'IB' )"
   ]
  },
  {
   "cell_type": "code",
   "execution_count": 9,
   "id": "58a5bdfe-b488-473f-9e84-09df4f6e2c69",
   "metadata": {},
   "outputs": [],
   "source": [
    "#Ihexargs = {'xkey':'Ixhex', 'ykey':'Iyhex'}\n",
    "#Ihdataplot = WB417_CZ_I_dataiv.plot(**Ihexargs)  #plot data\n",
    "#Ihax, Ihobjs = WB417_CZ_I_fitiv.plot(inplot = Ihdataplot, cmap=None, ccont='red', **Ihexargs)  # plot model in red on data in black\n",
    "#WB417_CZ_fitsp.addpoints(Ihax, 'red', **Ihexargs )"
   ]
  },
  {
   "cell_type": "code",
   "execution_count": 10,
   "id": "3c4a9091-b0ef-417f-a136-9c1b3b8743f9",
   "metadata": {},
   "outputs": [
    {
     "data": {
      "application/vnd.jupyter.widget-view+json": {
       "model_id": "5c88e4a400b4477b89e238f52e0e010a",
       "version_major": 2,
       "version_minor": 0
      },
      "text/plain": [
       "VBox(children=(HBox(children=(Output(), Output()), layout=Layout(display='flex', flex_flow='row', justify_cont…"
      ]
     },
     "metadata": {},
     "output_type": "display_data"
    }
   ],
   "source": [
    "ui, Vax, Iax = WB417dev3T.controls(WB417_CZ_V_dataiv, WB417_CZ_I_dataiv, hex=False)\n",
    "ui"
   ]
  },
  {
   "cell_type": "code",
   "execution_count": 11,
   "id": "f3f7e26e-8254-4d2c-989c-c9ca86fa5c4a",
   "metadata": {},
   "outputs": [
    {
     "data": {
      "text/plain": [
       "WB417_CZ_I_dataiv: <tandem.IV3T class>\n",
       "{'name': 'WB417_CZ_I_dataiv', 'meastype': 'CZ', 'shape': (49, 69), 'xkey': 'IA', 'ykey': 'IB', 'x': (-0.015, 0.019), 'y': (-0.008, 0.016)}\n",
       "sizes(3381, 3381)\n",
       "\n",
       "   #       mIro     mIzo     mIto     Vzt      Vrz      Vtr      mIA      mIB       VA       VB     mPtot    mIxhex   mIyhex   Vxhex    Vyhex  \n",
       " (0, 0)  -15.00    23.00    -8.00    1.535   -1.928    0.393   -15.00    -8.00   -1.928   -1.535   -41.20    -4.95    26.56    0.808   -2.226  \n",
       " (0, 1)  -14.50    22.50    -8.00    1.534   -1.778    0.244   -14.50    -8.00   -1.778   -1.534   -38.05    -4.60    25.98    0.912   -2.053  \n",
       " (0, 2)  -14.00    22.00    -8.00    1.532   -1.627    0.095   -14.00    -8.00   -1.627   -1.532   -35.03    -4.24    25.40    1.016   -1.878  \n",
       " (0, 3)  -13.50    21.50    -8.00    1.530   -1.408   -0.122   -13.50    -8.00   -1.408   -1.530   -31.25    -3.89    24.83    1.168   -1.626  \n",
       " (0, 4)  -13.00    21.00    -8.00    1.529   -1.124   -0.404   -13.00    -8.00   -1.124   -1.529   -26.85    -3.54    24.25    1.367   -1.298  \n",
       " (0, 5)  -12.50    20.50    -8.00    1.527    0.262   -1.789   -12.50    -8.00    0.262   -1.527    -8.93    -3.18    23.67    2.345    0.303  \n",
       " (0, 6)  -12.00    20.00    -8.00    1.526    0.780   -2.305   -12.00    -8.00    0.780   -1.526    -2.85    -2.83    23.09    2.709    0.900  \n",
       " (0, 7)  -11.50    19.50    -8.00    1.524    0.832   -2.356   -11.50    -8.00    0.832   -1.524    -2.63    -2.47    22.52    2.743    0.961  \n",
       " (0, 8)  -11.00    19.00    -8.00    1.522    0.863   -2.385   -11.00    -8.00    0.863   -1.522    -2.69    -2.12    21.94    2.763    0.996  \n",
       " (0, 9)  -10.50    18.50    -8.00    1.521    0.883   -2.404   -10.50    -8.00    0.883   -1.521    -2.89    -1.77    21.36    2.775    1.020  \n",
       "\n",
       "\n",
       "(48, 60)  15.00   -31.00    16.00     nan      nan      nan     15.00    16.00     nan      nan   -100000.00  -0.71   -35.80     nan      nan   \n",
       "(48, 61)  15.50   -31.50    16.00     nan      nan      nan     15.50    16.00     nan      nan   -100000.00  -0.35   -36.37     nan      nan   \n",
       "(48, 62)  16.00   -32.00    16.00     nan      nan      nan     16.00    16.00     nan      nan   -100000.00  0.00    -36.95     nan      nan   \n",
       "(48, 63)  16.50   -32.50    16.00     nan      nan      nan     16.50    16.00     nan      nan   -100000.00  0.35    -37.53     nan      nan   \n",
       "(48, 64)  17.00   -33.00    16.00     nan      nan      nan     17.00    16.00     nan      nan   -100000.00  0.71    -38.11     nan      nan   \n",
       "(48, 65)  17.50   -33.50    16.00     nan      nan      nan     17.50    16.00     nan      nan   -100000.00  1.06    -38.68     nan      nan   \n",
       "(48, 66)  18.00   -34.00    16.00     nan      nan      nan     18.00    16.00     nan      nan   -100000.00  1.41    -39.26     nan      nan   \n",
       "(48, 67)  18.50   -34.50    16.00     nan      nan      nan     18.50    16.00     nan      nan   -100000.00  1.77    -39.84     nan      nan   \n",
       "(48, 68)  19.00   -35.00    16.00     nan      nan      nan     19.00    16.00     nan      nan   -100000.00  2.12    -40.41     nan      nan   "
      ]
     },
     "execution_count": 11,
     "metadata": {},
     "output_type": "execute_result"
    }
   ],
   "source": [
    "WB417_CZ_I_dataiv"
   ]
  },
  {
   "cell_type": "code",
   "execution_count": null,
   "id": "5b6fbd3a-2573-458d-9268-5868dc6378d9",
   "metadata": {},
   "outputs": [],
   "source": []
  }
 ],
 "metadata": {
  "kernelspec": {
   "display_name": "Python 3 (ipykernel)",
   "language": "python",
   "name": "python3"
  },
  "language_info": {
   "codemirror_mode": {
    "name": "ipython",
    "version": 3
   },
   "file_extension": ".py",
   "mimetype": "text/x-python",
   "name": "python",
   "nbconvert_exporter": "python",
   "pygments_lexer": "ipython3",
   "version": "3.9.7"
  }
 },
 "nbformat": 4,
 "nbformat_minor": 5
}
