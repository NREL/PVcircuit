{
 "cells": [
  {
   "cell_type": "code",
   "execution_count": 1,
   "id": "a7915722-ba35-4f64-884d-156ff5f74319",
   "metadata": {},
   "outputs": [],
   "source": [
    "%load_ext autoreload\n",
    "%autoreload 2"
   ]
  },
  {
   "cell_type": "markdown",
   "id": "975dd143-da1c-4814-ac9b-d3eab8ec98f3",
   "metadata": {},
   "source": [
    "### test EY analysis at one location"
   ]
  },
  {
   "cell_type": "code",
   "execution_count": 2,
   "id": "b2c27ce3-bd05-4e25-8122-652c7c21dadb",
   "metadata": {},
   "outputs": [
    {
     "name": "stdout",
     "output_type": "stream",
     "text": [
      "Tandems version 0.989\n",
      "Data path is:  /Users/jgeisz/opt/anaconda3/envs/pvdev/lib/python3.9/site-packages/tandems/data/\n",
      "/Users/jgeisz/Documents/GitHub/PVcircuit/data/\n"
     ]
    }
   ],
   "source": [
    "import pandas as pd\n",
    "import numpy as np\n",
    "import matplotlib.pyplot as plt\n",
    "import pvcircuit as pvc\n",
    "import ipywidgets as widgets\n",
    "%matplotlib widget\n",
    "print(pvc.datapath)"
   ]
  },
  {
   "cell_type": "code",
   "execution_count": 3,
   "id": "fe1d7be0-9ff8-4e94-a6b0-12c83f7d88f4",
   "metadata": {},
   "outputs": [],
   "source": [
    "#import EQE of WB417\n",
    "path = pvc.datapath\n",
    "file = 'WB417n6_C_EQE.csv'\n",
    "df2J = pd.read_csv(path+file, index_col=0)\n",
    "WB417_EQE = df2J.to_numpy(dtype=np.float64, copy=True) #numpy.ndarray\n",
    "WB417_xEQE = df2J.index.to_numpy(dtype=np.float64, copy=True) #numpy.ndarray\n",
    "EQE2J = pvc.EQE(WB417_EQE, WB417_xEQE, 'WB417_EQE')  #EQE class\n",
    "EQE2J.sjuncs = ['GaInP','GaAs']  #rename junctions\n",
    "\n",
    "#import TMY data of Boulder\n",
    "Boulder = pvc.TMY(497)\n",
    "\n",
    "#models of WB417\n",
    "dev3T = pvc.Tandem3T()\n",
    "dev3T.set(name='WB417dev3T', Rz = 2.3)\n",
    "dev3T.top.set(Eg=1.87, J0ratio=[ 80., 22.], Jext=0.0131, Gsh=1e-8)   \n",
    "dev3T.bot.set(Eg=1.419, J0ratio=[10., 15.], Jext=0.0128, Gsh= 5e-5)\n",
    "dev3T.bot.set(Rser=0.2, beta=5, area=0.89)\n",
    "dev2T = pvc.Multi2T.copy3T(dev3T)"
   ]
  },
  {
   "cell_type": "code",
   "execution_count": 4,
   "id": "348ecf73-f39a-4239-9401-48055b7f2d24",
   "metadata": {},
   "outputs": [
    {
     "data": {
      "application/vnd.jupyter.widget-view+json": {
       "model_id": "86e483419a68432fa9ebca89fc9be527",
       "version_major": 2,
       "version_minor": 0
      },
      "text/plain": [
       "VBox(children=(Output(), Output(layout=Layout(height='70px')), HBox(children=(Label(value='EQE: ', description…"
      ]
     },
     "metadata": {},
     "output_type": "display_data"
    }
   ],
   "source": [
    "ui, ax, rax = EQE2J.controls(Pspec='global')\n",
    "ui"
   ]
  },
  {
   "cell_type": "code",
   "execution_count": 5,
   "id": "f913660d-8f05-46ac-85ce-b6cb15c584d4",
   "metadata": {},
   "outputs": [
    {
     "data": {
      "text/plain": [
       "'40.13_-105.22_1616_-7_axis'"
      ]
     },
     "execution_count": 5,
     "metadata": {},
     "output_type": "execute_result"
    }
   ],
   "source": [
    "Boulder = pvc.TMY(497)\n",
    "Boulder.name"
   ]
  },
  {
   "cell_type": "code",
   "execution_count": 6,
   "id": "62fca70c-c3d9-41f2-b28a-1ff0fd0c1cff",
   "metadata": {},
   "outputs": [
    {
     "name": "stdout",
     "output_type": "stream",
     "text": [
      "[[0.016 0.014]\n",
      " [0.013 0.013]\n",
      " [0.011 0.012]] [1348.043 1000.471  900.187] 2082.870057087224\n"
     ]
    }
   ],
   "source": [
    "Boulder.cellbandgaps(EQE2J, 25)\n",
    "Boulder.cellcurrents(EQE2J, STC=True)\n",
    "Boulder.cellcurrents(EQE2J)\n",
    "print(Boulder.JscSTCs, Boulder.RefPower, Boulder.YearlyEnergy)"
   ]
  },
  {
   "cell_type": "code",
   "execution_count": null,
   "id": "6fd8269a-701b-4dd4-80ee-a23252c98b78",
   "metadata": {},
   "outputs": [],
   "source": [
    "#cfglist = ['VM11','VM43','VM32','VM21','VM31','VM41','MPP','CM']\n",
    "iref = 1 #global\n",
    "ncells = 60\n",
    "model = dev3T   #pointer?\n",
    "\n",
    "operlist = pvc.EY.VMlist(9)\n",
    "num = len(operlist)\n",
    "ratio = [0] * num\n",
    "sEY = [0] * num\n",
    "rEY = [0] * num\n",
    "sEYeff = [0] * num\n",
    "rEYeff = [0] * num\n",
    "sSTCeff = [0] * num\n",
    "rSTCeff = [0] * num\n",
    "sloss = [0] * num\n",
    "rloss = [0] * num\n",
    "\n",
    "for i, oper in enumerate(operlist):\n",
    "    model.bot.set(pn=1) #s-type \n",
    "    bot, top, ratio[i], type3T= pvc.EY.cellmodeldesc(model,oper)\n",
    "    sloss[i] = pvc.EY.VMloss(type3T, bot, top, ncells)\n",
    "    sSTCeff[i] = Boulder.cellSTCeff(model,oper)\n",
    "    sEY[i], sEYeff[i] = Boulder.cellEYeff(model,oper)\n",
    "    \n",
    "    model.bot.set(pn=-1) #r-type \n",
    "    bot, top, ratio[i], type3T = pvc.EY.cellmodeldesc(model,oper)\n",
    "    rloss[i] = pvc.EY.VMloss(type3T, bot, top, ncells)\n",
    "    rSTCeff[i] = Boulder.cellSTCeff(model,oper)\n",
    "    rEY[i], rEYeff[i] = Boulder.cellEYeff(model,oper)    "
   ]
  },
  {
   "cell_type": "code",
   "execution_count": null,
   "id": "06e7c116-c64c-4fee-a482-422567072a3e",
   "metadata": {},
   "outputs": [],
   "source": [
    "df = pd.DataFrame()\n",
    "df['operlist'] = operlist\n",
    "df['ratio'] = ratio\n",
    "df['sEY'] = sEY\n",
    "df['rEY'] = rEY\n",
    "df['sEYeff'] = sEYeff\n",
    "df['rEYeff'] = rEYeff\n",
    "df['sSTCeff'] = sSTCeff\n",
    "df['rSTCeff'] = rSTCeff\n",
    "df['sloss'] = sloss\n",
    "df['rloss'] = rloss"
   ]
  },
  {
   "cell_type": "code",
   "execution_count": null,
   "id": "49ff31ec-e6c4-4088-8cae-497df29c2bc7",
   "metadata": {},
   "outputs": [],
   "source": [
    "fig, ax = plt.subplots()\n",
    "ax.plot(df['ratio'], 100*df['sSTCeff'], c='black', ms=3, lw=0, marker='s', label='s-type cell STC')\n",
    "ax.plot(df['ratio'], 100*df['rSTCeff'], c='blue', ms=3, lw=0, marker='o', label='r-type cell STC')\n",
    "ax.plot(df['ratio'], 100*df['sEYeff']*df['sloss'], c='black', ms=10, lw=0, marker='s', label='s-type module(60cells) yield')\n",
    "ax.plot(df['ratio'], 100*df['rEYeff']*df['rloss'], c='blue', ms=10, lw=0, marker='o', label='r-type module(60cells) yield')\n",
    "ax.set_ylim(15,30)\n",
    "ax.set_ylabel('Efficiency (%)')\n",
    "ax.set_xlabel('Voltage-Matching Ratio (m/n)')\n",
    "ax.text(3,16,'3T', ha='center')\n",
    "ax.text(0,20,'2T', ha='center', rotation='vertical')\n",
    "ax.text(-0.5,22,'4T', ha='center', rotation='vertical')\n",
    "ax.legend()"
   ]
  },
  {
   "cell_type": "code",
   "execution_count": null,
   "id": "e754c38f-7a66-40ad-b5f3-cf00c5880df6",
   "metadata": {},
   "outputs": [],
   "source": []
  }
 ],
 "metadata": {
  "kernelspec": {
   "display_name": "pvdev",
   "language": "python",
   "name": "pvdev"
  },
  "language_info": {
   "codemirror_mode": {
    "name": "ipython",
    "version": 3
   },
   "file_extension": ".py",
   "mimetype": "text/x-python",
   "name": "python",
   "nbconvert_exporter": "python",
   "pygments_lexer": "ipython3",
   "version": "3.9.12"
  }
 },
 "nbformat": 4,
 "nbformat_minor": 5
}
