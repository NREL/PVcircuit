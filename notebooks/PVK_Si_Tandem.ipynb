{
 "cells": [
  {
   "cell_type": "code",
   "execution_count": 1,
   "id": "375d4fb4-1c7e-4336-985b-1c9a3df4c731",
   "metadata": {},
   "outputs": [],
   "source": [
    "%load_ext autoreload\n",
    "%autoreload 2"
   ]
  },
  {
   "cell_type": "markdown",
   "id": "6c764eec-216a-4db4-883e-c22fbe94a887",
   "metadata": {},
   "source": [
    "# simulate 2T and 4T Perovskite/Si IBC tandems"
   ]
  },
  {
   "cell_type": "code",
   "execution_count": 2,
   "id": "5db22fdb-07ae-4891-8f09-2cdf139a2dfb",
   "metadata": {},
   "outputs": [],
   "source": [
    "import pandas as pd\n",
    "import numpy as np\n",
    "import matplotlib.pyplot as plt\n",
    "import pvcircuit as pvc\n",
    "import ipywidgets as widgets\n",
    "%matplotlib widget"
   ]
  },
  {
   "cell_type": "code",
   "execution_count": 3,
   "id": "a1355795-114a-4ef0-80ae-240894491225",
   "metadata": {},
   "outputs": [],
   "source": [
    "# data Si IBC 1J, 2T\n",
    "path = '../data/'\n",
    "ISFH = 'ISFH_32-14.csv'\n",
    "dfISFH = pd.read_csv(path+ISFH, index_col=0)\n",
    "#parse\n",
    "ISFH_darkV=np.array(dfISFH.index)\n",
    "ISFH_darkI=np.array(dfISFH['darkI'])\n",
    "ISFH_lightV=np.array(dfISFH['lightV'])\n",
    "ISFH_lightI=np.array(dfISFH['lightI'])"
   ]
  },
  {
   "cell_type": "code",
   "execution_count": 4,
   "id": "d8de417f-6b01-472e-aaa0-ec9054d4aa07",
   "metadata": {},
   "outputs": [],
   "source": [
    "# model 4T Pvk/Si tandem as 3T with Rz=0\n",
    "Algt = 3.97\n",
    "Adrk = 9.\n",
    "PvkSi3T = pvc.Tandem3T(name='PvkSi3T', Eg_list=[1.7, 1.1], Rz=0)\n",
    "PvkSi3T.top.set(Jext=0.02, area=Algt) #Pvk top\n",
    "PvkSi3T.bot.set(Jext=0.015, Gsh=8.58e-4, J0ratio = [100., 10.], Rser = 0.5, lightarea=Algt, totalarea=Adrk) #Si bottom\n",
    "\n",
    "# model 2T Pvk/Si tandem\n",
    "PvkSi2T = pvc.Multi2T.copy3T(PvkSi3T, copy=False)\n",
    "PvkSi2T.set(name='PvkSi2T')\n",
    "\n",
    "# model independent Pvk and Si 2T cells \n",
    "SiIBC = pvc.Multi2T.single(PvkSi2T.j[1], copy=False)\n",
    "SiIBC.set(name='SiIBC')\n",
    "\n",
    "PVK = pvc.Multi2T.single(PvkSi2T.j[0], copy=False)\n",
    "PVK.set(name='PVK')"
   ]
  },
  {
   "cell_type": "code",
   "execution_count": 5,
   "id": "a332762d-f09f-4d66-9bca-823c3d42874b",
   "metadata": {},
   "outputs": [
    {
     "data": {
      "application/vnd.jupyter.widget-view+json": {
       "model_id": "d6e40a454eb44f48a56ca7326daebe24",
       "version_major": 2,
       "version_minor": 0
      },
      "text/plain": [
       "VBox(children=(HBox(children=(Output(), Output()), layout=Layout(display='flex', flex_flow='row', justify_cont…"
      ]
     },
     "metadata": {},
     "output_type": "display_data"
    }
   ],
   "source": [
    "ui, dax, lax = PvkSi2T.controls()\n",
    "ui"
   ]
  },
  {
   "cell_type": "code",
   "execution_count": 6,
   "id": "f43aa1fc-7292-4ef4-8784-d6955051473d",
   "metadata": {},
   "outputs": [],
   "source": [
    "# add data to interactive plots\n",
    "#dax.plot(ISFH_darkV, ISFH_darkI, c='red', lw=0, marker='.', label='pISFH', zorder=0)\n",
    "#dax.plot(ISFH_darkV, -ISFH_darkI, c='red', lw=0, marker='.', label='nISFH', zorder=0)\n",
    "#lax.plot(ISFH_darkV, ISFH_darkI*1000, c='red', lw=0, marker='.', label='dISFH', zorder=0)\n",
    "#lax.plot(ISFH_lightV, ISFH_lightI*1000, c='red', lw=0, marker='.', label='lISFH', zorder=0)"
   ]
  },
  {
   "cell_type": "code",
   "execution_count": 7,
   "id": "446dcf15-9d9b-4ee4-b3d5-d214ec9fcab1",
   "metadata": {},
   "outputs": [
    {
     "data": {
      "text/plain": [
       "SiIBC: <tandem.Multi2T class>\n",
       "T = 25.0 C, Rs2T= 0.5 Ω cm2\n",
       "\n",
       "bot: <tandem.Junction class>\n",
       "Eg = 1.10 eV, TC = 25.0 C\n",
       "Jext = 15.0 , JLC = 6.6 mA/cm2\n",
       "Gsh = 0.000858 S/cm2, Rser = 0.5 Ωcm2\n",
       "lightA = 3.97 cm2, totalA = 9 cm2\n",
       "pn = 1, beta = 15, gamma = 0\n",
       "   n    J0ratio   J0(A/cm2) \n",
       "  db       1      1.314e-16 \n",
       " 1.00    100.00   1.314e-14 \n",
       " 2.00    10.00    3.625e-09 "
      ]
     },
     "execution_count": 7,
     "metadata": {},
     "output_type": "execute_result"
    }
   ],
   "source": [
    "SiIBC"
   ]
  },
  {
   "cell_type": "code",
   "execution_count": 8,
   "id": "56b0af30-3f93-486f-8375-e8b16c7699d3",
   "metadata": {},
   "outputs": [
    {
     "data": {
      "text/plain": [
       "PVK: <tandem.Multi2T class>\n",
       "T = 25.0 C, Rs2T= 0 Ω cm2\n",
       "\n",
       "top: <tandem.Junction class>\n",
       "Eg = 1.70 eV, TC = 25.0 C\n",
       "Jext = 20.0 , JLC = 0.0 mA/cm2\n",
       "Gsh = 0 S/cm2, Rser = 0 Ωcm2\n",
       "lightA = 3.97 cm2, totalA = 3.97 cm2\n",
       "pn = -1, beta = 0, gamma = 0\n",
       "   n    J0ratio   J0(A/cm2) \n",
       "  db       1      2.226e-26 \n",
       " 1.00    10.00    2.226e-25 \n",
       " 2.00    10.00    4.718e-14 "
      ]
     },
     "execution_count": 8,
     "metadata": {},
     "output_type": "execute_result"
    }
   ],
   "source": [
    "PVK"
   ]
  },
  {
   "cell_type": "code",
   "execution_count": 9,
   "id": "574e79c2-a40e-4e2e-b7c9-26db563c8c9f",
   "metadata": {},
   "outputs": [
    {
     "data": {
      "text/plain": [
       "({'Voc': 1.340087793745591,\n",
       "  'Isc': 0.07939999206018734,\n",
       "  'Vmp': 1.2046685353172681,\n",
       "  'Imp': 0.07635103236507615,\n",
       "  'Pmp': 0.09197768632919762,\n",
       "  'FF': 0.8644278897006379},\n",
       " {'Voc': 0.6795314866401672,\n",
       "  'Isc': 0.0595244916169012,\n",
       "  'Vmp': 0.5779034768234874,\n",
       "  'Imp': 0.05164821088615283,\n",
       "  'Pmp': 0.029847680642820413,\n",
       "  'FF': 0.7379132514513326},\n",
       " 0.12182536697201803)"
      ]
     },
     "execution_count": 9,
     "metadata": {},
     "output_type": "execute_result"
    }
   ],
   "source": [
    "PVK.MPP(), SiIBC.MPP(), PVK.MPP()['Pmp']+SiIBC.MPP()['Pmp']"
   ]
  },
  {
   "cell_type": "code",
   "execution_count": 10,
   "id": "9563d192-ea0e-4ed1-b814-07d92a2459e9",
   "metadata": {},
   "outputs": [
    {
     "data": {
      "text/plain": [
       "MPP: <tandem.IV3T class>\n",
       "{'name': 'MPP', 'meastype': 'CZ', 'shape': (1,)}\n",
       "sizes(1, 1)\n",
       "\n",
       " #     mIro     mIzo     mIto     Vzt      Vrz      Vtr      mIA      mIB       VA       VB     mPtot    mIxhex   mIyhex   Vxhex    Vyhex  \n",
       "(0,) -51.59   -23.84    75.43    1.217    0.584   -1.801   -51.59    75.43    0.584   -1.217   121.93   -89.82   -27.53    2.134    0.674  "
      ]
     },
     "execution_count": 10,
     "metadata": {},
     "output_type": "execute_result"
    }
   ],
   "source": [
    "PvkSi3T.MPP()"
   ]
  },
  {
   "cell_type": "code",
   "execution_count": 11,
   "id": "3eb23689-6228-4c3d-9b89-6376fb320de6",
   "metadata": {},
   "outputs": [
    {
     "data": {
      "text/plain": [
       "PvkSi3T: <tandem.Tandem3T class>\n",
       "T = 25.0 C, Rz= 0 Ω cm2, Rt= 0 Ω cm2, Rr = 0.5 Ω cm2\n",
       "\n",
       "top: <tandem.Junction class>\n",
       "Eg = 1.70 eV, TC = 25.0 C\n",
       "Jext = 20.0 , JLC = 0.0 mA/cm2\n",
       "Gsh = 0 S/cm2, Rser = 0 Ωcm2\n",
       "lightA = 3.97 cm2, totalA = 3.97 cm2\n",
       "pn = -1, beta = 0, gamma = 0\n",
       "   n    J0ratio   J0(A/cm2) \n",
       "  db       1      2.226e-26 \n",
       " 1.00    10.00    2.226e-25 \n",
       " 2.00    10.00    4.718e-14 \n",
       "\n",
       "bot: <tandem.Junction class>\n",
       "Eg = 1.10 eV, TC = 25.0 C\n",
       "Jext = 15.0 , JLC = 0.0 mA/cm2\n",
       "Gsh = 0.000858 S/cm2, Rser = 0.5 Ωcm2\n",
       "lightA = 3.97 cm2, totalA = 9 cm2\n",
       "pn = 1, beta = 15, gamma = 0\n",
       "   n    J0ratio   J0(A/cm2) \n",
       "  db       1      1.314e-16 \n",
       " 1.00    100.00   1.314e-14 \n",
       " 2.00    10.00    3.625e-09 "
      ]
     },
     "execution_count": 11,
     "metadata": {},
     "output_type": "execute_result"
    }
   ],
   "source": [
    "PvkSi3T"
   ]
  },
  {
   "cell_type": "code",
   "execution_count": 12,
   "id": "fc10758d-bdc7-44de-9851-aa5e4cebaff1",
   "metadata": {},
   "outputs": [
    {
     "data": {
      "text/plain": [
       "PvkSi2T: <tandem.Multi2T class>\n",
       "T = 25.0 C, Rs2T= 0.5 Ω cm2\n",
       "\n",
       "top: <tandem.Junction class>\n",
       "Eg = 1.70 eV, TC = 25.0 C\n",
       "Jext = 20.0 , JLC = 0.0 mA/cm2\n",
       "Gsh = 0 S/cm2, Rser = 0 Ωcm2\n",
       "lightA = 3.97 cm2, totalA = 3.97 cm2\n",
       "pn = -1, beta = 0, gamma = 0\n",
       "   n    J0ratio   J0(A/cm2) \n",
       "  db       1      2.226e-26 \n",
       " 1.00    10.00    2.226e-25 \n",
       " 2.00    10.00    4.718e-14 \n",
       "\n",
       "bot: <tandem.Junction class>\n",
       "Eg = 1.10 eV, TC = 25.0 C\n",
       "Jext = 15.0 , JLC = 0.0 mA/cm2\n",
       "Gsh = 0.000858 S/cm2, Rser = 0.5 Ωcm2\n",
       "lightA = 3.97 cm2, totalA = 9 cm2\n",
       "pn = 1, beta = 15, gamma = 0\n",
       "   n    J0ratio   J0(A/cm2) \n",
       "  db       1      1.314e-16 \n",
       " 1.00    100.00   1.314e-14 \n",
       " 2.00    10.00    3.625e-09 "
      ]
     },
     "execution_count": 12,
     "metadata": {},
     "output_type": "execute_result"
    }
   ],
   "source": [
    "PvkSi2T"
   ]
  },
  {
   "cell_type": "code",
   "execution_count": null,
   "id": "20988fce-5cbe-4438-99cb-731bad412d5f",
   "metadata": {},
   "outputs": [],
   "source": []
  }
 ],
 "metadata": {
  "kernelspec": {
   "display_name": "pvdev",
   "language": "python",
   "name": "pvdev"
  },
  "language_info": {
   "codemirror_mode": {
    "name": "ipython",
    "version": 3
   },
   "file_extension": ".py",
   "mimetype": "text/x-python",
   "name": "python",
   "nbconvert_exporter": "python",
   "pygments_lexer": "ipython3",
   "version": "3.9.7"
  }
 },
 "nbformat": 4,
 "nbformat_minor": 5
}
