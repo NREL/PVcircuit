{
 "cells": [
  {
   "cell_type": "code",
   "execution_count": 1,
   "id": "375d4fb4-1c7e-4336-985b-1c9a3df4c731",
   "metadata": {},
   "outputs": [],
   "source": [
    "%load_ext autoreload\n",
    "%autoreload 2"
   ]
  },
  {
   "cell_type": "markdown",
   "id": "6c764eec-216a-4db4-883e-c22fbe94a887",
   "metadata": {},
   "source": [
    "# simulate 2T and 4T Perovskite/Si IBC tandems"
   ]
  },
  {
   "cell_type": "code",
   "execution_count": 2,
   "id": "5db22fdb-07ae-4891-8f09-2cdf139a2dfb",
   "metadata": {},
   "outputs": [],
   "source": [
    "import pandas as pd\n",
    "import numpy as np\n",
    "import matplotlib.pyplot as plt\n",
    "import pvcircuit as pvc\n",
    "import ipywidgets as widgets\n",
    "%matplotlib widget"
   ]
  },
  {
   "cell_type": "code",
   "execution_count": 3,
   "id": "a1355795-114a-4ef0-80ae-240894491225",
   "metadata": {},
   "outputs": [],
   "source": [
    "# data Si IBC 1J, 2T\n",
    "path = '../data/'\n",
    "ISFH = 'ISFH_32-14.csv'\n",
    "dfISFH = pd.read_csv(path+ISFH, index_col=0)\n",
    "#parse\n",
    "ISFH_darkV=np.array(dfISFH.index)\n",
    "ISFH_darkI=np.array(dfISFH['darkI'])\n",
    "ISFH_lightV=np.array(dfISFH['lightV'])\n",
    "ISFH_lightI=np.array(dfISFH['lightI'])"
   ]
  },
  {
   "cell_type": "code",
   "execution_count": 4,
   "id": "d8de417f-6b01-472e-aaa0-ec9054d4aa07",
   "metadata": {},
   "outputs": [],
   "source": [
    "# model 4T Pvk/Si tandem as 3T with Rz=0\n",
    "Algt = 3.97\n",
    "Adrk = 9.\n",
    "PvkSi3T = pvc.Tandem3T(name='PvkSi3T', Eg_list=[1.7, 1.1], Rz=0)\n",
    "PvkSi3T.top.set(Jext=0.02, area=Algt) #Pvk top\n",
    "#PvkSi3T.top.set(Eg=1.70, Jext=.016, n=[1.0,2.0],J0ratio=[1580,20.0], Gsh=6.92e-7) #Pvk top\n",
    "PvkSi3T.top.set(Eg=1.53, Jext=.024, n=[1.0,2.1],J0ratio=[12.6,10.0], Gsh=8.7e-7)\n",
    "PvkSi3T.bot.set(Jext=(.04-PvkSi3T.top.Jext), Gsh=8.58e-4, J0ratio = [100., 10.], Rser = 0.5, lightarea=Algt, totalarea=Adrk) #Si bottom\n",
    "\n",
    "# model 2T Pvk/Si tandem\n",
    "PvkSi2T = pvc.Multi2T.copy3T(PvkSi3T, copy=False)\n",
    "PvkSi2T.set(name='PvkSi2T')\n",
    "\n",
    "# model independent Pvk and Si 2T cells \n",
    "SiIBC = pvc.Multi2T.single(PvkSi2T.j[1], copy=False)\n",
    "SiIBC.set(name='SiIBC')\n",
    "\n",
    "PVK = pvc.Multi2T.single(PvkSi2T.j[0], copy=False)\n",
    "PVK.set(name='PVK')"
   ]
  },
  {
   "cell_type": "code",
   "execution_count": 5,
   "id": "a332762d-f09f-4d66-9bca-823c3d42874b",
   "metadata": {},
   "outputs": [
    {
     "data": {
      "application/vnd.jupyter.widget-view+json": {
       "model_id": "3dc0ebcbee2f49ccbd442a6ac683b2d2",
       "version_major": 2,
       "version_minor": 0
      },
      "text/plain": [
       "VBox(children=(HBox(children=(Output(), Output()), layout=Layout(display='flex', flex_flow='row', justify_cont…"
      ]
     },
     "metadata": {},
     "output_type": "display_data"
    }
   ],
   "source": [
    "ui, dax, lax = PvkSi2T.controls()\n",
    "ui"
   ]
  },
  {
   "cell_type": "code",
   "execution_count": 6,
   "id": "f43aa1fc-7292-4ef4-8784-d6955051473d",
   "metadata": {},
   "outputs": [],
   "source": [
    "# add data to interactive plots\n",
    "#dax.plot(ISFH_darkV, ISFH_darkI, c='red', lw=0, marker='.', label='pISFH', zorder=0)\n",
    "#dax.plot(ISFH_darkV, -ISFH_darkI, c='red', lw=0, marker='.', label='nISFH', zorder=0)\n",
    "#lax.plot(ISFH_darkV, ISFH_darkI*1000, c='red', lw=0, marker='.', label='dISFH', zorder=0)\n",
    "#lax.plot(ISFH_lightV, ISFH_lightI*1000, c='red', lw=0, marker='.', label='lISFH', zorder=0)"
   ]
  },
  {
   "cell_type": "code",
   "execution_count": 7,
   "id": "446dcf15-9d9b-4ee4-b3d5-d214ec9fcab1",
   "metadata": {},
   "outputs": [
    {
     "data": {
      "text/plain": [
       "SiIBC: <tandem.Multi2T class>\n",
       "T = 25.0 C, Rs2T= 0.5 Ω cm2\n",
       "\n",
       "bot: <tandem.Junction class>\n",
       "Eg = 1.10 eV, TC = 25.0 C\n",
       "Jext = 16.0 , JLC = 7.2 mA/cm2\n",
       "Gsh = 0.000858 S/cm2, Rser = 0.5 Ωcm2\n",
       "lightA = 3.97 cm2, totalA = 9 cm2\n",
       "pn = 1, beta = 15, gamma = 0\n",
       "   n    J0ratio   J0(A/cm2) \n",
       "  db       1      1.314e-16 \n",
       " 1.00    100.00   1.314e-14 \n",
       " 2.00    10.00    3.625e-09 "
      ]
     },
     "execution_count": 7,
     "metadata": {},
     "output_type": "execute_result"
    }
   ],
   "source": [
    "SiIBC"
   ]
  },
  {
   "cell_type": "code",
   "execution_count": 8,
   "id": "56b0af30-3f93-486f-8375-e8b16c7699d3",
   "metadata": {},
   "outputs": [
    {
     "data": {
      "text/plain": [
       "PVK: <tandem.Multi2T class>\n",
       "T = 25.0 C, Rs2T= 0 Ω cm2\n",
       "\n",
       "top: <tandem.Junction class>\n",
       "Eg = 1.53 eV, TC = 25.0 C\n",
       "Jext = 24.0 , JLC = 0.0 mA/cm2\n",
       "Gsh = 8.7e-07 S/cm2, Rser = 0 Ωcm2\n",
       "lightA = 3.97 cm2, totalA = 3.97 cm2\n",
       "pn = -1, beta = 0, gamma = 0\n",
       "   n    J0ratio   J0(A/cm2) \n",
       "  db       1      1.352e-23 \n",
       " 1.00    12.60    1.704e-22 \n",
       " 2.10    10.00    3.456e-12 "
      ]
     },
     "execution_count": 8,
     "metadata": {},
     "output_type": "execute_result"
    }
   ],
   "source": [
    "PVK"
   ]
  },
  {
   "cell_type": "code",
   "execution_count": 9,
   "id": "574e79c2-a40e-4e2e-b7c9-26db563c8c9f",
   "metadata": {},
   "outputs": [
    {
     "data": {
      "text/plain": [
       "({'Voc': 1.1774323590856905,\n",
       "  'Isc': 0.09527999906092074,\n",
       "  'Vmp': 1.05023487267018,\n",
       "  'Imp': 0.09099621030314174,\n",
       "  'Pmp': 0.095567393341189,\n",
       "  'FF': 0.8518674597781558},\n",
       " {'Voc': 0.6816819432101322,\n",
       "  'Isc': 0.06349278888390125,\n",
       "  'Vmp': 0.580534584502412,\n",
       "  'Imp': 0.05535555306054046,\n",
       "  'Pmp': 0.03213581299590208,\n",
       "  'FF': 0.7424771584371637},\n",
       " 0.1277032063370911)"
      ]
     },
     "execution_count": 9,
     "metadata": {},
     "output_type": "execute_result"
    }
   ],
   "source": [
    "PVK.MPP(), SiIBC.MPP(), PVK.MPP()['Pmp']+SiIBC.MPP()['Pmp']"
   ]
  },
  {
   "cell_type": "code",
   "execution_count": 10,
   "id": "9563d192-ea0e-4ed1-b814-07d92a2459e9",
   "metadata": {},
   "outputs": [
    {
     "data": {
      "text/plain": [
       "MPP: <tandem.IV3T class>\n",
       "{'name': 'MPP', 'meastype': 'CZ', 'shape': (1,)}\n",
       "sizes(1, 1)\n",
       "\n",
       " #     mIro     mIzo     mIto     Vzt      Vrz      Vtr      mIA      mIB       VA       VB     mPtot    mIxhex   mIyhex   Vxhex    Vyhex  \n",
       "(0,) -56.09   -34.43    90.52    1.055    0.579   -1.634   -56.09    90.52    0.579   -1.055   127.98   -103.66  -39.76    1.902    0.668  "
      ]
     },
     "execution_count": 10,
     "metadata": {},
     "output_type": "execute_result"
    }
   ],
   "source": [
    "PvkSi3T.MPP()"
   ]
  },
  {
   "cell_type": "code",
   "execution_count": 11,
   "id": "89082cd0-bbda-4ee0-8dfa-9a24e6b48621",
   "metadata": {},
   "outputs": [
    {
     "name": "stdout",
     "output_type": "stream",
     "text": [
      "32.23784683024895\n"
     ]
    }
   ],
   "source": [
    "print(PvkSi3T.MPP().Ptot[0]/Algt*1000)"
   ]
  },
  {
   "cell_type": "code",
   "execution_count": null,
   "id": "8d1e353c-7043-47a6-a2a5-029a87e09a88",
   "metadata": {},
   "outputs": [],
   "source": []
  }
 ],
 "metadata": {
  "kernelspec": {
   "display_name": "pvdev",
   "language": "python",
   "name": "pvdev"
  },
  "language_info": {
   "codemirror_mode": {
    "name": "ipython",
    "version": 3
   },
   "file_extension": ".py",
   "mimetype": "text/x-python",
   "name": "python",
   "nbconvert_exporter": "python",
   "pygments_lexer": "ipython3",
   "version": "3.9.7"
  }
 },
 "nbformat": 4,
 "nbformat_minor": 5
}
