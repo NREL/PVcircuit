{
 "cells": [
  {
   "cell_type": "code",
   "execution_count": 1,
   "id": "f6946c13-1d9e-4481-b705-ec76dba0acee",
   "metadata": {},
   "outputs": [],
   "source": [
    "import matplotlib.pyplot as plt\n",
    "import numpy as np\n",
    "import asyncio\n",
    "import time\n",
    "%matplotlib widget"
   ]
  },
  {
   "cell_type": "code",
   "execution_count": 2,
   "id": "5de1a82e-299e-4ca9-ab85-d42c339535a1",
   "metadata": {},
   "outputs": [],
   "source": [
    "from ipywidgets import interact, interactive"
   ]
  },
  {
   "cell_type": "code",
   "execution_count": 3,
   "id": "9d2eee2e-30ed-42c0-b294-b978717d2961",
   "metadata": {},
   "outputs": [
    {
     "data": {
      "application/vnd.jupyter.widget-view+json": {
       "model_id": "3a17c42b99494c98a15ca3f55771d4b7",
       "version_major": 2,
       "version_minor": 0
      },
      "text/plain": [
       "Canvas(toolbar=Toolbar(toolitems=[('Home', 'Reset original view', 'home', 'home'), ('Back', 'Back to previous …"
      ]
     },
     "metadata": {},
     "output_type": "display_data"
    },
    {
     "data": {
      "application/vnd.jupyter.widget-view+json": {
       "model_id": "dd74d9075cc64888a053e5b9728d8cb8",
       "version_major": 2,
       "version_minor": 0
      },
      "text/plain": [
       "interactive(children=(FloatSlider(value=1.0, description='p', max=2.0, min=0.01, step=0.01), Output()), _dom_c…"
      ]
     },
     "metadata": {},
     "output_type": "display_data"
    },
    {
     "name": "stderr",
     "output_type": "stream",
     "text": [
      "Task exception was never retrieved\n",
      "future: <Task finished name='Task-3' coro=<update() done, defined at /var/folders/xx/blfrx7kn7cz6_svqcwjbz7mxqnfdv3/T/ipykernel_87816/153896514.py:10> exception=KeyError('default')>\n",
      "Traceback (most recent call last):\n",
      "  File \"/Users/jgeisz/opt/anaconda3/envs/pvdev/lib/python3.9/site-packages/matplotlib/backend_bases.py\", line 3025, in _wait_cursor_for_draw_cm\n",
      "    self.canvas.set_cursor(tools.Cursors.WAIT)\n",
      "  File \"/Users/jgeisz/opt/anaconda3/envs/pvdev/lib/python3.9/site-packages/matplotlib/backends/backend_webagg_core.py\", line 210, in set_cursor\n",
      "    self.send_event('cursor', cursor=cursor)\n",
      "  File \"/Users/jgeisz/opt/anaconda3/envs/pvdev/lib/python3.9/site-packages/matplotlib/backends/backend_webagg_core.py\", line 392, in send_event\n",
      "    self.manager._send_event(event_type, **kwargs)\n",
      "  File \"/Users/jgeisz/opt/anaconda3/envs/pvdev/lib/python3.9/site-packages/matplotlib/backends/backend_webagg_core.py\", line 541, in _send_event\n",
      "    s.send_json(payload)\n",
      "  File \"/Users/jgeisz/opt/anaconda3/envs/pvdev/lib/python3.9/site-packages/ipympl/backend_nbagg.py\", line 181, in send_json\n",
      "    self._cursor = cursors_str[content['cursor']]\n",
      "KeyError: 'wait'\n",
      "\n",
      "During handling of the above exception, another exception occurred:\n",
      "\n",
      "Traceback (most recent call last):\n",
      "  File \"/var/folders/xx/blfrx7kn7cz6_svqcwjbz7mxqnfdv3/T/ipykernel_87816/153896514.py\", line 14, in update\n",
      "    fig.canvas.draw()\n",
      "  File \"/Users/jgeisz/opt/anaconda3/envs/pvdev/lib/python3.9/site-packages/matplotlib/backends/backend_webagg_core.py\", line 188, in draw\n",
      "    super().draw()\n",
      "  File \"/Users/jgeisz/opt/anaconda3/envs/pvdev/lib/python3.9/site-packages/matplotlib/backends/backend_agg.py\", line 433, in draw\n",
      "    with RendererAgg.lock, \\\n",
      "  File \"/Users/jgeisz/opt/anaconda3/envs/pvdev/lib/python3.9/contextlib.py\", line 119, in __enter__\n",
      "    return next(self.gen)\n",
      "  File \"/Users/jgeisz/opt/anaconda3/envs/pvdev/lib/python3.9/site-packages/matplotlib/backend_bases.py\", line 3028, in _wait_cursor_for_draw_cm\n",
      "    self.canvas.set_cursor(self._lastCursor)\n",
      "  File \"/Users/jgeisz/opt/anaconda3/envs/pvdev/lib/python3.9/site-packages/matplotlib/backends/backend_webagg_core.py\", line 210, in set_cursor\n",
      "    self.send_event('cursor', cursor=cursor)\n",
      "  File \"/Users/jgeisz/opt/anaconda3/envs/pvdev/lib/python3.9/site-packages/matplotlib/backends/backend_webagg_core.py\", line 392, in send_event\n",
      "    self.manager._send_event(event_type, **kwargs)\n",
      "  File \"/Users/jgeisz/opt/anaconda3/envs/pvdev/lib/python3.9/site-packages/matplotlib/backends/backend_webagg_core.py\", line 541, in _send_event\n",
      "    s.send_json(payload)\n",
      "  File \"/Users/jgeisz/opt/anaconda3/envs/pvdev/lib/python3.9/site-packages/ipympl/backend_nbagg.py\", line 181, in send_json\n",
      "    self._cursor = cursors_str[content['cursor']]\n",
      "KeyError: 'default'\n"
     ]
    }
   ],
   "source": [
    "def quick_plot(p):\n",
    "    x = np.linspace(0, 2*np.pi, 200)\n",
    "    y = np.sin(x/(p))\n",
    "    time.sleep(0.01) # imagingary thing takes 10 ms\n",
    "    \n",
    "    loop = asyncio.get_event_loop()\n",
    "    loop.create_task(update(x, y));\n",
    "\n",
    "fig = plt.figure(figsize=(5,3))\n",
    "async def update(x, y):\n",
    "        await asyncio.sleep(0.0)\n",
    "        plt.clf()\n",
    "        plt.plot(x, y)\n",
    "        fig.canvas.draw()\n",
    "ui = interactive(quick_plot,p=(0.01,2,0.01))\n",
    "display(ui)"
   ]
  },
  {
   "cell_type": "code",
   "execution_count": null,
   "id": "bdd10df8-662e-43f6-8221-e10d2a98ea08",
   "metadata": {},
   "outputs": [],
   "source": []
  }
 ],
 "metadata": {
  "kernelspec": {
   "display_name": "pvdev",
   "language": "python",
   "name": "pvdev"
  },
  "language_info": {
   "codemirror_mode": {
    "name": "ipython",
    "version": 3
   },
   "file_extension": ".py",
   "mimetype": "text/x-python",
   "name": "python",
   "nbconvert_exporter": "python",
   "pygments_lexer": "ipython3",
   "version": "3.9.7"
  }
 },
 "nbformat": 4,
 "nbformat_minor": 5
}
