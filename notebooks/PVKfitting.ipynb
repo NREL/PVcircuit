{
 "cells": [
  {
   "cell_type": "code",
   "execution_count": 1,
   "id": "4195e060-84aa-4961-96c8-efd2bf7a23a5",
   "metadata": {},
   "outputs": [],
   "source": [
    "%load_ext autoreload\n",
    "%autoreload 2"
   ]
  },
  {
   "cell_type": "markdown",
   "id": "48c4c612-d1ce-4caa-80ee-79ef108b8c0b",
   "metadata": {},
   "source": [
    "### Perovskite fitting"
   ]
  },
  {
   "cell_type": "code",
   "execution_count": 2,
   "id": "0a945655-a921-466c-9dca-ecc44925c489",
   "metadata": {},
   "outputs": [],
   "source": [
    "import pandas as pd\n",
    "import numpy as np\n",
    "import matplotlib.pyplot as plt\n",
    "import pvcircuit as pvc\n",
    "import ipywidgets as widgets\n",
    "%matplotlib widget"
   ]
  },
  {
   "cell_type": "code",
   "execution_count": 3,
   "id": "05da96d0-123c-4528-9a25-594cffd3b5f3",
   "metadata": {},
   "outputs": [],
   "source": [
    "# data Si IBC 1J, 2T\n",
    "path = '../data/'\n",
    "PVK170file = 'QI0926J_C.csv'\n",
    "PVK153file = 'QI0926P_D.csv'\n",
    "dfPVK170 = pd.read_csv(path+PVK170file, index_col=False, header=0)\n",
    "dfPVK153 = pd.read_csv(path+PVK153file, index_col=False, header=0)\n",
    "#parse\n",
    "#PVK170 =dfPVK170.to_numpy(dtype=np.float64, copy=True) \n",
    "#PVK153 =dfPVK153.to_numpy(dtype=np.float64, copy=True) "
   ]
  },
  {
   "cell_type": "code",
   "execution_count": 4,
   "id": "05aed27e-a237-4526-ac8d-27bf19ea392c",
   "metadata": {},
   "outputs": [],
   "source": [
    "# model starting with ISFH fit\n",
    "A = 0.112\n",
    "PVK = pvc.Multi2T(name='PVK',Eg_list=[1.7],Rs2T=0,Jext=.02,n=[1., 2.],area=A)"
   ]
  },
  {
   "cell_type": "code",
   "execution_count": 5,
   "id": "52a1765c-69ce-4d63-93dd-3cb4b8ef07d8",
   "metadata": {},
   "outputs": [
    {
     "data": {
      "application/vnd.jupyter.widget-view+json": {
       "model_id": "dd142824c81942f78ca54d0115c0bbeb",
       "version_major": 2,
       "version_minor": 0
      },
      "text/plain": [
       "VBox(children=(HBox(children=(Output(), Output()), layout=Layout(display='flex', flex_flow='row', justify_cont…"
      ]
     },
     "metadata": {},
     "output_type": "display_data"
    }
   ],
   "source": [
    "ui, dax, lax = PVK.controls()\n",
    "ui"
   ]
  },
  {
   "cell_type": "code",
   "execution_count": 6,
   "id": "96bbe6da-1951-43ee-94f4-f324f4ca6d00",
   "metadata": {},
   "outputs": [
    {
     "name": "stdout",
     "output_type": "stream",
     "text": [
      "dfPVK170 Index(['QI0926J_C_forD_V', 'QI0926J_C_forD', 'QI0926J_C_forL_V',\n",
      "       'QI0926J_C_forL', 'QI0926J_C_revD_V', 'QI0926J_C_revD',\n",
      "       'QI0926J_C_revL_V', 'QI0926J_C_revL'],\n",
      "      dtype='object')\n",
      "dfPVK153 Index(['QI0926P_D_forD_V', 'QI0926P_D_forD', 'QI0926P_D_forL_V',\n",
      "       'QI0926P_D_forL', 'QI0926P_D_revD_V', 'QI0926P_D_revD',\n",
      "       'QI0926P_D_revL_V', 'QI0926P_D_revL'],\n",
      "      dtype='object')\n"
     ]
    }
   ],
   "source": [
    "print('dfPVK170',dfPVK170.columns)\n",
    "print('dfPVK153',dfPVK153.columns)"
   ]
  },
  {
   "cell_type": "code",
   "execution_count": 7,
   "id": "6ed663d9-7424-4e39-8959-faf0ba9df36e",
   "metadata": {},
   "outputs": [
    {
     "data": {
      "text/plain": [
       "[<matplotlib.lines.Line2D at 0x7fd4d118e580>]"
      ]
     },
     "execution_count": 7,
     "metadata": {},
     "output_type": "execute_result"
    }
   ],
   "source": [
    "lw=2\n",
    "c='blue'\n",
    "sam='170'\n",
    "ndata='QI0926J_C_'\n",
    "df=dfPVK170\n",
    "dax.plot(df[ndata+'forD_V'], df[ndata+'forD']*A/1000, c=c, lw=lw, label='p'+sam+'for',zorder=0)\n",
    "dax.plot(df[ndata+'forD_V'], -df[ndata+'forD']*A/1000, c=c, lw=lw, label='n'+sam+'for',zorder=0)\n",
    "dax.plot(df[ndata+'revD_V'], df[ndata+'revD']*A/1000, c=c, lw=lw, ls='--',label='p'+sam+'rev',zorder=0)\n",
    "dax.plot(df[ndata+'revD_V'], -df[ndata+'revD']*A/1000, c=c, lw=lw, ls='--',label='n'+sam+'rev',zorder=0)\n",
    "lax.plot(df[ndata+'forD_V'], df[ndata+'forD']*A, c=c, lw=lw, label='d'+sam+'for',zorder=0)\n",
    "lax.plot(df[ndata+'revD_V'], df[ndata+'revD']*A, c=c, lw=lw, ls='--',label='d'+sam+'rev',zorder=0)\n",
    "lax.plot(df[ndata+'forL_V'], df[ndata+'forL']*A, c=c, lw=lw, label='l'+sam+'for',zorder=0)\n",
    "lax.plot(df[ndata+'revL_V'], df[ndata+'revL']*A, c=c, lw=lw, ls='--',label='l'+sam+'rev',zorder=0)\n",
    "c='red'\n",
    "sam='153'\n",
    "ndata='QI0926P_D_'\n",
    "df=dfPVK153\n",
    "dax.plot(df[ndata+'forD_V'], df[ndata+'forD']*A/1000, c=c, lw=lw, label='p'+sam+'for',zorder=0)\n",
    "dax.plot(df[ndata+'forD_V'], -df[ndata+'forD']*A/1000, c=c, lw=lw, label='n'+sam+'for',zorder=0)\n",
    "dax.plot(df[ndata+'revD_V'], df[ndata+'revD']*A/1000, c=c, lw=lw, ls='--',label='p'+sam+'rev',zorder=0)\n",
    "dax.plot(df[ndata+'revD_V'], -df[ndata+'revD']*A/1000, c=c, lw=lw, ls='--',label='n'+sam+'rev',zorder=0)\n",
    "lax.plot(df[ndata+'forD_V'], df[ndata+'forD']*A, c=c, lw=lw, label='d'+sam+'for',zorder=0)\n",
    "lax.plot(df[ndata+'revD_V'], df[ndata+'revD']*A, c=c, lw=lw, ls='--',label='d'+sam+'rev',zorder=0)\n",
    "lax.plot(df[ndata+'forL_V'], df[ndata+'forL']*A, c=c, lw=lw, label='l'+sam+'for',zorder=0)\n",
    "lax.plot(df[ndata+'revL_V'], df[ndata+'revL']*A, c=c, lw=lw, ls='--',label='l'+sam+'rev',zorder=0)"
   ]
  },
  {
   "cell_type": "code",
   "execution_count": 8,
   "id": "5a7219c2-eaa4-4cd2-8e0e-488c59e63f48",
   "metadata": {},
   "outputs": [],
   "source": [
    "#1.53 eV fit\n",
    "PVK.j[0].set(Eg=1.53, Jext=.024, n=[1.0,2.1],J0ratio=[12.6,10.0], Gsh=8.7e-7)\n",
    "PVK.set(Rs2T=3.7)\n",
    "PVK.update()"
   ]
  },
  {
   "cell_type": "code",
   "execution_count": 9,
   "id": "4d434152-a0fc-499b-b5df-71c404d0e138",
   "metadata": {},
   "outputs": [],
   "source": [
    "#1.7 eV fit\n",
    "#PVK.j[0].set(Eg=1.70, Jext=.016, n=[1.0,2.0],J0ratio=[1580,20.0], Gsh=6.92e-7)\n",
    "#PVK.set(Rs2T=5.25)\n",
    "#PVK.update()"
   ]
  },
  {
   "cell_type": "code",
   "execution_count": null,
   "id": "921c4fe3-462c-4962-959a-de36059a4b15",
   "metadata": {},
   "outputs": [],
   "source": []
  }
 ],
 "metadata": {
  "kernelspec": {
   "display_name": "pvdev",
   "language": "python",
   "name": "pvdev"
  },
  "language_info": {
   "codemirror_mode": {
    "name": "ipython",
    "version": 3
   },
   "file_extension": ".py",
   "mimetype": "text/x-python",
   "name": "python",
   "nbconvert_exporter": "python",
   "pygments_lexer": "ipython3",
   "version": "3.9.7"
  }
 },
 "nbformat": 4,
 "nbformat_minor": 5
}
