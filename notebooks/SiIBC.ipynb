{
 "cells": [
  {
   "cell_type": "code",
   "execution_count": 1,
   "id": "05551908",
   "metadata": {},
   "outputs": [],
   "source": [
    "%load_ext autoreload\n",
    "%autoreload 2"
   ]
  },
  {
   "cell_type": "code",
   "execution_count": 2,
   "id": "3e491dbc",
   "metadata": {},
   "outputs": [],
   "source": [
    "import pandas as pd\n",
    "import numpy as np\n",
    "import matplotlib.pyplot as plt\n",
    "import pvcircuit as pvc\n",
    "import ipywidgets as widgets\n",
    "#%matplotlib inline\n",
    "#import ipympl\n",
    "%matplotlib widget"
   ]
  },
  {
   "cell_type": "markdown",
   "id": "632fc0b7",
   "metadata": {},
   "source": [
    "# Modeled 3T Si IBC performance from ISFH 153"
   ]
  },
  {
   "cell_type": "code",
   "execution_count": 3,
   "id": "9ff19fa0",
   "metadata": {},
   "outputs": [],
   "source": [
    "IBC = pvc.Tandem3T()\n",
    "IBC.top.set(Eg=1.1, Jext=.00, Rser=2, Gsh=0, pn=0, J0ratio=[0,0])\n",
    "IBC.bot.set(Eg=1.1, Jext=.031, Rser=0, Gsh=0, J0ratio=[200,200],area=1)\n",
    "IBC.bot.set(RBB=None)\n",
    "IBC.set(Rz = 1, name='Si IBC')"
   ]
  },
  {
   "cell_type": "code",
   "execution_count": 4,
   "id": "994482d3",
   "metadata": {},
   "outputs": [
    {
     "data": {
      "application/vnd.jupyter.widget-view+json": {
       "model_id": "901c0996b55b41438c5105703621958c",
       "version_major": 2,
       "version_minor": 0
      },
      "text/plain": [
       "VBox(children=(HBox(children=(Output(), Output()), layout=Layout(display='flex', flex_flow='row', justify_cont…"
      ]
     },
     "metadata": {},
     "output_type": "display_data"
    }
   ],
   "source": [
    "pnts=51\n",
    "ui, Vax, Iax = IBC.controls(None, None, meastype='CR', hex=True)\n",
    "ui"
   ]
  },
  {
   "cell_type": "code",
   "execution_count": 5,
   "id": "60de16e1",
   "metadata": {},
   "outputs": [
    {
     "data": {
      "application/vnd.jupyter.widget-view+json": {
       "model_id": "126711923400456e9f519bbf71480821",
       "version_major": 2,
       "version_minor": 0
      },
      "text/plain": [
       "Canvas(toolbar=Toolbar(toolitems=[('Home', 'Reset original view', 'home', 'home'), ('Back', 'Back to previous …"
      ]
     },
     "metadata": {},
     "output_type": "display_data"
    },
    {
     "data": {
      "application/vnd.jupyter.widget-view+json": {
       "model_id": "7ae6af6d68a04539a330a05f6b0fa608",
       "version_major": 2,
       "version_minor": 0
      },
      "text/plain": [
       "Canvas(toolbar=Toolbar(toolitems=[('Home', 'Reset original view', 'home', 'home'), ('Back', 'Back to previous …"
      ]
     },
     "metadata": {},
     "output_type": "display_data"
    },
    {
     "name": "stdout",
     "output_type": "stream",
     "text": [
      "axs[0]: 51pnts , 4.5173 s\n"
     ]
    },
    {
     "data": {
      "application/vnd.jupyter.widget-view+json": {
       "model_id": "af41c50aed7849dea21b2234b50554a8",
       "version_major": 2,
       "version_minor": 0
      },
      "text/plain": [
       "Canvas(toolbar=Toolbar(toolitems=[('Home', 'Reset original view', 'home', 'home'), ('Back', 'Back to previous …"
      ]
     },
     "metadata": {},
     "output_type": "display_data"
    },
    {
     "data": {
      "application/vnd.jupyter.widget-view+json": {
       "model_id": "b3ce0f02cde64b6ba5b30c21db785fb3",
       "version_major": 2,
       "version_minor": 0
      },
      "text/plain": [
       "Canvas(toolbar=Toolbar(toolitems=[('Home', 'Reset original view', 'home', 'home'), ('Back', 'Back to previous …"
      ]
     },
     "metadata": {},
     "output_type": "display_data"
    },
    {
     "name": "stdout",
     "output_type": "stream",
     "text": [
      "axs[1]: 51pnts , 1.0029 s\n"
     ]
    }
   ],
   "source": [
    "CR_axs, CR_iv, CR_sp = IBC.plot(pnts=pnts,meastype='CR')"
   ]
  },
  {
   "cell_type": "code",
   "execution_count": 6,
   "id": "5b2b71ee",
   "metadata": {},
   "outputs": [
    {
     "data": {
      "text/plain": [
       "(-70.0, 120.0)"
      ]
     },
     "execution_count": 6,
     "metadata": {},
     "output_type": "execute_result"
    }
   ],
   "source": [
    "CR_axs[1].set_xlim(-.5,1.0)\n",
    "CR_axs[1].set_ylim(-.5,1.0)\n",
    "CR_axs[3].set_xlim(-100,50)\n",
    "CR_axs[3].set_ylim(-70,120)"
   ]
  },
  {
   "cell_type": "code",
   "execution_count": null,
   "id": "30d028d1-1f57-4789-b6f1-e82a23f2204d",
   "metadata": {},
   "outputs": [],
   "source": []
  }
 ],
 "metadata": {
  "kernelspec": {
   "display_name": "Python 3 (ipykernel)",
   "language": "python",
   "name": "python3"
  },
  "language_info": {
   "codemirror_mode": {
    "name": "ipython",
    "version": 3
   },
   "file_extension": ".py",
   "mimetype": "text/x-python",
   "name": "python",
   "nbconvert_exporter": "python",
   "pygments_lexer": "ipython3",
   "version": "3.9.7"
  }
 },
 "nbformat": 4,
 "nbformat_minor": 5
}
